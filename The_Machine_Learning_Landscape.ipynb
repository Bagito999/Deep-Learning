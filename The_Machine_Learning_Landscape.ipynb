{
  "nbformat": 4,
  "nbformat_minor": 0,
  "metadata": {
    "colab": {
      "provenance": [],
      "gpuType": "T4",
      "authorship_tag": "ABX9TyOotCz3Qc42WuTbhxLzkIi9",
      "include_colab_link": true
    },
    "kernelspec": {
      "name": "python3",
      "display_name": "Python 3"
    },
    "language_info": {
      "name": "python"
    },
    "accelerator": "GPU"
  },
  "cells": [
    {
      "cell_type": "markdown",
      "metadata": {
        "id": "view-in-github",
        "colab_type": "text"
      },
      "source": [
        "<a href=\"https://colab.research.google.com/github/Bagito999/Deep-Learning/blob/main/The_Machine_Learning_Landscape.ipynb\" target=\"_parent\"><img src=\"https://colab.research.google.com/assets/colab-badge.svg\" alt=\"Open In Colab\"/></a>"
      ]
    },
    {
      "cell_type": "code",
      "source": [
        "# Setup dan import\n",
        "import sys\n",
        "assert sys.version_info >= (3, 5)\n",
        "\n",
        "import sklearn\n",
        "assert sklearn.__version__ >= \"0.20\"\n",
        "\n",
        "import matplotlib.pyplot as plt\n",
        "import numpy as np\n",
        "import pandas as pd"
      ],
      "metadata": {
        "id": "b-gf9PiidskZ"
      },
      "execution_count": 6,
      "outputs": []
    },
    {
      "cell_type": "code",
      "source": [
        "# Mengambil data dari GitHub jika perlu\n",
        "import os\n",
        "DOWNLOAD_ROOT = \"https://raw.githubusercontent.com/ageron/handson-ml2/master/\"\n",
        "datapath = os.path.join(\"datasets\", \"lifesat\")\n",
        "os.makedirs(datapath, exist_ok=True)\n",
        "\n",
        "# Unduh data\n",
        "import urllib.request\n",
        "oecd_url = DOWNLOAD_ROOT + \"datasets/lifesat/oecd_bli_2015.csv\"\n",
        "gdp_url = DOWNLOAD_ROOT + \"datasets/lifesat/gdp_per_capita.csv\"\n",
        "\n",
        "urllib.request.urlretrieve(oecd_url, os.path.join(datapath, \"oecd_bli_2015.csv\"))\n",
        "urllib.request.urlretrieve(gdp_url, os.path.join(datapath, \"gdp_per_capita.csv\"))"
      ],
      "metadata": {
        "colab": {
          "base_uri": "https://localhost:8080/"
        },
        "id": "DoZsR4zXez7m",
        "outputId": "d8aaa5dc-1909-4235-b211-87e1676f5d51"
      },
      "execution_count": 7,
      "outputs": [
        {
          "output_type": "execute_result",
          "data": {
            "text/plain": [
              "('datasets/lifesat/gdp_per_capita.csv',\n",
              " <http.client.HTTPMessage at 0x7ee659339b50>)"
            ]
          },
          "metadata": {},
          "execution_count": 7
        }
      ]
    },
    {
      "cell_type": "code",
      "source": [
        "# Fungsi untuk menyiapkan data\n",
        "def prepare_country_stats(oecd_bli, gdp_per_capita):\n",
        "    oecd_bli = oecd_bli[oecd_bli[\"INEQUALITY\"]==\"TOT\"]\n",
        "    oecd_bli = oecd_bli.pivot(index=\"Country\", columns=\"Indicator\", values=\"Value\")\n",
        "    gdp_per_capita.rename(columns={\"2015\": \"GDP per capita\"}, inplace=True)\n",
        "    gdp_per_capita.set_index(\"Country\", inplace=True)\n",
        "    full_stats = pd.merge(oecd_bli, gdp_per_capita, left_index=True, right_index=True)\n",
        "    full_stats.sort_values(by=\"GDP per capita\", inplace=True)\n",
        "    exclude = [0, 1, 6, 8, 33, 34, 35]\n",
        "    return full_stats[[\"GDP per capita\", \"Life satisfaction\"]].drop(full_stats.index[exclude])"
      ],
      "metadata": {
        "id": "TzbeqCzme38H"
      },
      "execution_count": 8,
      "outputs": []
    },
    {
      "cell_type": "code",
      "source": [
        "# Load data dan siapkan dataset\n",
        "oecd_bli = pd.read_csv(os.path.join(datapath, \"oecd_bli_2015.csv\"), thousands=\",\")\n",
        "gdp_per_capita = pd.read_csv(os.path.join(datapath, \"gdp_per_capita.csv\"), thousands=\",\", delimiter=\"\\t\", encoding=\"latin1\")\n",
        "country_stats = prepare_country_stats(oecd_bli, gdp_per_capita)\n",
        "\n",
        "# Visualisasi\n",
        "country_stats.plot(kind='scatter', x=\"GDP per capita\", y=\"Life satisfaction\")\n",
        "plt.title(\"GDP vs Life Satisfaction\")\n",
        "plt.grid(True)\n",
        "plt.show()\n",
        "\n",
        "# Model regresi linear sederhana\n",
        "from sklearn.linear_model import LinearRegression\n",
        "\n",
        "X = country_stats[[\"GDP per capita\"]]\n",
        "y = country_stats[\"Life satisfaction\"]\n",
        "\n",
        "model = LinearRegression()\n",
        "model.fit(X, y)\n",
        "\n",
        "# Prediksi untuk negara baru\n",
        "X_new = [[22587]]  # Contoh GDP\n",
        "print(\"Prediksi:\", model.predict(X_new)[0])"
      ],
      "metadata": {
        "colab": {
          "base_uri": "https://localhost:8080/",
          "height": 524
        },
        "id": "5jGMt6dWe6JF",
        "outputId": "8bc84edd-ae36-4137-fdfd-2315cdb19163"
      },
      "execution_count": 9,
      "outputs": [
        {
          "output_type": "display_data",
          "data": {
            "text/plain": [
              "<Figure size 640x480 with 1 Axes>"
            ],
            "image/png": "[encoded data removed]"
          },
          "metadata": {}
        },
        {
          "output_type": "stream",
          "name": "stdout",
          "text": [
            "Prediksi: 5.962423376619663\n"
          ]
        },
        {
          "output_type": "stream",
          "name": "stderr",
          "text": [
            "/usr/local/lib/python3.11/dist-packages/sklearn/utils/validation.py:2739: UserWarning: X does not have valid feature names, but LinearRegression was fitted with feature names\n",
            "  warnings.warn(\n"
          ]
        }
      ]
    },
    {
      "cell_type": "markdown",
      "source": [
        "#  Analisis Regresi Linear: GDP vs Life Satisfaction\n",
        "\n",
        "## 🔹 Ringkasan Proses\n",
        "\n",
        "- **Setup dan Import**:\n",
        "  - Memastikan versi Python ≥ 3.5 dan Scikit-Learn ≥ 0.20.\n",
        "  - Mengimpor library standar: NumPy, Pandas, Matplotlib, dan modul dari Scikit-Learn.\n",
        "\n",
        "- **Pengambilan Data**:\n",
        "  - Data diunduh dari GitHub (OECD BLI 2015 dan GDP per capita tahun 2015).\n",
        "  - Data disimpan secara lokal dalam folder `datasets/lifesat`.\n",
        "\n",
        "- **Persiapan Data**:\n",
        "  - Data OECD difilter untuk hanya mengambil nilai rata-rata (`INEQUALITY == \"TOT\"`).\n",
        "  - Data GDP diubah nama kolom dan di-set index berdasarkan negara.\n",
        "  - Kedua data digabung berdasarkan nama negara.\n",
        "  - Beberapa negara outlier dihapus untuk menjaga kualitas model.\n",
        "\n",
        "- **Visualisasi**:\n",
        "  - Data divisualisasikan menggunakan scatter plot untuk menunjukkan hubungan antara GDP per kapita dan tingkat kepuasan hidup.\n",
        "  - Terlihat tren positif bahwa semakin tinggi GDP, cenderung semakin tinggi life satisfaction.\n",
        "\n",
        "- **Pembuatan Model**:\n",
        "  - Model Regresi Linear sederhana dibuat dengan fitur `GDP per capita` untuk memprediksi `Life satisfaction`.\n",
        "  - Model dilatih menggunakan data yang sudah dibersihkan.\n",
        "\n",
        "- **Prediksi**:\n",
        "  - Model digunakan untuk memprediksi kepuasan hidup suatu negara dengan GDP sebesar **22.587 USD**.\n",
        "  - **Hasil prediksi life satisfaction**: **≈ 5.96**\n",
        "\n",
        "##  Kesimpulan\n",
        "\n",
        "- Terdapat hubungan **linear positif** antara pendapatan per kapita dan tingkat kepuasan hidup di negara-negara OECD.\n",
        "- Model regresi sederhana mampu memberikan **prediksi yang masuk akal** terhadap life satisfaction berdasarkan GDP.\n",
        "- Meski sederhana, model ini dapat digunakan untuk estimasi awal, namun hasilnya tidak boleh dijadikan kesimpulan final karena:\n",
        "  - Tidak mempertimbangkan faktor non-ekonomi.\n",
        "  - Hanya menggunakan 1 variabel prediktor (`GDP`).\n",
        "  - Beberapa negara tidak termasuk dalam training karena outlier atau data tidak lengkap."
      ],
      "metadata": {
        "id": "iOc5XSBl08uL"
      }
    }
  ]
}