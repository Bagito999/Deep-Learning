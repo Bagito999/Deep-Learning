{
  "nbformat": 4,
  "nbformat_minor": 0,
  "metadata": {
    "colab": {
      "provenance": [],
      "gpuType": "T4",
      "authorship_tag": "ABX9TyMZtI/7c2XRXLF/WX8b33Hl",
      "include_colab_link": true
    },
    "kernelspec": {
      "name": "python3",
      "display_name": "Python 3"
    },
    "language_info": {
      "name": "python"
    },
    "accelerator": "GPU"
  },
  "cells": [
    {
      "cell_type": "markdown",
      "metadata": {
        "id": "view-in-github",
        "colab_type": "text"
      },
      "source": [
        "<a href=\"https://colab.research.google.com/github/Bagito999/Deep-Learning/blob/main/Training_and_Deploying_TensorFlow_Models_at_Scale.ipynb\" target=\"_parent\"><img src=\"https://colab.research.google.com/assets/colab-badge.svg\" alt=\"Open In Colab\"/></a>"
      ]
    },
    {
      "cell_type": "markdown",
      "source": [
        "#Persiapan"
      ],
      "metadata": {
        "id": "lncBUK2__3hz"
      }
    },
    {
      "cell_type": "code",
      "execution_count": 13,
      "metadata": {
        "colab": {
          "base_uri": "https://localhost:8080/"
        },
        "id": "qTyEg4To_yY3",
        "outputId": "0f68c4c1-088e-475e-b140-3edcf1565bd2"
      },
      "outputs": [
        {
          "output_type": "stream",
          "name": "stdout",
          "text": [
            "Colab only includes TensorFlow 2.x; %tensorflow_version has no effect.\n",
            "Error saat mengatur memory growth: Physical devices cannot be modified after being initialized\n",
            "GPUs: [PhysicalDevice(name='/physical_device:GPU:0', device_type='GPU')]\n"
          ]
        }
      ],
      "source": [
        "# Aktifkan TensorFlow 2.x hanya jika di Colab\n",
        "try:\n",
        "    import google.colab\n",
        "    %tensorflow_version 2.x\n",
        "except Exception:\n",
        "    pass\n",
        "\n",
        "import tensorflow as tf\n",
        "\n",
        "# Cek dan atur konfigurasi GPU agar tidak mengalokasikan seluruh VRAM\n",
        "gpus = tf.config.list_physical_devices('GPU')\n",
        "if gpus:\n",
        "    try:\n",
        "        for gpu in gpus:\n",
        "            tf.config.experimental.set_memory_growth(gpu, True)\n",
        "        print(\"Memory growth GPU diaktifkan.\")\n",
        "    except RuntimeError as e:\n",
        "        print(\"Error saat mengatur memory growth:\", e)\n",
        "else:\n",
        "    print(\"GPU tidak terdeteksi.\")\n",
        "\n",
        "# Tampilkan daftar GPU yang terdeteksi\n",
        "print(\"GPUs:\", gpus)\n"
      ]
    },
    {
      "cell_type": "markdown",
      "source": [
        "#Export dan Serving dengan SavedModel & TF‑Serving"
      ],
      "metadata": {
        "id": "BCRLBK8gAEw9"
      }
    },
    {
      "cell_type": "markdown",
      "source": [
        "##Save/Load a SavedModel"
      ],
      "metadata": {
        "id": "OEalp8mIAIEW"
      }
    },
    {
      "cell_type": "code",
      "source": [
        "import tensorflow as tf\n",
        "from tensorflow import keras\n",
        "from tensorflow.keras import layers\n",
        "\n",
        "import os\n",
        "from sklearn.datasets import load_iris\n",
        "from sklearn.model_selection import train_test_split\n",
        "import numpy as np\n",
        "\n",
        "# Buat folder model jika belum ada\n",
        "model_dir = \"my_model\"\n",
        "os.makedirs(model_dir, exist_ok=True)\n",
        "\n",
        "# Load dataset Iris\n",
        "iris = load_iris()\n",
        "X, y = iris.data.astype(\"float32\"), iris.target\n",
        "\n",
        "# Split data (train dan validation)\n",
        "X_train, X_val, y_train, y_val = train_test_split(\n",
        "    X, y, test_size=0.2, random_state=42\n",
        ")\n",
        "\n",
        "# Bangun model Sequential sederhana\n",
        "model = keras.Sequential([\n",
        "    layers.Input(shape=(4,)),              # Input: 4 fitur\n",
        "    layers.Dense(16, activation=\"relu\"),   # Hidden layer 1\n",
        "    layers.Dense(16, activation=\"relu\"),   # Hidden layer 2\n",
        "    layers.Dense(3, activation=\"softmax\")  # Output: 3 kelas\n",
        "])\n",
        "\n",
        "# Compile model\n",
        "model.compile(\n",
        "    optimizer=\"adam\",\n",
        "    loss=\"sparse_categorical_crossentropy\",\n",
        "    metrics=[\"accuracy\"]\n",
        ")\n",
        "\n",
        "# Latih model\n",
        "model.fit(\n",
        "    X_train, y_train,\n",
        "    validation_data=(X_val, y_val),\n",
        "    epochs=10,\n",
        "    batch_size=8,\n",
        "    verbose=2\n",
        ")\n",
        "\n",
        "# Simpan model ke format SavedModel\n",
        "tf.saved_model.save(model, model_dir)\n",
        "print(f\"SavedModel berhasil disimpan ke folder: {model_dir}/\")\n"
      ],
      "metadata": {
        "colab": {
          "base_uri": "https://localhost:8080/"
        },
        "id": "1YqKkvXEGqk4",
        "outputId": "7c03e028-401b-4f35-dec5-eaf2b3f5fa08"
      },
      "execution_count": 14,
      "outputs": [
        {
          "output_type": "stream",
          "name": "stdout",
          "text": [
            "Epoch 1/10\n",
            "15/15 - 5s - 357ms/step - accuracy: 0.3333 - loss: 3.4625 - val_accuracy: 0.3333 - val_loss: 2.8502\n",
            "Epoch 2/10\n",
            "15/15 - 1s - 67ms/step - accuracy: 0.3333 - loss: 2.2331 - val_accuracy: 0.3333 - val_loss: 1.7511\n",
            "Epoch 3/10\n",
            "15/15 - 0s - 9ms/step - accuracy: 0.1750 - loss: 1.4248 - val_accuracy: 0.0000e+00 - val_loss: 1.2119\n",
            "Epoch 4/10\n",
            "15/15 - 0s - 9ms/step - accuracy: 0.2833 - loss: 1.1418 - val_accuracy: 0.6333 - val_loss: 1.0904\n",
            "Epoch 5/10\n",
            "15/15 - 0s - 11ms/step - accuracy: 0.6083 - loss: 1.0724 - val_accuracy: 0.6667 - val_loss: 1.0378\n",
            "Epoch 6/10\n",
            "15/15 - 0s - 6ms/step - accuracy: 0.6250 - loss: 1.0232 - val_accuracy: 0.6667 - val_loss: 0.9835\n",
            "Epoch 7/10\n",
            "15/15 - 0s - 10ms/step - accuracy: 0.6250 - loss: 0.9748 - val_accuracy: 0.7000 - val_loss: 0.9333\n",
            "Epoch 8/10\n",
            "15/15 - 0s - 6ms/step - accuracy: 0.6750 - loss: 0.9270 - val_accuracy: 0.8667 - val_loss: 0.8850\n",
            "Epoch 9/10\n",
            "15/15 - 0s - 11ms/step - accuracy: 0.8667 - loss: 0.8787 - val_accuracy: 1.0000 - val_loss: 0.8366\n",
            "Epoch 10/10\n",
            "15/15 - 0s - 7ms/step - accuracy: 0.9417 - loss: 0.8296 - val_accuracy: 1.0000 - val_loss: 0.7867\n",
            "SavedModel berhasil disimpan ke folder: my_model/\n"
          ]
        }
      ]
    },
    {
      "cell_type": "markdown",
      "source": [
        "##TensorFlow Serving"
      ],
      "metadata": {
        "id": "u2x1yNkFGrY3"
      }
    },
    {
      "cell_type": "code",
      "source": [
        "# Install Flask & flask-ngrok\n",
        "!pip install -q flask flask-ngrok"
      ],
      "metadata": {
        "id": "cdGnahkrQfM4"
      },
      "execution_count": 15,
      "outputs": []
    },
    {
      "cell_type": "code",
      "source": [
        "from flask import Flask, request, jsonify\n",
        "import tensorflow as tf\n",
        "import numpy as np\n",
        "import os\n",
        "\n",
        "# Gunakan ngrok hanya jika tersedia dan diinginkan (opsional)\n",
        "try:\n",
        "    from flask_ngrok import run_with_ngrok\n",
        "    USE_NGROK = True\n",
        "except ImportError:\n",
        "    USE_NGROK = False\n",
        "\n",
        "# Inisialisasi Flask\n",
        "app = Flask(__name__)\n",
        "if USE_NGROK:\n",
        "    run_with_ngrok(app)  # Untuk Colab atau uji coba publik\n",
        "\n",
        "# Path ke SavedModel\n",
        "MODEL_PATH = \"my_model\"\n",
        "\n",
        "# Pastikan model tersedia\n",
        "if not os.path.exists(MODEL_PATH):\n",
        "    raise FileNotFoundError(f\"Model path '{MODEL_PATH}' tidak ditemukan.\")\n",
        "\n",
        "# Load SavedModel\n",
        "loaded_model = tf.saved_model.load(MODEL_PATH)\n",
        "infer = loaded_model.signatures[\"serving_default\"]\n",
        "\n",
        "@app.route(\"/predict\", methods=[\"POST\"])\n",
        "def predict():\n",
        "    try:\n",
        "        data = request.get_json(force=True)\n",
        "        instances = np.array(data[\"instances\"], dtype=np.float32)\n",
        "\n",
        "        # Ubah ke tensor dan lakukan inferensi\n",
        "        tf_inputs = tf.constant(instances)\n",
        "        outputs = infer(tf_inputs)\n",
        "\n",
        "        # Ambil key output pertama (biasanya 'output_0')\n",
        "        out_key = list(outputs.keys())[0]\n",
        "        preds = outputs[out_key].numpy().tolist()\n",
        "\n",
        "        return jsonify({\"predictions\": preds})\n",
        "\n",
        "    except Exception as e:\n",
        "        return jsonify({\"error\": str(e)}), 400\n",
        "\n",
        "# Jalankan server\n",
        "if __name__ == \"__main__\":\n",
        "    app.run()\n"
      ],
      "metadata": {
        "colab": {
          "base_uri": "https://localhost:8080/"
        },
        "id": "OGkko7VJNcz3",
        "outputId": "cda045b2-889c-4434-bb8f-47844d16b656"
      },
      "execution_count": 22,
      "outputs": [
        {
          "output_type": "stream",
          "name": "stdout",
          "text": [
            " * Serving Flask app '__main__'\n",
            " * Debug mode: off\n"
          ]
        },
        {
          "output_type": "stream",
          "name": "stderr",
          "text": [
            "INFO:werkzeug:\u001b[31m\u001b[1mWARNING: This is a development server. Do not use it in a production deployment. Use a production WSGI server instead.\u001b[0m\n",
            " * Running on http://127.0.0.1:5000\n",
            "INFO:werkzeug:\u001b[33mPress CTRL+C to quit\u001b[0m\n",
            "ERROR:root:Unexpected exception finding object shape\n",
            "Traceback (most recent call last):\n",
            "  File \"/usr/local/lib/python3.11/dist-packages/google/colab/_debugpy_repr.py\", line 54, in get_shape\n",
            "    shape = getattr(obj, 'shape', None)\n",
            "            ^^^^^^^^^^^^^^^^^^^^^^^^^^^\n",
            "  File \"/usr/local/lib/python3.11/dist-packages/werkzeug/local.py\", line 318, in __get__\n",
            "    obj = instance._get_current_object()\n",
            "          ^^^^^^^^^^^^^^^^^^^^^^^^^^^^^^\n",
            "  File \"/usr/local/lib/python3.11/dist-packages/werkzeug/local.py\", line 519, in _get_current_object\n",
            "    raise RuntimeError(unbound_message) from None\n",
            "RuntimeError: Working outside of request context.\n",
            "\n",
            "This typically means that you attempted to use functionality that needed\n",
            "an active HTTP request. Consult the documentation on testing for\n",
            "information about how to avoid this problem.\n",
            "Exception in thread Thread-12:\n",
            "Traceback (most recent call last):\n",
            "  File \"/usr/local/lib/python3.11/dist-packages/urllib3/connection.py\", line 198, in _new_conn\n",
            "    sock = connection.create_connection(\n",
            "           ^^^^^^^^^^^^^^^^^^^^^^^^^^^^^\n",
            "  File \"/usr/local/lib/python3.11/dist-packages/urllib3/util/connection.py\", line 85, in create_connection\n",
            "    raise err\n",
            "  File \"/usr/local/lib/python3.11/dist-packages/urllib3/util/connection.py\", line 73, in create_connection\n",
            "    sock.connect(sa)\n",
            "ConnectionRefusedError: [Errno 111] Connection refused\n",
            "\n",
            "The above exception was the direct cause of the following exception:\n",
            "\n",
            "Traceback (most recent call last):\n",
            "  File \"/usr/local/lib/python3.11/dist-packages/urllib3/connectionpool.py\", line 787, in urlopen\n",
            "    response = self._make_request(\n",
            "               ^^^^^^^^^^^^^^^^^^^\n",
            "  File \"/usr/local/lib/python3.11/dist-packages/urllib3/connectionpool.py\", line 493, in _make_request\n",
            "    conn.request(\n",
            "  File \"/usr/local/lib/python3.11/dist-packages/urllib3/connection.py\", line 445, in request\n",
            "    self.endheaders()\n",
            "  File \"/usr/lib/python3.11/http/client.py\", line 1298, in endheaders\n",
            "    self._send_output(message_body, encode_chunked=encode_chunked)\n",
            "  File \"/usr/lib/python3.11/http/client.py\", line 1058, in _send_output\n",
            "    self.send(msg)\n",
            "  File \"/usr/lib/python3.11/http/client.py\", line 996, in send\n",
            "    self.connect()\n",
            "  File \"/usr/local/lib/python3.11/dist-packages/urllib3/connection.py\", line 276, in connect\n",
            "    self.sock = self._new_conn()\n",
            "                ^^^^^^^^^^^^^^^^\n",
            "  File \"/usr/local/lib/python3.11/dist-packages/urllib3/connection.py\", line 213, in _new_conn\n",
            "    raise NewConnectionError(\n",
            "urllib3.exceptions.NewConnectionError: <urllib3.connection.HTTPConnection object at 0x78831fff9f90>: Failed to establish a new connection: [Errno 111] Connection refused\n",
            "\n",
            "The above exception was the direct cause of the following exception:\n",
            "\n",
            "Traceback (most recent call last):\n",
            "  File \"/usr/local/lib/python3.11/dist-packages/requests/adapters.py\", line 667, in send\n",
            "    resp = conn.urlopen(\n",
            "           ^^^^^^^^^^^^^\n",
            "  File \"/usr/local/lib/python3.11/dist-packages/urllib3/connectionpool.py\", line 841, in urlopen\n",
            "    retries = retries.increment(\n",
            "              ^^^^^^^^^^^^^^^^^^\n",
            "  File \"/usr/local/lib/python3.11/dist-packages/urllib3/util/retry.py\", line 519, in increment\n",
            "    raise MaxRetryError(_pool, url, reason) from reason  # type: ignore[arg-type]\n",
            "    ^^^^^^^^^^^^^^^^^^^^^^^^^^^^^^^^^^^^^^^^^^^^^^^^^^^\n",
            "urllib3.exceptions.MaxRetryError: HTTPConnectionPool(host='localhost', port=4040): Max retries exceeded with url: /api/tunnels (Caused by NewConnectionError('<urllib3.connection.HTTPConnection object at 0x78831fff9f90>: Failed to establish a new connection: [Errno 111] Connection refused'))\n",
            "\n",
            "During handling of the above exception, another exception occurred:\n",
            "\n",
            "Traceback (most recent call last):\n",
            "  File \"/usr/lib/python3.11/threading.py\", line 1045, in _bootstrap_inner\n",
            "    self.run()\n",
            "  File \"/usr/lib/python3.11/threading.py\", line 1401, in run\n",
            "    self.function(*self.args, **self.kwargs)\n",
            "  File \"/usr/local/lib/python3.11/dist-packages/flask_ngrok.py\", line 70, in start_ngrok\n",
            "    ngrok_address = _run_ngrok()\n",
            "                    ^^^^^^^^^^^^\n",
            "  File \"/usr/local/lib/python3.11/dist-packages/flask_ngrok.py\", line 35, in _run_ngrok\n",
            "    tunnel_url = requests.get(localhost_url).text  # Get the tunnel information\n",
            "                 ^^^^^^^^^^^^^^^^^^^^^^^^^^^\n",
            "  File \"/usr/local/lib/python3.11/dist-packages/requests/api.py\", line 73, in get\n",
            "    return request(\"get\", url, params=params, **kwargs)\n",
            "           ^^^^^^^^^^^^^^^^^^^^^^^^^^^^^^^^^^^^^^^^^^^^\n",
            "  File \"/usr/local/lib/python3.11/dist-packages/requests/api.py\", line 59, in request\n",
            "    return session.request(method=method, url=url, **kwargs)\n",
            "           ^^^^^^^^^^^^^^^^^^^^^^^^^^^^^^^^^^^^^^^^^^^^^^^^^\n",
            "  File \"/usr/local/lib/python3.11/dist-packages/requests/sessions.py\", line 589, in request\n",
            "    resp = self.send(prep, **send_kwargs)\n",
            "           ^^^^^^^^^^^^^^^^^^^^^^^^^^^^^^\n",
            "  File \"/usr/local/lib/python3.11/dist-packages/requests/sessions.py\", line 703, in send\n",
            "    r = adapter.send(request, **kwargs)\n",
            "        ^^^^^^^^^^^^^^^^^^^^^^^^^^^^^^^\n",
            "  File \"/usr/local/lib/python3.11/dist-packages/requests/adapters.py\", line 700, in send\n",
            "    raise ConnectionError(e, request=request)\n",
            "requests.exceptions.ConnectionError: HTTPConnectionPool(host='localhost', port=4040): Max retries exceeded with url: /api/tunnels (Caused by NewConnectionError('<urllib3.connection.HTTPConnection object at 0x78831fff9f90>: Failed to establish a new connection: [Errno 111] Connection refused'))\n",
            "ERROR:root:Unexpected exception finding object shape\n",
            "Traceback (most recent call last):\n",
            "  File \"/usr/local/lib/python3.11/dist-packages/google/colab/_debugpy_repr.py\", line 54, in get_shape\n",
            "    shape = getattr(obj, 'shape', None)\n",
            "            ^^^^^^^^^^^^^^^^^^^^^^^^^^^\n",
            "  File \"/usr/local/lib/python3.11/dist-packages/werkzeug/local.py\", line 318, in __get__\n",
            "    obj = instance._get_current_object()\n",
            "          ^^^^^^^^^^^^^^^^^^^^^^^^^^^^^^\n",
            "  File \"/usr/local/lib/python3.11/dist-packages/werkzeug/local.py\", line 519, in _get_current_object\n",
            "    raise RuntimeError(unbound_message) from None\n",
            "RuntimeError: Working outside of request context.\n",
            "\n",
            "This typically means that you attempted to use functionality that needed\n",
            "an active HTTP request. Consult the documentation on testing for\n",
            "information about how to avoid this problem.\n",
            "ERROR:root:Unexpected exception finding object shape\n",
            "Traceback (most recent call last):\n",
            "  File \"/usr/local/lib/python3.11/dist-packages/google/colab/_debugpy_repr.py\", line 54, in get_shape\n",
            "    shape = getattr(obj, 'shape', None)\n",
            "            ^^^^^^^^^^^^^^^^^^^^^^^^^^^\n",
            "  File \"/usr/local/lib/python3.11/dist-packages/werkzeug/local.py\", line 318, in __get__\n",
            "    obj = instance._get_current_object()\n",
            "          ^^^^^^^^^^^^^^^^^^^^^^^^^^^^^^\n",
            "  File \"/usr/local/lib/python3.11/dist-packages/werkzeug/local.py\", line 519, in _get_current_object\n",
            "    raise RuntimeError(unbound_message) from None\n",
            "RuntimeError: Working outside of request context.\n",
            "\n",
            "This typically means that you attempted to use functionality that needed\n",
            "an active HTTP request. Consult the documentation on testing for\n",
            "information about how to avoid this problem.\n",
            "ERROR:root:Unexpected exception finding object shape\n",
            "Traceback (most recent call last):\n",
            "  File \"/usr/local/lib/python3.11/dist-packages/google/colab/_debugpy_repr.py\", line 54, in get_shape\n",
            "    shape = getattr(obj, 'shape', None)\n",
            "            ^^^^^^^^^^^^^^^^^^^^^^^^^^^\n",
            "  File \"/usr/local/lib/python3.11/dist-packages/werkzeug/local.py\", line 318, in __get__\n",
            "    obj = instance._get_current_object()\n",
            "          ^^^^^^^^^^^^^^^^^^^^^^^^^^^^^^\n",
            "  File \"/usr/local/lib/python3.11/dist-packages/werkzeug/local.py\", line 519, in _get_current_object\n",
            "    raise RuntimeError(unbound_message) from None\n",
            "RuntimeError: Working outside of request context.\n",
            "\n",
            "This typically means that you attempted to use functionality that needed\n",
            "an active HTTP request. Consult the documentation on testing for\n",
            "information about how to avoid this problem.\n",
            "ERROR:root:Unexpected exception finding object shape\n",
            "Traceback (most recent call last):\n",
            "  File \"/usr/local/lib/python3.11/dist-packages/google/colab/_debugpy_repr.py\", line 54, in get_shape\n",
            "    shape = getattr(obj, 'shape', None)\n",
            "            ^^^^^^^^^^^^^^^^^^^^^^^^^^^\n",
            "  File \"/usr/local/lib/python3.11/dist-packages/werkzeug/local.py\", line 318, in __get__\n",
            "    obj = instance._get_current_object()\n",
            "          ^^^^^^^^^^^^^^^^^^^^^^^^^^^^^^\n",
            "  File \"/usr/local/lib/python3.11/dist-packages/werkzeug/local.py\", line 519, in _get_current_object\n",
            "    raise RuntimeError(unbound_message) from None\n",
            "RuntimeError: Working outside of request context.\n",
            "\n",
            "This typically means that you attempted to use functionality that needed\n",
            "an active HTTP request. Consult the documentation on testing for\n",
            "information about how to avoid this problem.\n",
            "ERROR:root:Unexpected exception finding object shape\n",
            "Traceback (most recent call last):\n",
            "  File \"/usr/local/lib/python3.11/dist-packages/google/colab/_debugpy_repr.py\", line 54, in get_shape\n",
            "    shape = getattr(obj, 'shape', None)\n",
            "            ^^^^^^^^^^^^^^^^^^^^^^^^^^^\n",
            "  File \"/usr/local/lib/python3.11/dist-packages/werkzeug/local.py\", line 318, in __get__\n",
            "    obj = instance._get_current_object()\n",
            "          ^^^^^^^^^^^^^^^^^^^^^^^^^^^^^^\n",
            "  File \"/usr/local/lib/python3.11/dist-packages/werkzeug/local.py\", line 519, in _get_current_object\n",
            "    raise RuntimeError(unbound_message) from None\n",
            "RuntimeError: Working outside of request context.\n",
            "\n",
            "This typically means that you attempted to use functionality that needed\n",
            "an active HTTP request. Consult the documentation on testing for\n",
            "information about how to avoid this problem.\n",
            "ERROR:root:Unexpected exception finding object shape\n",
            "Traceback (most recent call last):\n",
            "  File \"/usr/local/lib/python3.11/dist-packages/google/colab/_debugpy_repr.py\", line 54, in get_shape\n",
            "    shape = getattr(obj, 'shape', None)\n",
            "            ^^^^^^^^^^^^^^^^^^^^^^^^^^^\n",
            "  File \"/usr/local/lib/python3.11/dist-packages/werkzeug/local.py\", line 318, in __get__\n",
            "    obj = instance._get_current_object()\n",
            "          ^^^^^^^^^^^^^^^^^^^^^^^^^^^^^^\n",
            "  File \"/usr/local/lib/python3.11/dist-packages/werkzeug/local.py\", line 519, in _get_current_object\n",
            "    raise RuntimeError(unbound_message) from None\n",
            "RuntimeError: Working outside of request context.\n",
            "\n",
            "This typically means that you attempted to use functionality that needed\n",
            "an active HTTP request. Consult the documentation on testing for\n",
            "information about how to avoid this problem.\n",
            "ERROR:root:Unexpected exception finding object shape\n",
            "Traceback (most recent call last):\n",
            "  File \"/usr/local/lib/python3.11/dist-packages/google/colab/_debugpy_repr.py\", line 54, in get_shape\n",
            "    shape = getattr(obj, 'shape', None)\n",
            "            ^^^^^^^^^^^^^^^^^^^^^^^^^^^\n",
            "  File \"/usr/local/lib/python3.11/dist-packages/werkzeug/local.py\", line 318, in __get__\n",
            "    obj = instance._get_current_object()\n",
            "          ^^^^^^^^^^^^^^^^^^^^^^^^^^^^^^\n",
            "  File \"/usr/local/lib/python3.11/dist-packages/werkzeug/local.py\", line 519, in _get_current_object\n",
            "    raise RuntimeError(unbound_message) from None\n",
            "RuntimeError: Working outside of request context.\n",
            "\n",
            "This typically means that you attempted to use functionality that needed\n",
            "an active HTTP request. Consult the documentation on testing for\n",
            "information about how to avoid this problem.\n",
            "ERROR:root:Unexpected exception finding object shape\n",
            "Traceback (most recent call last):\n",
            "  File \"/usr/local/lib/python3.11/dist-packages/google/colab/_debugpy_repr.py\", line 54, in get_shape\n",
            "    shape = getattr(obj, 'shape', None)\n",
            "            ^^^^^^^^^^^^^^^^^^^^^^^^^^^\n",
            "  File \"/usr/local/lib/python3.11/dist-packages/werkzeug/local.py\", line 318, in __get__\n",
            "    obj = instance._get_current_object()\n",
            "          ^^^^^^^^^^^^^^^^^^^^^^^^^^^^^^\n",
            "  File \"/usr/local/lib/python3.11/dist-packages/werkzeug/local.py\", line 519, in _get_current_object\n",
            "    raise RuntimeError(unbound_message) from None\n",
            "RuntimeError: Working outside of request context.\n",
            "\n",
            "This typically means that you attempted to use functionality that needed\n",
            "an active HTTP request. Consult the documentation on testing for\n",
            "information about how to avoid this problem.\n"
          ]
        }
      ]
    },
    {
      "cell_type": "markdown",
      "source": [
        "#Convert ke TFLite untuk Mobile/Embedded"
      ],
      "metadata": {
        "id": "dqA_EuX4R49v"
      }
    },
    {
      "cell_type": "code",
      "source": [
        "import tensorflow as tf\n",
        "import os\n",
        "\n",
        "# Path ke folder SavedModel\n",
        "saved_model_dir = \"my_model\"\n",
        "\n",
        "# Pastikan folder model ada\n",
        "if not os.path.exists(saved_model_dir):\n",
        "    raise FileNotFoundError(f\"Folder model '{saved_model_dir}' tidak ditemukan.\")\n",
        "\n",
        "# Buat converter dari SavedModel (bukan Keras model)\n",
        "converter = tf.lite.TFLiteConverter.from_saved_model(saved_model_dir)\n",
        "\n",
        "# (Opsional) Quantization untuk mengurangi ukuran model\n",
        "converter.optimizations = [tf.lite.Optimize.DEFAULT]\n",
        "\n",
        "# Lakukan konversi\n",
        "tflite_model = converter.convert()\n",
        "\n",
        "# Simpan ke file .tflite\n",
        "output_path = \"model.tflite\"\n",
        "with open(output_path, \"wb\") as f:\n",
        "    f.write(tflite_model)\n",
        "\n",
        "print(f\"Model berhasil dikonversi ke TFLite dan disimpan sebagai: {output_path}\")\n",
        "print(f\"Ukuran model TFLite: {len(tflite_model)} bytes\")\n"
      ],
      "metadata": {
        "colab": {
          "base_uri": "https://localhost:8080/"
        },
        "id": "47rBglXOQuTO",
        "outputId": "79631e41-7438-4867-b3d6-b285a3c22d12"
      },
      "execution_count": 23,
      "outputs": [
        {
          "output_type": "stream",
          "name": "stdout",
          "text": [
            "Model berhasil dikonversi ke TFLite dan disimpan sebagai: model.tflite\n",
            "Ukuran model TFLite: 3844 bytes\n"
          ]
        }
      ]
    },
    {
      "cell_type": "markdown",
      "source": [
        "#Menggunakan GPU"
      ],
      "metadata": {
        "id": "qxMe4EaySDQW"
      }
    },
    {
      "cell_type": "code",
      "source": [
        "import tensorflow as tf\n",
        "import numpy as np\n",
        "import os\n",
        "\n",
        "# Pengaturan GPU agar tidak langsung menggunakan seluruh VRAM\n",
        "gpus = tf.config.list_physical_devices('GPU')\n",
        "if gpus:\n",
        "    try:\n",
        "        for gpu in gpus:\n",
        "            tf.config.experimental.set_memory_growth(gpu, True)\n",
        "        print(f\"{len(gpus)} GPU terdeteksi. Memory growth diaktifkan.\")\n",
        "    except RuntimeError as e:\n",
        "        print(\"Gagal mengatur memory growth:\", e)\n",
        "else:\n",
        "    print(\"Tidak ada GPU terdeteksi.\")\n",
        "\n",
        "# Membangun model Keras sederhana\n",
        "model = tf.keras.Sequential([\n",
        "    tf.keras.layers.Dense(512, activation='relu', input_shape=(1000,)),\n",
        "    tf.keras.layers.Dense(10, activation='softmax')\n",
        "])\n",
        "\n",
        "# Kompilasi model\n",
        "model.compile(\n",
        "    optimizer='adam',\n",
        "    loss='sparse_categorical_crossentropy',\n",
        "    metrics=['accuracy']\n",
        ")\n",
        "\n",
        "# Membuat data dummy (10000 sampel, 1000 fitur)\n",
        "X = np.random.rand(10000, 1000).astype('float32')\n",
        "y = np.random.randint(0, 10, size=(10000,))\n",
        "\n",
        "# Melatih model dan simpan hasil history\n",
        "history = model.fit(\n",
        "    X, y,\n",
        "    epochs=3,\n",
        "    batch_size=128,\n",
        "    verbose=2\n",
        ")\n",
        "\n",
        "# Ambil nilai akurasi dan loss terakhir\n",
        "final_loss = history.history['loss'][-1]\n",
        "final_acc = history.history['accuracy'][-1]\n",
        "\n",
        "# Tampilkan hasil akhir\n",
        "print(f\"\\nHasil akhir training:\")\n",
        "print(f\"Loss terakhir   : {final_loss:.4f}\")\n",
        "print(f\"Akurasi terakhir: {final_acc:.4f}\")\n"
      ],
      "metadata": {
        "colab": {
          "base_uri": "https://localhost:8080/"
        },
        "id": "-_akna2xQxsf",
        "outputId": "f6251ff2-f8fc-473a-daa8-e24e2105ea17"
      },
      "execution_count": 24,
      "outputs": [
        {
          "output_type": "stream",
          "name": "stdout",
          "text": [
            "Gagal mengatur memory growth: Physical devices cannot be modified after being initialized\n"
          ]
        },
        {
          "output_type": "stream",
          "name": "stderr",
          "text": [
            "/usr/local/lib/python3.11/dist-packages/keras/src/layers/core/dense.py:87: UserWarning: Do not pass an `input_shape`/`input_dim` argument to a layer. When using Sequential models, prefer using an `Input(shape)` object as the first layer in the model instead.\n",
            "  super().__init__(activity_regularizer=activity_regularizer, **kwargs)\n"
          ]
        },
        {
          "output_type": "stream",
          "name": "stdout",
          "text": [
            "Epoch 1/3\n"
          ]
        },
        {
          "output_type": "stream",
          "name": "stderr",
          "text": [
            "ERROR:root:Unexpected exception finding object shape\n",
            "Traceback (most recent call last):\n",
            "  File \"/usr/local/lib/python3.11/dist-packages/google/colab/_debugpy_repr.py\", line 54, in get_shape\n",
            "    shape = getattr(obj, 'shape', None)\n",
            "            ^^^^^^^^^^^^^^^^^^^^^^^^^^^\n",
            "  File \"/usr/local/lib/python3.11/dist-packages/werkzeug/local.py\", line 318, in __get__\n",
            "    obj = instance._get_current_object()\n",
            "          ^^^^^^^^^^^^^^^^^^^^^^^^^^^^^^\n",
            "  File \"/usr/local/lib/python3.11/dist-packages/werkzeug/local.py\", line 519, in _get_current_object\n",
            "    raise RuntimeError(unbound_message) from None\n",
            "RuntimeError: Working outside of request context.\n",
            "\n",
            "This typically means that you attempted to use functionality that needed\n",
            "an active HTTP request. Consult the documentation on testing for\n",
            "information about how to avoid this problem.\n"
          ]
        },
        {
          "output_type": "stream",
          "name": "stdout",
          "text": [
            "79/79 - 1s - 19ms/step - accuracy: 0.0965 - loss: 2.3771\n",
            "Epoch 2/3\n"
          ]
        },
        {
          "output_type": "stream",
          "name": "stderr",
          "text": [
            "ERROR:root:Unexpected exception finding object shape\n",
            "Traceback (most recent call last):\n",
            "  File \"/usr/local/lib/python3.11/dist-packages/google/colab/_debugpy_repr.py\", line 54, in get_shape\n",
            "    shape = getattr(obj, 'shape', None)\n",
            "            ^^^^^^^^^^^^^^^^^^^^^^^^^^^\n",
            "  File \"/usr/local/lib/python3.11/dist-packages/werkzeug/local.py\", line 318, in __get__\n",
            "    obj = instance._get_current_object()\n",
            "          ^^^^^^^^^^^^^^^^^^^^^^^^^^^^^^\n",
            "  File \"/usr/local/lib/python3.11/dist-packages/werkzeug/local.py\", line 519, in _get_current_object\n",
            "    raise RuntimeError(unbound_message) from None\n",
            "RuntimeError: Working outside of request context.\n",
            "\n",
            "This typically means that you attempted to use functionality that needed\n",
            "an active HTTP request. Consult the documentation on testing for\n",
            "information about how to avoid this problem.\n"
          ]
        },
        {
          "output_type": "stream",
          "name": "stdout",
          "text": [
            "79/79 - 1s - 8ms/step - accuracy: 0.1118 - loss: 2.3027\n",
            "Epoch 3/3\n",
            "79/79 - 0s - 2ms/step - accuracy: 0.1305 - loss: 2.2896\n",
            "\n",
            "Hasil akhir training:\n",
            "Loss terakhir   : 2.2896\n",
            "Akurasi terakhir: 0.1305\n"
          ]
        }
      ]
    },
    {
      "cell_type": "markdown",
      "source": [
        "#Multi‑GPU dengan Distribution Strategies"
      ],
      "metadata": {
        "id": "TwV3QRkWNmBB"
      }
    },
    {
      "cell_type": "code",
      "source": [
        "import tensorflow as tf\n",
        "from tensorflow import keras\n",
        "import numpy as np\n",
        "\n",
        "# Setup strategi distribusi (untuk multi-GPU jika tersedia)\n",
        "gpus = tf.config.list_physical_devices('GPU')\n",
        "if not gpus:\n",
        "    print(\"⚠️ Tidak ada GPU terdeteksi. Model tetap bisa jalan di CPU.\")\n",
        "strategy = tf.distribute.MirroredStrategy()\n",
        "print(\"Jumlah GPU aktif:\", strategy.num_replicas_in_sync)\n",
        "\n",
        "# Bangun model di dalam scope strategi\n",
        "with strategy.scope():\n",
        "    model = keras.Sequential([\n",
        "        keras.layers.Dense(256, activation='relu', input_shape=(1000,)),\n",
        "        keras.layers.Dense(10, activation='softmax')\n",
        "    ])\n",
        "    model.compile(\n",
        "        optimizer='adam',\n",
        "        loss='sparse_categorical_crossentropy',\n",
        "        metrics=['accuracy']\n",
        "    )\n",
        "\n",
        "# Buat dummy data\n",
        "X = np.random.rand(20000, 1000).astype('float32')\n",
        "y = np.random.randint(0, 10, size=(20000,))\n",
        "\n",
        "# Latih model dan simpan history\n",
        "history = model.fit(\n",
        "    X, y,\n",
        "    epochs=5,\n",
        "    batch_size=256,\n",
        "    verbose=2\n",
        ")\n",
        "\n",
        "# Ambil nilai akurasi dan loss terakhir dari training\n",
        "final_loss = history.history['loss'][-1]\n",
        "final_acc = history.history['accuracy'][-1]\n",
        "\n",
        "# Tampilkan hasil akhir\n",
        "print(\"\\nHasil akhir training:\")\n",
        "print(f\"Loss terakhir   : {final_loss:.4f}\")\n",
        "print(f\"Akurasi terakhir: {final_acc:.4f}\")\n"
      ],
      "metadata": {
        "colab": {
          "base_uri": "https://localhost:8080/"
        },
        "id": "7GebQBNkNnOi",
        "outputId": "19b65da0-94b1-4b57-c511-c7f198f050e6"
      },
      "execution_count": 25,
      "outputs": [
        {
          "output_type": "stream",
          "name": "stdout",
          "text": [
            "Jumlah GPU aktif: 1\n"
          ]
        },
        {
          "output_type": "stream",
          "name": "stderr",
          "text": [
            "/usr/local/lib/python3.11/dist-packages/keras/src/layers/core/dense.py:87: UserWarning: Do not pass an `input_shape`/`input_dim` argument to a layer. When using Sequential models, prefer using an `Input(shape)` object as the first layer in the model instead.\n",
            "  super().__init__(activity_regularizer=activity_regularizer, **kwargs)\n",
            "ERROR:root:Unexpected exception finding object shape\n",
            "Traceback (most recent call last):\n",
            "  File \"/usr/local/lib/python3.11/dist-packages/google/colab/_debugpy_repr.py\", line 54, in get_shape\n",
            "    shape = getattr(obj, 'shape', None)\n",
            "            ^^^^^^^^^^^^^^^^^^^^^^^^^^^\n",
            "  File \"/usr/local/lib/python3.11/dist-packages/werkzeug/local.py\", line 318, in __get__\n",
            "    obj = instance._get_current_object()\n",
            "          ^^^^^^^^^^^^^^^^^^^^^^^^^^^^^^\n",
            "  File \"/usr/local/lib/python3.11/dist-packages/werkzeug/local.py\", line 519, in _get_current_object\n",
            "    raise RuntimeError(unbound_message) from None\n",
            "RuntimeError: Working outside of request context.\n",
            "\n",
            "This typically means that you attempted to use functionality that needed\n",
            "an active HTTP request. Consult the documentation on testing for\n",
            "information about how to avoid this problem.\n"
          ]
        },
        {
          "output_type": "stream",
          "name": "stdout",
          "text": [
            "Epoch 1/5\n",
            "79/79 - 1s - 12ms/step - accuracy: 0.1001 - loss: 2.3415\n",
            "Epoch 2/5\n",
            "79/79 - 1s - 7ms/step - accuracy: 0.1031 - loss: 2.3030\n",
            "Epoch 3/5\n"
          ]
        },
        {
          "output_type": "stream",
          "name": "stderr",
          "text": [
            "ERROR:root:Unexpected exception finding object shape\n",
            "Traceback (most recent call last):\n",
            "  File \"/usr/local/lib/python3.11/dist-packages/google/colab/_debugpy_repr.py\", line 54, in get_shape\n",
            "    shape = getattr(obj, 'shape', None)\n",
            "            ^^^^^^^^^^^^^^^^^^^^^^^^^^^\n",
            "  File \"/usr/local/lib/python3.11/dist-packages/werkzeug/local.py\", line 318, in __get__\n",
            "    obj = instance._get_current_object()\n",
            "          ^^^^^^^^^^^^^^^^^^^^^^^^^^^^^^\n",
            "  File \"/usr/local/lib/python3.11/dist-packages/werkzeug/local.py\", line 519, in _get_current_object\n",
            "    raise RuntimeError(unbound_message) from None\n",
            "RuntimeError: Working outside of request context.\n",
            "\n",
            "This typically means that you attempted to use functionality that needed\n",
            "an active HTTP request. Consult the documentation on testing for\n",
            "information about how to avoid this problem.\n",
            "ERROR:root:Unexpected exception finding object shape\n",
            "Traceback (most recent call last):\n",
            "  File \"/usr/local/lib/python3.11/dist-packages/google/colab/_debugpy_repr.py\", line 54, in get_shape\n",
            "    shape = getattr(obj, 'shape', None)\n",
            "            ^^^^^^^^^^^^^^^^^^^^^^^^^^^\n",
            "  File \"/usr/local/lib/python3.11/dist-packages/werkzeug/local.py\", line 318, in __get__\n",
            "    obj = instance._get_current_object()\n",
            "          ^^^^^^^^^^^^^^^^^^^^^^^^^^^^^^\n",
            "  File \"/usr/local/lib/python3.11/dist-packages/werkzeug/local.py\", line 519, in _get_current_object\n",
            "    raise RuntimeError(unbound_message) from None\n",
            "RuntimeError: Working outside of request context.\n",
            "\n",
            "This typically means that you attempted to use functionality that needed\n",
            "an active HTTP request. Consult the documentation on testing for\n",
            "information about how to avoid this problem.\n"
          ]
        },
        {
          "output_type": "stream",
          "name": "stdout",
          "text": [
            "79/79 - 0s - 6ms/step - accuracy: 0.1087 - loss: 2.3013\n",
            "Epoch 4/5\n",
            "79/79 - 0s - 5ms/step - accuracy: 0.1077 - loss: 2.3004\n",
            "Epoch 5/5\n"
          ]
        },
        {
          "output_type": "stream",
          "name": "stderr",
          "text": [
            "ERROR:root:Unexpected exception finding object shape\n",
            "Traceback (most recent call last):\n",
            "  File \"/usr/local/lib/python3.11/dist-packages/google/colab/_debugpy_repr.py\", line 54, in get_shape\n",
            "    shape = getattr(obj, 'shape', None)\n",
            "            ^^^^^^^^^^^^^^^^^^^^^^^^^^^\n",
            "  File \"/usr/local/lib/python3.11/dist-packages/werkzeug/local.py\", line 318, in __get__\n",
            "    obj = instance._get_current_object()\n",
            "          ^^^^^^^^^^^^^^^^^^^^^^^^^^^^^^\n",
            "  File \"/usr/local/lib/python3.11/dist-packages/werkzeug/local.py\", line 519, in _get_current_object\n",
            "    raise RuntimeError(unbound_message) from None\n",
            "RuntimeError: Working outside of request context.\n",
            "\n",
            "This typically means that you attempted to use functionality that needed\n",
            "an active HTTP request. Consult the documentation on testing for\n",
            "information about how to avoid this problem.\n"
          ]
        },
        {
          "output_type": "stream",
          "name": "stdout",
          "text": [
            "79/79 - 0s - 6ms/step - accuracy: 0.1098 - loss: 2.3001\n",
            "\n",
            "Hasil akhir training:\n",
            "Loss terakhir   : 2.3001\n",
            "Akurasi terakhir: 0.1098\n"
          ]
        }
      ]
    },
    {
      "cell_type": "markdown",
      "source": [
        "#Black‑Box Hyperparameter Tuning dengan KerasTuner"
      ],
      "metadata": {
        "id": "tgLnSZJINnnS"
      }
    },
    {
      "cell_type": "code",
      "source": [
        "# Install keras-tuner jika belum tersedia\n",
        "!pip install -q keras-tuner\n",
        "\n",
        "import os\n",
        "import numpy as np\n",
        "import tensorflow as tf\n",
        "from tensorflow import keras\n",
        "import keras_tuner as kt\n",
        "\n",
        "# Optional: aktifkan GPU memory growth agar tidak boros\n",
        "gpus = tf.config.list_physical_devices('GPU')\n",
        "if gpus:\n",
        "    for gpu in gpus:\n",
        "        try:\n",
        "            tf.config.experimental.set_memory_growth(gpu, True)\n",
        "        except:\n",
        "            pass\n",
        "\n",
        "# Fungsi untuk membangun model\n",
        "def build_model(hp):\n",
        "    model = keras.Sequential()\n",
        "    model.add(keras.layers.Dense(\n",
        "        units=hp.Int('units', min_value=32, max_value=256, step=32),\n",
        "        activation='relu',\n",
        "        input_shape=(1000,)\n",
        "    ))\n",
        "    model.add(keras.layers.Dense(10, activation='softmax'))\n",
        "\n",
        "    model.compile(\n",
        "        optimizer=keras.optimizers.Adam(\n",
        "            learning_rate=hp.Choice('lr', values=[1e-2, 1e-3, 1e-4])\n",
        "        ),\n",
        "        loss='sparse_categorical_crossentropy',\n",
        "        metrics=['accuracy']\n",
        "    )\n",
        "    return model\n",
        "\n",
        "# Inisialisasi RandomSearch tuner\n",
        "tuner = kt.RandomSearch(\n",
        "    build_model,\n",
        "    objective='val_accuracy',\n",
        "    max_trials=5,\n",
        "    directory='tuner_dir',\n",
        "    project_name='chapter19',\n",
        "    overwrite=True  # overwrite hasil tuning sebelumnya jika ada\n",
        ")\n",
        "\n",
        "# Buat dummy dataset\n",
        "X = np.random.rand(5000, 1000).astype('float32')\n",
        "y = np.random.randint(0, 10, size=(5000,))\n",
        "\n",
        "# Jalankan tuning\n",
        "tuner.search(X, y, epochs=5, validation_split=0.2, verbose=2)\n",
        "\n",
        "# Ambil model dan hyperparameter terbaik\n",
        "best_model = tuner.get_best_models(num_models=1)[0]\n",
        "best_hp = tuner.get_best_hyperparameters(1)[0]\n",
        "\n",
        "# Tampilkan hasil terbaik\n",
        "print(\"\\n📌 Hyperparameter terbaik:\")\n",
        "print(f\" - Learning rate : {best_hp.get('lr')}\")\n",
        "print(f\" - Jumlah units  : {best_hp.get('units')}\")\n"
      ],
      "metadata": {
        "colab": {
          "base_uri": "https://localhost:8080/"
        },
        "id": "CABDQzmXNqwp",
        "outputId": "50ff39d6-9531-445b-e167-6ed2ecc38191"
      },
      "execution_count": 27,
      "outputs": [
        {
          "output_type": "stream",
          "name": "stdout",
          "text": [
            "Trial 5 Complete [00h 00m 05s]\n",
            "val_accuracy: 0.10899999737739563\n",
            "\n",
            "Best val_accuracy So Far: 0.12200000137090683\n",
            "Total elapsed time: 00h 00m 35s\n",
            "\n",
            "📌 Hyperparameter terbaik:\n",
            " - Learning rate : 0.0001\n",
            " - Jumlah units  : 128\n"
          ]
        },
        {
          "output_type": "stream",
          "name": "stderr",
          "text": [
            "/usr/local/lib/python3.11/dist-packages/keras/src/layers/core/dense.py:87: UserWarning: Do not pass an `input_shape`/`input_dim` argument to a layer. When using Sequential models, prefer using an `Input(shape)` object as the first layer in the model instead.\n",
            "  super().__init__(activity_regularizer=activity_regularizer, **kwargs)\n",
            "/usr/local/lib/python3.11/dist-packages/keras/src/saving/saving_lib.py:757: UserWarning: Skipping variable loading for optimizer 'adam', because it has 2 variables whereas the saved optimizer has 10 variables. \n",
            "  saveable.load_own_variables(weights_store.get(inner_path))\n"
          ]
        }
      ]
    },
    {
      "cell_type": "markdown",
      "source": [
        "#  Training and Deploying TensorFlow Models at Scale – Ringkasan\n",
        "\n",
        "##  1. GPU Configuration\n",
        "- TensorFlow mendeteksi GPU yang tersedia.\n",
        "- Pengaturan `memory_growth` diaktifkan agar tidak mengambil seluruh VRAM secara langsung.\n",
        "- Ini penting untuk efisiensi saat menggunakan multi-GPU atau resource terbatas.\n",
        "\n",
        "##  2. Pembuatan Model\n",
        "- Model `Sequential` dibangun dengan layer `Dense`.\n",
        "- Input memiliki 1000 fitur dan output terdiri dari 10 kelas.\n",
        "- Model dikompilasi menggunakan Adam Optimizer dan `sparse_categorical_crossentropy` untuk klasifikasi multi-kelas.\n",
        "\n",
        "##  3. Training Awal\n",
        "- Model dilatih dengan data dummy sebanyak 10.000–20.000 sampel.\n",
        "- Akurasi dan loss akhir dicetak setelah proses training selesai.\n",
        "\n",
        "##  4. Multi-GPU dengan MirroredStrategy\n",
        "- `tf.distribute.MirroredStrategy()` digunakan untuk membagi beban training ke banyak GPU.\n",
        "- Model dibuat di dalam `strategy.scope()` untuk sinkronisasi antar perangkat.\n",
        "- Batch training otomatis dibagi sesuai jumlah GPU.\n",
        "\n",
        "##  5. Hyperparameter Tuning dengan Keras Tuner\n",
        "- `keras-tuner` digunakan untuk mencari kombinasi terbaik dari:\n",
        "  - Jumlah unit layer tersembunyi (`units`: 32–256)\n",
        "  - Learning rate (`lr`: 1e-2, 1e-3, 1e-4)\n",
        "- Dilakukan pencarian acak (`RandomSearch`) sebanyak 5 percobaan (`trials`) dengan validasi 20%.\n",
        "- Akurasi validasi (`val_accuracy`) digunakan sebagai metrik tujuan.\n",
        "\n",
        "##  6. Hasil Tuning\n",
        "- Best `val_accuracy`: **~12.2%**, menunjukkan bahwa model belum belajar secara optimal.\n",
        "- Hyperparameter terbaik:\n",
        "  - **Learning rate**: `0.0001`\n",
        "  - **Units**: `128`\n",
        "- Kemungkinan model underfitting karena data dummy bersifat acak, tidak bermakna secara klasifikasi.\n",
        "\n",
        "---\n",
        "\n",
        "##  Kesimpulan\n",
        "- Semua pipeline pelatihan dan tuning telah berhasil dijalankan dalam skala besar menggunakan GPU dan strategi distribusi.\n",
        "- Akurasi rendah dikarenakan data dummy yang tidak memiliki pola nyata.\n",
        "- Pipeline ini siap untuk diadaptasi ke dataset riil untuk klasifikasi skala besar dan deployment ke model TFLite atau server Flask/REST API."
      ],
      "metadata": {
        "id": "XWk7IjdEVi0Y"
      }
    }
  ]
}
