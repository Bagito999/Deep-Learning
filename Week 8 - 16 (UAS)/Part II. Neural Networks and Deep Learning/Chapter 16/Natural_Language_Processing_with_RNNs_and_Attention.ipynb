{
  "nbformat": 4,
  "nbformat_minor": 0,
  "metadata": {
    "colab": {
      "provenance": [],
      "gpuType": "T4",
      "authorship_tag": "ABX9TyPArBlo6WCeXXRgg81TTlSx",
      "include_colab_link": true
    },
    "kernelspec": {
      "name": "python3",
      "display_name": "Python 3"
    },
    "language_info": {
      "name": "python"
    },
    "accelerator": "GPU"
},
  "cells": [
    {
      "cell_type": "markdown",
      "metadata": {
        "id": "view-in-github",
        "colab_type": "text"
      },
      "source": [
        "<a href=\"https://colab.research.google.com/github/Bagito999/Deep-Learning/blob/main/Natural_Language_Processing_with_RNNs_and_Attention.ipynb\" target=\"_parent\"><img src=\"https://colab.research.google.com/assets/colab-badge.svg\" alt=\"Open In Colab\"/></a>"
      ]
    },
    {
      "cell_type": "markdown",
      "source": [
        "#Persiapan"
      ],
      "metadata": {
        "id": "WBwZw599kZ8A"
      }
    },
    {
      "cell_type": "code",
      "execution_count": 1,
      "metadata": {
        "colab": {
          "base_uri": "https://localhost:8080/"
        },
        "id": "PcpT1St3jamG",
        "outputId": "004f2060-34e2-4043-c624-9d520660824a"
      },
      "outputs": [
        {
          "output_type": "stream",
          "name": "stdout",
          "text": [
            "\u001b[?25l   \u001b[90m━━━━━━━━━━━━━━━━━━━━━━━━━━━━━━━━━━━━━━━━\u001b[0m \u001b[32m0.0/611.8 kB\u001b[0m \u001b[31m?\u001b[0m eta \u001b[36m-:--:--\u001b[0m\r\u001b[2K   \u001b[91m━━━━━━━━━━━━━━━━━━━━━━━━━━━━━━━━━━━━━━━\u001b[0m\u001b[90m╺\u001b[0m \u001b[32m604.2/611.8 kB\u001b[0m \u001b[31m24.8 MB/s\u001b[0m eta \u001b[36m0:00:01\u001b[0m\r\u001b[2K   \u001b[90m━━━━━━━━━━━━━━━━━━━━━━━━━━━━━━━━━━━━━━━━\u001b[0m \u001b[32m611.8/611.8 kB\u001b[0m \u001b[31m16.5 MB/s\u001b[0m eta \u001b[36m0:00:00\u001b[0m\n",
            "\u001b[?25h\u001b[31mERROR: pip's dependency resolver does not currently take into account all the packages that are installed. This behaviour is the source of the following dependency conflicts.\n",
            "inflect 7.5.0 requires typeguard>=4.0.1, but you have typeguard 2.13.3 which is incompatible.\u001b[0m\u001b[31m\n",
            "\u001b[0m"
          ]
        }
      ],
      "source": [
        "# Versi minimum\n",
        "import sys\n",
        "assert sys.version_info >= (3, 5)\n",
        "\n",
        "# Deteksi Colab atau Kaggle\n",
        "IS_COLAB = \"google.colab\" in sys.modules\n",
        "IS_KAGGLE = \"kaggle_secrets\" in sys.modules\n",
        "\n",
        "# Install library tambahan jika di Colab\n",
        "if IS_COLAB:\n",
        "    %pip install -q -U tensorflow-addons transformers\n",
        "\n",
        "# Cek versi Scikit-learn & TensorFlow\n",
        "import sklearn\n",
        "import tensorflow as tf\n",
        "assert sklearn.__version__ >= \"0.20\"\n",
        "assert tf.__version__ >= \"2.0\"\n",
        "\n",
        "# Peringatan jika tidak ada GPU\n",
        "if not tf.config.list_physical_devices('GPU'):\n",
        "    print(\"⚠️ GPU tidak terdeteksi.\")\n",
        "    if IS_COLAB:\n",
        "        print(\"Aktifkan GPU via Runtime > Change runtime type.\")\n",
        "    elif IS_KAGGLE:\n",
        "        print(\"Aktifkan GPU via Settings > Accelerator.\")\n",
        "\n",
        "# Import umum\n",
        "import numpy as np\n",
        "import os\n",
        "import matplotlib.pyplot as plt\n",
        "import matplotlib as mpl\n",
        "\n",
        "# Konfigurasi acak dan plotting\n",
        "np.random.seed(42)\n",
        "tf.random.set_seed(42)\n",
        "\n",
        "mpl.rc('axes', labelsize=14)\n",
        "mpl.rc('xtick', labelsize=12)\n",
        "mpl.rc('ytick', labelsize=12)\n",
        "\n",
        "# Path penyimpanan gambar\n",
        "PROJECT_ROOT_DIR = \".\"\n",
        "CHAPTER_ID = \"nlp\"\n",
        "IMAGES_PATH = os.path.join(PROJECT_ROOT_DIR, \"images\", CHAPTER_ID)\n",
        "os.makedirs(IMAGES_PATH, exist_ok=True)\n",
        "\n",
        "def save_fig(fig_id, tight_layout=True, fig_extension=\"png\", resolution=300):\n",
        "    path = os.path.join(IMAGES_PATH, f\"{fig_id}.{fig_extension}\")\n",
        "    print(\"Saving figure\", fig_id)\n",
        "    if tight_layout:\n",
        "        plt.tight_layout()\n",
        "    plt.savefig(path, format=fig_extension, dpi=resolution)\n"
      ]
    },
    {
      "cell_type": "markdown",
      "source": [
        "#Char-RNN"
      ],
      "metadata": {
        "id": "D5tlXYkTkgFy"
      }
    },
    {
      "cell_type": "markdown",
      "source": [
        "##Splitting a sequence into batches of shuffled windows"
      ],
      "metadata": {
        "id": "2-W2Dvj8kcc4"
      }
    },
    {
      "cell_type": "code",
      "source": [
        "import tensorflow as tf\n",
        "import numpy as np\n",
        "\n",
        "# Set seed untuk reproducibility\n",
        "np.random.seed(42)\n",
        "tf.random.set_seed(42)\n",
        "\n",
        "# Parameter\n",
        "n_steps = 5\n",
        "\n",
        "# Buat dataset windowed\n",
        "dataset = (\n",
        "    tf.data.Dataset.range(15)\n",
        "    .window(size=n_steps, shift=2, drop_remainder=True)\n",
        "    .flat_map(lambda w: w.batch(n_steps))\n",
        "    .shuffle(buffer_size=10)\n",
        "    .map(lambda w: (w[:-1], w[1:]))  # X: semua kecuali terakhir, Y: semua kecuali pertama\n",
        "    .batch(3)\n",
        "    .prefetch(1)\n",
        ")\n",
        "\n",
        "# Tampilkan isi batch\n",
        "for i, (X, Y) in enumerate(dataset):\n",
        "    print(f\"{'_'*20} Batch {i}\\nX:\\n{X.numpy()}\\n{'='*5}\\nY:\\n{Y.numpy()}\")\n"
      ],
      "metadata": {
        "colab": {
          "base_uri": "https://localhost:8080/"
        },
        "id": "7SDEpzZGkdJI",
        "outputId": "9d79f34e-f5c9-44d4-f903-4e74c7dfbc7f"
      },
      "execution_count": 2,
      "outputs": [
        {
          "output_type": "stream",
          "name": "stdout",
          "text": [
            "____________________ Batch 0\n",
            "X:\n",
            "[[6 7 8 9]\n",
            " [2 3 4 5]\n",
            " [4 5 6 7]]\n",
            "=====\n",
            "Y:\n",
            "[[ 7  8  9 10]\n",
            " [ 3  4  5  6]\n",
            " [ 5  6  7  8]]\n",
            "____________________ Batch 1\n",
            "X:\n",
            "[[ 0  1  2  3]\n",
            " [ 8  9 10 11]\n",
            " [10 11 12 13]]\n",
            "=====\n",
            "Y:\n",
            "[[ 1  2  3  4]\n",
            " [ 9 10 11 12]\n",
            " [11 12 13 14]]\n"
          ]
        }
      ]
    },
    {
      "cell_type": "markdown",
      "source": [
        "##Loading the Data and Preparing the Dataset"
      ],
      "metadata": {
        "id": "4CdKXb2GknsN"
      }
    },
    {
      "cell_type": "code",
      "source": [
        "import tensorflow as tf\n",
        "from tensorflow import keras\n",
        "import numpy as np\n",
        "\n",
        "# Unduh teks Shakespeare\n",
        "url = \"https://raw.githubusercontent.com/karpathy/char-rnn/master/data/tinyshakespeare/input.txt\"\n",
        "filepath = keras.utils.get_file(\"shakespeare.txt\", url)\n",
        "with open(filepath) as f:\n",
        "    text = f.read()\n",
        "\n",
        "# Tokenisasi karakter\n",
        "tokenizer = keras.preprocessing.text.Tokenizer(char_level=True)\n",
        "tokenizer.fit_on_texts(text)\n",
        "max_id = len(tokenizer.word_index)  # jumlah karakter unik\n",
        "[encoded] = np.array(tokenizer.texts_to_sequences([text])) - 1\n",
        "dataset_size = tokenizer.document_count\n",
        "\n",
        "# Dataset split dan windowing\n",
        "train_size = dataset_size * 90 // 100\n",
        "n_steps = 100\n",
        "window_length = n_steps + 1\n",
        "batch_size = 32\n",
        "\n",
        "dataset = (\n",
        "    tf.data.Dataset.from_tensor_slices(encoded[:train_size])\n",
        "    .window(window_length, shift=1, drop_remainder=True)\n",
        "    .flat_map(lambda window: window.batch(window_length))\n",
        "    .shuffle(10000)\n",
        "    .batch(batch_size)\n",
        "    .map(lambda window: (window[:, :-1], window[:, 1:]))\n",
        "    .map(lambda X, Y: (tf.one_hot(X, depth=max_id), Y))\n",
        "    .prefetch(1)\n",
        ")\n",
        "\n",
        "# Lihat contoh batch\n",
        "for X_batch, Y_batch in dataset.take(1):\n",
        "    print(\"X shape:\", X_batch.shape, \"Y shape:\", Y_batch.shape)\n"
      ],
      "metadata": {
        "colab": {
          "base_uri": "https://localhost:8080/"
        },
        "id": "T-5mtwTolMZF",
        "outputId": "70096c8d-35be-46a8-ae95-73a9c7cfef4f"
      },
      "execution_count": 3,
      "outputs": [
        {
          "output_type": "stream",
          "name": "stdout",
          "text": [
            "Downloading data from https://raw.githubusercontent.com/karpathy/char-rnn/master/data/tinyshakespeare/input.txt\n",
            "\u001b[1m1115394/1115394\u001b[0m \u001b[32m━━━━━━━━━━━━━━━━━━━━\u001b[0m\u001b[37m\u001b[0m \u001b[1m0s\u001b[0m 0us/step\n",
            "X shape: (32, 100, 39) Y shape: (32, 100)\n"
          ]
        }
      ]
    },
    {
      "cell_type": "markdown",
      "source": [
        "##Creating and Training the Model"
      ],
      "metadata": {
        "id": "6euXml0nlMrG"
      }
    },
    {
      "cell_type": "code",
      "source": [
        "# Set ulang n_steps dan dataset\n",
        "n_steps = 50\n",
        "window_length = n_steps + 1\n",
        "batch_size = 32\n",
        "\n",
        "# Dataset tanpa one-hot (pakai Embedding)\n",
        "dataset = (\n",
        "    tf.data.Dataset.from_tensor_slices(encoded[:train_size])\n",
        "    .window(window_length, shift=1, drop_remainder=True)\n",
        "    .flat_map(lambda window: window.batch(window_length))\n",
        "    .shuffle(10000)\n",
        "    .batch(batch_size)\n",
        "    .map(lambda window: (window[:, :-1], window[:, 1:]))  # X, Y\n",
        "    .prefetch(1)\n",
        ")\n",
        "\n",
        "# Model lebih ringan dan efisien\n",
        "model = keras.models.Sequential([\n",
        "    keras.layers.Embedding(input_dim=max_id, output_dim=32),  # lebih ringan daripada one-hot\n",
        "    keras.layers.GRU(64, return_sequences=True, dropout=0.2),\n",
        "    keras.layers.GRU(64, return_sequences=True, dropout=0.2),\n",
        "    keras.layers.TimeDistributed(keras.layers.Dense(max_id, activation=\"softmax\"))\n",
        "])\n",
        "\n",
        "# Compile dan training\n",
        "model.compile(loss=\"sparse_categorical_crossentropy\", optimizer=\"adam\", metrics=[\"accuracy\"])\n",
        "history = model.fit(dataset, epochs=5)  # Mulai dengan 5 epoch dulu\n",
        "\n",
        "# Evaluasi dan visualisasi\n",
        "acc = history.history[\"accuracy\"]\n",
        "loss = history.history[\"loss\"]\n",
        "\n",
        "print(f\"\\nFinal Accuracy: {acc[-1]:.4f}\")\n",
        "print(f\"Final Loss: {loss[-1]:.4f}\")\n",
        "\n",
        "import matplotlib.pyplot as plt\n",
        "plt.plot(acc, label=\"Accuracy\")\n",
        "plt.plot(loss, label=\"Loss\")\n",
        "plt.title(\"Training Accuracy & Loss\")\n",
        "plt.xlabel(\"Epoch\")\n",
        "plt.ylabel(\"Value\")\n",
        "plt.legend()\n",
        "plt.grid(True)\n",
        "plt.show()\n"
      ],
      "metadata": {
        "colab": {
          "base_uri": "https://localhost:8080/",
          "height": 900
        },
        "id": "qJe7TJLllkcy",
        "outputId": "2ac6b95e-8fba-427c-d0a9-fbe2b60ca1ae"
      },
      "execution_count": 5,
      "outputs": [
        {
          "output_type": "stream",
          "name": "stdout",
          "text": [
            "Epoch 1/5\n",
            "\u001b[1m31369/31369\u001b[0m \u001b[32m━━━━━━━━━━━━━━━━━━━━\u001b[0m\u001b[37m\u001b[0m \u001b[1m1474s\u001b[0m 47ms/step - accuracy: 0.4822 - loss: 1.7263\n",
            "Epoch 2/5\n"
          ]
        },
        {
          "output_type": "stream",
          "name": "stderr",
          "text": [
            "/usr/local/lib/python3.11/dist-packages/keras/src/trainers/epoch_iterator.py:151: UserWarning: Your input ran out of data; interrupting training. Make sure that your dataset or generator can generate at least `steps_per_epoch * epochs` batches. You may need to use the `.repeat()` function when building your dataset.\n",
            "  self._interrupted_warning()\n"
          ]
        },
        {
          "output_type": "stream",
          "name": "stdout",
          "text": [
            "\u001b[1m31369/31369\u001b[0m \u001b[32m━━━━━━━━━━━━━━━━━━━━\u001b[0m\u001b[37m\u001b[0m \u001b[1m1433s\u001b[0m 46ms/step - accuracy: 0.5330 - loss: 1.5148\n",
            "Epoch 3/5\n"
          ]
        },
        {
          "output_type": "stream",
          "name": "stderr",
          "text": [
            "/usr/local/lib/python3.11/dist-packages/keras/src/trainers/epoch_iterator.py:151: UserWarning: Your input ran out of data; interrupting training. Make sure that your dataset or generator can generate at least `steps_per_epoch * epochs` batches. You may need to use the `.repeat()` function when building your dataset.\n",
            "  self._interrupted_warning()\n"
          ]
        },
        {
          "output_type": "stream",
          "name": "stdout",
          "text": [
            "\u001b[1m31369/31369\u001b[0m \u001b[32m━━━━━━━━━━━━━━━━━━━━\u001b[0m\u001b[37m\u001b[0m \u001b[1m1474s\u001b[0m 46ms/step - accuracy: 0.5403 - loss: 1.4843\n",
            "Epoch 4/5\n"
          ]
        },
        {
          "output_type": "stream",
          "name": "stderr",
          "text": [
            "/usr/local/lib/python3.11/dist-packages/keras/src/trainers/epoch_iterator.py:151: UserWarning: Your input ran out of data; interrupting training. Make sure that your dataset or generator can generate at least `steps_per_epoch * epochs` batches. You may need to use the `.repeat()` function when building your dataset.\n",
            "  self._interrupted_warning()\n"
          ]
        },
        {
          "output_type": "stream",
          "name": "stdout",
          "text": [
            "\u001b[1m31369/31369\u001b[0m \u001b[32m━━━━━━━━━━━━━━━━━━━━\u001b[0m\u001b[37m\u001b[0m \u001b[1m1483s\u001b[0m 47ms/step - accuracy: 0.5439 - loss: 1.4700\n",
            "Epoch 5/5\n"
          ]
        },
        {
          "output_type": "stream",
          "name": "stderr",
          "text": [
            "/usr/local/lib/python3.11/dist-packages/keras/src/trainers/epoch_iterator.py:151: UserWarning: Your input ran out of data; interrupting training. Make sure that your dataset or generator can generate at least `steps_per_epoch * epochs` batches. You may need to use the `.repeat()` function when building your dataset.\n",
            "  self._interrupted_warning()\n"
          ]
        },
        {
          "output_type": "stream",
          "name": "stdout",
          "text": [
            "\u001b[1m31369/31369\u001b[0m \u001b[32m━━━━━━━━━━━━━━━━━━━━\u001b[0m\u001b[37m\u001b[0m \u001b[1m1475s\u001b[0m 45ms/step - accuracy: 0.5459 - loss: 1.4619\n"
          ]
        },
        {
          "output_type": "stream",
          "name": "stderr",
          "text": [
            "/usr/local/lib/python3.11/dist-packages/keras/src/trainers/epoch_iterator.py:151: UserWarning: Your input ran out of data; interrupting training. Make sure that your dataset or generator can generate at least `steps_per_epoch * epochs` batches. You may need to use the `.repeat()` function when building your dataset.\n",
            "  self._interrupted_warning()\n"
          ]
        },
        {
          "output_type": "stream",
          "name": "stdout",
          "text": [
            "\n",
            "Final Accuracy: 0.5461\n",
            "Final Loss: 1.4607\n"
          ]
        },
        {
          "output_type": "display_data",
          "data": {
            "text/plain": [
              "<Figure size 640x480 with 1 Axes>"
            ],
            "image/png": "[encoded data removed]"
          },
          "metadata": {}
        }
      ]
    },
    {
      "cell_type": "markdown",
      "source": [
        "##Using the Model to Generate Text"
      ],
      "metadata": {
        "id": "uJDwNgiWll-_"
      }
    },
    {
      "cell_type": "code",
      "source": [
        "# Fungsi preprocessing teks ke one-hot tensor\n",
        "def preprocess(texts):\n",
        "    X = np.array(tokenizer.texts_to_sequences(texts)) - 1\n",
        "    return tf.one_hot(X, depth=max_id)\n",
        "\n",
        "# Fungsi prediksi 1 karakter berikutnya\n",
        "def next_char(text, temperature=1.0):\n",
        "    X_new = preprocess([text])\n",
        "    y_proba = model(X_new)[0, -1]\n",
        "    logits = tf.math.log(y_proba) / temperature\n",
        "    char_id = tf.random.categorical([logits], num_samples=1) + 1\n",
        "    return tokenizer.sequences_to_texts(char_id.numpy())[0]\n",
        "\n",
        "# Fungsi melengkapi teks dengan n karakter\n",
        "def complete_text(text, n_chars=50, temperature=1.0):\n",
        "    for _ in range(n_chars):\n",
        "        text += next_char(text, temperature)\n",
        "    return text\n"
      ],
      "metadata": {
        "id": "kfsVe6K5lolT"
      },
      "execution_count": 6,
      "outputs": []
    },
    {
      "cell_type": "markdown",
      "source": [
        "##Stateful RNN"
      ],
      "metadata": {
        "id": "6AE52YUbmWLv"
      }
    },
    {
      "cell_type": "code",
      "source": [
        "import tensorflow as tf\n",
        "from tensorflow import keras\n",
        "import numpy as np\n",
        "\n",
        "# 1. Parameter dan preprocessing\n",
        "tf.random.set_seed(42)\n",
        "n_steps = 100\n",
        "window_length = n_steps + 1\n",
        "batch_size = 32\n",
        "\n",
        "# Bagi data menjadi bagian untuk stateful training\n",
        "encoded_parts = np.array_split(encoded[:train_size], batch_size)\n",
        "datasets = []\n",
        "for part in encoded_parts:\n",
        "    ds = tf.data.Dataset.from_tensor_slices(part)\n",
        "    ds = ds.window(window_length, shift=n_steps, drop_remainder=True)\n",
        "    ds = ds.flat_map(lambda w: w.batch(window_length))\n",
        "    datasets.append(ds)\n",
        "\n",
        "# Zip dan stack dataset dari tiap batch\n",
        "dataset = tf.data.Dataset.zip(tuple(datasets))\n",
        "dataset = dataset.map(lambda *windows: tf.stack(windows))\n",
        "dataset = dataset.map(lambda w: (w[:, :-1], w[:, 1:]))\n",
        "dataset = dataset.map(lambda X, Y: (tf.one_hot(X, depth=max_id), Y))\n",
        "dataset = dataset.prefetch(1)\n",
        "\n",
        "# 2. Stateful GRU model (dengan Input layer eksplisit)\n",
        "stateful_model = keras.models.Sequential([\n",
        "    keras.layers.Input(batch_shape=(batch_size, None, max_id)),  # gunakan Input layer\n",
        "    keras.layers.GRU(128, return_sequences=True, stateful=True, dropout=0.2),\n",
        "    keras.layers.GRU(128, return_sequences=True, stateful=True, dropout=0.2),\n",
        "    keras.layers.TimeDistributed(keras.layers.Dense(max_id, activation=\"softmax\"))\n",
        "])\n",
        "\n",
        "# Callback untuk reset state di setiap epoch\n",
        "class ResetStatesCallback(keras.callbacks.Callback):\n",
        "    def on_epoch_begin(self, epoch, logs=None):\n",
        "        for layer in self.model.layers:\n",
        "            if hasattr(layer, 'reset_states'):\n",
        "                layer.reset_states()\n",
        "\n",
        "# Kompilasi dan pelatihan\n",
        "stateful_model.compile(loss=\"sparse_categorical_crossentropy\", optimizer=\"adam\")\n",
        "history = stateful_model.fit(dataset, epochs=10, callbacks=[ResetStatesCallback()])\n",
        "\n",
        "# 3. Konversi ke model stateless (untuk inference)\n",
        "stateless_model = keras.models.Sequential([\n",
        "    keras.layers.GRU(128, return_sequences=True, input_shape=[None, max_id]),\n",
        "    keras.layers.GRU(128, return_sequences=True),\n",
        "    keras.layers.TimeDistributed(keras.layers.Dense(max_id, activation=\"softmax\"))\n",
        "])\n",
        "stateless_model.build(tf.TensorShape([None, None, max_id]))\n",
        "stateless_model.set_weights(stateful_model.get_weights())\n",
        "\n",
        "# Ganti model agar bisa digunakan untuk inference\n",
        "model = stateless_model\n"
      ],
      "metadata": {
        "colab": {
          "base_uri": "https://localhost:8080/"
        },
        "id": "r2Gu_xvgnW5n",
        "outputId": "ad753556-7463-45a0-beb7-1ac8123ed062"
      },
      "execution_count": 10,
      "outputs": [
        {
          "output_type": "stream",
          "name": "stdout",
          "text": [
            "Epoch 1/10\n",
            "\u001b[1m313/313\u001b[0m \u001b[32m━━━━━━━━━━━━━━━━━━━━\u001b[0m\u001b[37m\u001b[0m \u001b[1m31s\u001b[0m 86ms/step - loss: 2.9078\n",
            "Epoch 2/10\n"
          ]
        },
        {
          "output_type": "stream",
          "name": "stderr",
          "text": [
            "/usr/local/lib/python3.11/dist-packages/keras/src/trainers/epoch_iterator.py:151: UserWarning: Your input ran out of data; interrupting training. Make sure that your dataset or generator can generate at least `steps_per_epoch * epochs` batches. You may need to use the `.repeat()` function when building your dataset.\n",
            "  self._interrupted_warning()\n"
          ]
        },
        {
          "output_type": "stream",
          "name": "stdout",
          "text": [
            "\u001b[1m313/313\u001b[0m \u001b[32m━━━━━━━━━━━━━━━━━━━━\u001b[0m\u001b[37m\u001b[0m \u001b[1m27s\u001b[0m 85ms/step - loss: 2.2802\n",
            "Epoch 3/10\n"
          ]
        },
        {
          "output_type": "stream",
          "name": "stderr",
          "text": [
            "/usr/local/lib/python3.11/dist-packages/keras/src/trainers/epoch_iterator.py:151: UserWarning: Your input ran out of data; interrupting training. Make sure that your dataset or generator can generate at least `steps_per_epoch * epochs` batches. You may need to use the `.repeat()` function when building your dataset.\n",
            "  self._interrupted_warning()\n"
          ]
        },
        {
          "output_type": "stream",
          "name": "stdout",
          "text": [
            "\u001b[1m313/313\u001b[0m \u001b[32m━━━━━━━━━━━━━━━━━━━━\u001b[0m\u001b[37m\u001b[0m \u001b[1m41s\u001b[0m 85ms/step - loss: 2.1269\n",
            "Epoch 4/10\n"
          ]
        },
        {
          "output_type": "stream",
          "name": "stderr",
          "text": [
            "/usr/local/lib/python3.11/dist-packages/keras/src/trainers/epoch_iterator.py:151: UserWarning: Your input ran out of data; interrupting training. Make sure that your dataset or generator can generate at least `steps_per_epoch * epochs` batches. You may need to use the `.repeat()` function when building your dataset.\n",
            "  self._interrupted_warning()\n"
          ]
        },
        {
          "output_type": "stream",
          "name": "stdout",
          "text": [
            "\u001b[1m313/313\u001b[0m \u001b[32m━━━━━━━━━━━━━━━━━━━━\u001b[0m\u001b[37m\u001b[0m \u001b[1m27s\u001b[0m 85ms/step - loss: 2.0480\n",
            "Epoch 5/10\n"
          ]
        },
        {
          "output_type": "stream",
          "name": "stderr",
          "text": [
            "/usr/local/lib/python3.11/dist-packages/keras/src/trainers/epoch_iterator.py:151: UserWarning: Your input ran out of data; interrupting training. Make sure that your dataset or generator can generate at least `steps_per_epoch * epochs` batches. You may need to use the `.repeat()` function when building your dataset.\n",
            "  self._interrupted_warning()\n"
          ]
        },
        {
          "output_type": "stream",
          "name": "stdout",
          "text": [
            "\u001b[1m313/313\u001b[0m \u001b[32m━━━━━━━━━━━━━━━━━━━━\u001b[0m\u001b[37m\u001b[0m \u001b[1m28s\u001b[0m 89ms/step - loss: 1.9845\n",
            "Epoch 6/10\n"
          ]
        },
        {
          "output_type": "stream",
          "name": "stderr",
          "text": [
            "/usr/local/lib/python3.11/dist-packages/keras/src/trainers/epoch_iterator.py:151: UserWarning: Your input ran out of data; interrupting training. Make sure that your dataset or generator can generate at least `steps_per_epoch * epochs` batches. You may need to use the `.repeat()` function when building your dataset.\n",
            "  self._interrupted_warning()\n"
          ]
        },
        {
          "output_type": "stream",
          "name": "stdout",
          "text": [
            "\u001b[1m313/313\u001b[0m \u001b[32m━━━━━━━━━━━━━━━━━━━━\u001b[0m\u001b[37m\u001b[0m \u001b[1m40s\u001b[0m 85ms/step - loss: 1.9469\n",
            "Epoch 7/10\n"
          ]
        },
        {
          "output_type": "stream",
          "name": "stderr",
          "text": [
            "/usr/local/lib/python3.11/dist-packages/keras/src/trainers/epoch_iterator.py:151: UserWarning: Your input ran out of data; interrupting training. Make sure that your dataset or generator can generate at least `steps_per_epoch * epochs` batches. You may need to use the `.repeat()` function when building your dataset.\n",
            "  self._interrupted_warning()\n"
          ]
        },
        {
          "output_type": "stream",
          "name": "stdout",
          "text": [
            "\u001b[1m313/313\u001b[0m \u001b[32m━━━━━━━━━━━━━━━━━━━━\u001b[0m\u001b[37m\u001b[0m \u001b[1m41s\u001b[0m 85ms/step - loss: 1.9137\n",
            "Epoch 8/10\n"
          ]
        },
        {
          "output_type": "stream",
          "name": "stderr",
          "text": [
            "/usr/local/lib/python3.11/dist-packages/keras/src/trainers/epoch_iterator.py:151: UserWarning: Your input ran out of data; interrupting training. Make sure that your dataset or generator can generate at least `steps_per_epoch * epochs` batches. You may need to use the `.repeat()` function when building your dataset.\n",
            "  self._interrupted_warning()\n"
          ]
        },
        {
          "output_type": "stream",
          "name": "stdout",
          "text": [
            "\u001b[1m313/313\u001b[0m \u001b[32m━━━━━━━━━━━━━━━━━━━━\u001b[0m\u001b[37m\u001b[0m \u001b[1m27s\u001b[0m 86ms/step - loss: 1.8878\n",
            "Epoch 9/10\n"
          ]
        },
        {
          "output_type": "stream",
          "name": "stderr",
          "text": [
            "/usr/local/lib/python3.11/dist-packages/keras/src/trainers/epoch_iterator.py:151: UserWarning: Your input ran out of data; interrupting training. Make sure that your dataset or generator can generate at least `steps_per_epoch * epochs` batches. You may need to use the `.repeat()` function when building your dataset.\n",
            "  self._interrupted_warning()\n"
          ]
        },
        {
          "output_type": "stream",
          "name": "stdout",
          "text": [
            "\u001b[1m313/313\u001b[0m \u001b[32m━━━━━━━━━━━━━━━━━━━━\u001b[0m\u001b[37m\u001b[0m \u001b[1m27s\u001b[0m 87ms/step - loss: 1.8687\n",
            "Epoch 10/10\n"
          ]
        },
        {
          "output_type": "stream",
          "name": "stderr",
          "text": [
            "/usr/local/lib/python3.11/dist-packages/keras/src/trainers/epoch_iterator.py:151: UserWarning: Your input ran out of data; interrupting training. Make sure that your dataset or generator can generate at least `steps_per_epoch * epochs` batches. You may need to use the `.repeat()` function when building your dataset.\n",
            "  self._interrupted_warning()\n"
          ]
        },
        {
          "output_type": "stream",
          "name": "stdout",
          "text": [
            "\u001b[1m313/313\u001b[0m \u001b[32m━━━━━━━━━━━━━━━━━━━━\u001b[0m\u001b[37m\u001b[0m \u001b[1m28s\u001b[0m 88ms/step - loss: 1.8553\n"
          ]
        },
        {
          "output_type": "stream",
          "name": "stderr",
          "text": [
            "/usr/local/lib/python3.11/dist-packages/keras/src/trainers/epoch_iterator.py:151: UserWarning: Your input ran out of data; interrupting training. Make sure that your dataset or generator can generate at least `steps_per_epoch * epochs` batches. You may need to use the `.repeat()` function when building your dataset.\n",
            "  self._interrupted_warning()\n",
            "/usr/local/lib/python3.11/dist-packages/keras/src/layers/rnn/rnn.py:200: UserWarning: Do not pass an `input_shape`/`input_dim` argument to a layer. When using Sequential models, prefer using an `Input(shape)` object as the first layer in the model instead.\n",
            "  super().__init__(**kwargs)\n"
          ]
        }
      ]
    },
    {
      "cell_type": "code",
      "source": [
        "def preprocess(texts):\n",
        "    X = np.array(tokenizer.texts_to_sequences(texts)) - 1\n",
        "    return tf.one_hot(X, depth=max_id)\n",
        "\n",
        "def next_char(text, temperature=1.0):\n",
        "    X_new = preprocess([text])\n",
        "    y_proba = model(X_new)[0, -1]\n",
        "    logits = tf.math.log(y_proba) / temperature\n",
        "    char_id = tf.random.categorical([logits], num_samples=1) + 1\n",
        "    return tokenizer.sequences_to_texts(char_id.numpy())[0]\n",
        "\n",
        "def complete_text(text, n_chars=50, temperature=1.0):\n",
        "    for _ in range(n_chars):\n",
        "        text += next_char(text, temperature)\n",
        "    return text\n",
        "\n",
        "# Contoh penggunaan\n",
        "print(complete_text(\"t\"))\n"
      ],
      "metadata": {
        "colab": {
          "base_uri": "https://localhost:8080/"
        },
        "id": "S67ib6SyoFii",
        "outputId": "53c8237f-3f2c-4cd9-8e9a-05661db4ac4c"
      },
      "execution_count": 11,
      "outputs": [
        {
          "output_type": "stream",
          "name": "stdout",
          "text": [
            "thing chaid whosoer this vows\n",
            "wan. bear the onstang\n"
          ]
        }
      ]
    },
    {
      "cell_type": "markdown",
      "source": [
        "##Sentiment Analysis"
      ],
      "metadata": {
        "id": "WDSh11-Nnv16"
      }
    },
    {
      "cell_type": "code",
      "source": [
        "import tensorflow as tf\n",
        "from tensorflow import keras\n",
        "import tensorflow_datasets as tfds\n",
        "from collections import Counter\n",
        "import matplotlib.pyplot as plt\n",
        "\n",
        "# Muat dataset dan info\n",
        "datasets, info = tfds.load(\"imdb_reviews\", as_supervised=True, with_info=True)\n",
        "train_size, test_size = info.splits[\"train\"].num_examples, info.splits[\"test\"].num_examples\n",
        "\n",
        "# Fungsi preprocessing teks\n",
        "def preprocess(X_batch, y_batch):\n",
        "    X_batch = tf.strings.substr(X_batch, 0, 300)\n",
        "    X_batch = tf.strings.regex_replace(X_batch, rb\"<br\\s*/?>\", b\" \")\n",
        "    X_batch = tf.strings.regex_replace(X_batch, b\"[^a-zA-Z']\", b\" \")\n",
        "    X_batch = tf.strings.split(X_batch)\n",
        "    return X_batch.to_tensor(default_value=b\"<pad>\"), y_batch\n",
        "\n",
        "# Hitung vocabulary\n",
        "vocabulary = Counter()\n",
        "for X_batch, y_batch in datasets[\"train\"].batch(32).map(preprocess):\n",
        "    for review in X_batch:\n",
        "        vocabulary.update(list(review.numpy()))\n",
        "\n",
        "# Batasi vocab dan buat table lookup\n",
        "vocab_size = 10000\n",
        "truncated_vocab = [word for word, _ in vocabulary.most_common()[:vocab_size]]\n",
        "word_to_id = {word: idx for idx, word in enumerate(truncated_vocab)}\n",
        "words = tf.constant(truncated_vocab)\n",
        "word_ids = tf.range(len(truncated_vocab), dtype=tf.int64)\n",
        "vocab_init = tf.lookup.KeyValueTensorInitializer(words, word_ids)\n",
        "num_oov_buckets = 1000\n",
        "table = tf.lookup.StaticVocabularyTable(vocab_init, num_oov_buckets)\n",
        "\n",
        "# Encode word\n",
        "def encode_words(X_batch, y_batch):\n",
        "    return table.lookup(X_batch), y_batch\n",
        "\n",
        "# Buat dataset akhir\n",
        "train_set = datasets[\"train\"].batch(32).map(preprocess).map(encode_words).prefetch(1)\n",
        "test_set = datasets[\"test\"].batch(32).map(preprocess).map(encode_words).prefetch(1)"
      ],
      "metadata": {
        "colab": {
          "base_uri": "https://localhost:8080/",
          "height": 133,
          "referenced_widgets": [
            "9982b2ac0b0f4834bd7b2c4c73c32e59",
            "b9c2442465664f998725e1312298bb85",
            "81d88531e1e84a42bb4bc5f5c149e0a7",
            "c0d4db8e0463495eaa86508b653466b9",
            "e69c3ed2671443a78fa8add306ce1072",
            "b877a68729d34247bb481de9c949264b",
            "2bfa6ee269064da38a10dae4811b1219",
            "975fb8d331ec4fbc9c5fe730a3472620",
            "eea3461b645a430b9eccd0bb9382bad4",
            "f9c7a1c823524b088fdd128885fc842e",
            "55bc7f9b1c68453f92d8a33e8548048c",
            "a7038b07f53e45afa48315af870ae036",
            "9da5c3afb59040b2b51a600183f417e3",
            "146e1d0e7fe04e1b955df9f7f037199b",
            "074241697e164399a6962d2e095aaa5d",
            "3e9835ce85c64ded8e91c83a10b6befd",
            "8b413b2fba884b348525db64be54c8fc",
            "1fd66c628c2a48f18cdf5544041b5ef3",
            "d8672eae84064e72a1bc5fe9d258e8c7",
            "5498015b5fbe46cda5f08241d490a105",
            "b221a77732d5408990b412a3a31e7ccf",
            "3223ca08251d4d0db77f338a61d05351",
            "dffeb12799fa4020b05bf63bcf1ad2a2",
            "50aeeee229f7417cb84b30f0e9779b3b",
            "8793d0d15fbe4225a75487896ee35684",
            "f244d7a7610f44bab955308838138913",
            "e242bcc8951b4ae78ddd4cfba971be78",
            "6ba2292c51b8469185f99a9599c2daf5",
            "93a26a2dbb5f4c7b88f0d298d5af475b",
            "c96addd2643d49608dc55f64a43e6e32",
            "59d674741e534a7e9d7b3a56cd00baaa",
            "c79aedbc9cb44fb1973e4acc65561a01",
            "dd88da6004a04a53b84c1f896ecebc99",
            "316cd025523c4e2fbfaf6e0500c7d4c6",
            "cf6e5d54f05f4347b41e062f8e3c9ee9",
            "15b42b658ee54d0ea12c66b7eb5e674f",
            "ee1626c4149e4d0683ec13200715aeb2",
            "7c9ef1bbe4fd4018a969661284e1771a",
            "d0869748618c40dca81db6c15b56e9b3",
            "64ede5f98dee46098426dacd3d6d40e7",
            "b2488222cb1f4128ab086ef2f4fa78fa",
            "8d1358f28acc46e9a9b4ee7ab2c73a7f",
            "aa39434975b8479da288fd8d6fdbe62a",
            "6d72359129e3462696679d8ae9b926f7",
            "2c003be1aa4c4a57b15719dc9e75ded5",
            "af8ed2b819c348728265048a1bbc35c7",
            "af14c2271006482ba64d1fbd102d6299",
            "19039133fb7b4237a8b5887497d59601",
            "764c2f472e6141aeb37aeb60b1a3ea9a",
            "2a9b5439b67d4d90bb0c9d778238f83f",
            "b49c9a03b6e241fa9e508fcbf553fe52",
            "1272ee7c32d74447a7f271074ae29001",
            "8ef3d230270849d68f7444438a437c50",
            "9bde9053de0844c2a8016463d1dbb151",
            "4d4438b6e76d42a8b2743392180a71b0",
            "3eba430fd6a24c7aab1c66869bbc31e3",
            "bf7ce870317b401e95d6b46f5b3df150",
            "9d44570ad49248b49adda373415dae3c",
            "351d028eff6748639c03e377be0dccb5",
            "ca8a974ee89e426b9c288c41255158e0",
            "749ce7f9fb2b4b41a55c0c5ee4e785ef",
            "20f244f6b1c54df0bc10dc5f56855a6d",
            "161a595caee04a279baca746d41d3db0",
            "2f324e9727aa4c2f86f39e3a53c82a8f",
            "1bf05493c18a44449bcd6e10c44d66e6",
            "60347742d1d5406f927beaf40c59de27",
            "f1a68229186840ac947ff6eb72ccf976",
            "b16d02674e8045c9a936219af3955f99",
            "da9fb8830d134beebf37479606466b5b",
            "dcd68fc519e64da3a511cf772a79a14f",
            "efd0c37c408c4badb3288fe39f7e8d2b",
            "929c3c7897d641c69e7b45dcb7df16eb",
            "eb131b13d3c94b3eba274a0a2c5852f6",
            "6fbbc049837547cab033bd6b19ffbcc7",
            "fe8d527e99a44179ba73ae6c574dc83c",
            "e56ec56374ec4b7e9e0de71cfece83e3",
            "6a9dd9fcfb95434bb645db3c8db1793d",
            "27ffcc512fdd485a8a5003e07ef4d798",
            "f48017587ba9480fa17149d57af2fbe8",
            "d2459f22fa03493caa81422fcc125d14",
            "683f302d839f4e849f17667bb1108907",
            "3a0a21e879c04979a031fbe1e4660e8e",
            "49cbd2ecfec04b50851f594efa8dee11",
            "1467c1a927a4418ba359b7b29dcffac4",
            "4ccf7dbb482b4ee6ac0cb3f15edc1e4c",
            "358fea047c244361ad31e26d707c0bfc",
            "c56d5bd2f1464079a4a46f7c7e92ab93",
            "fd765bfb6d6a4835866cdf91b21efbc4",
            "e60ad1b324ed4f78b21171449050cc12",
            "2c97a560311f491cafcb37cdb63346ec",
            "ac2d23dddee5479caecdd5a00c88afa9",
            "5bdd3ae6ca694deb8b0a0a2be1051dc3",
            "0b8ae70bc5b548228b2990baf0d57da9",
            "e336905817b74d2b989bc56224c0ef3e",
            "6f68a6e44cbf451e93b95c6f716a1d92",
            "7e3b79e006bc4e1abd5d79674af76458",
            "5886177f9d8f46c58012132487c45229",
            "bcb7bee050704c20b9eaf363f8067991",
            "c545fcc9e8684e4da17f7b584aa8aa2b"
          ]
        },
        "id": "Gn5MooEDnyRr",
        "outputId": "045375f1-0c64-421d-e4c4-deb3dca100df"
      },
      "execution_count": 12,
      "outputs": [
        {
          "output_type": "stream",
          "name": "stderr",
          "text": [
            "WARNING:absl:Variant folder /root/tensorflow_datasets/imdb_reviews/plain_text/1.0.0 has no dataset_info.json\n"
          ]
        },
        {
          "output_type": "stream",
          "name": "stdout",
          "text": [
            "Downloading and preparing dataset Unknown size (download: Unknown size, generated: Unknown size, total: Unknown size) to /root/tensorflow_datasets/imdb_reviews/plain_text/1.0.0...\n"
          ]
        },
        {
          "output_type": "display_data",
          "data": {
            "text/plain": [
              "Dl Completed...: 0 url [00:00, ? url/s]"
            ],
            "application/vnd.jupyter.widget-view+json": {
              "version_major": 2,
              "version_minor": 0,
              "model_id": "9982b2ac0b0f4834bd7b2c4c73c32e59"
            }
          },
          "metadata": {}
        },
        {
          "output_type": "display_data",
          "data": {
            "text/plain": [
              "Dl Size...: 0 MiB [00:00, ? MiB/s]"
            ],
            "application/vnd.jupyter.widget-view+json": {
              "version_major": 2,
              "version_minor": 0,
              "model_id": "a7038b07f53e45afa48315af870ae036"
            }
          },
          "metadata": {}
        },
        {
          "output_type": "display_data",
          "data": {
            "text/plain": [
              "Generating splits...:   0%|          | 0/3 [00:00<?, ? splits/s]"
            ],
            "application/vnd.jupyter.widget-view+json": {
              "version_major": 2,
              "version_minor": 0,
              "model_id": "dffeb12799fa4020b05bf63bcf1ad2a2"
            }
          },
          "metadata": {}
        },
        {
          "output_type": "display_data",
          "data": {
            "text/plain": [
              "Generating train examples...: 0 examples [00:00, ? examples/s]"
            ],
            "application/vnd.jupyter.widget-view+json": {
              "version_major": 2,
              "version_minor": 0,
              "model_id": "316cd025523c4e2fbfaf6e0500c7d4c6"
            }
          },
          "metadata": {}
        },
        {
          "output_type": "display_data",
          "data": {
            "text/plain": [
              "Shuffling /root/tensorflow_datasets/imdb_reviews/plain_text/incomplete.FRP27K_1.0.0/imdb_reviews-train.tfrecor…"
            ],
            "application/vnd.jupyter.widget-view+json": {
              "version_major": 2,
              "version_minor": 0,
              "model_id": "2c003be1aa4c4a57b15719dc9e75ded5"
            }
          },
          "metadata": {}
        },
        {
          "output_type": "display_data",
          "data": {
            "text/plain": [
              "Generating test examples...: 0 examples [00:00, ? examples/s]"
            ],
            "application/vnd.jupyter.widget-view+json": {
              "version_major": 2,
              "version_minor": 0,
              "model_id": "3eba430fd6a24c7aab1c66869bbc31e3"
            }
          },
          "metadata": {}
        },
        {
          "output_type": "display_data",
          "data": {
            "text/plain": [
              "Shuffling /root/tensorflow_datasets/imdb_reviews/plain_text/incomplete.FRP27K_1.0.0/imdb_reviews-test.tfrecord…"
            ],
            "application/vnd.jupyter.widget-view+json": {
              "version_major": 2,
              "version_minor": 0,
              "model_id": "f1a68229186840ac947ff6eb72ccf976"
            }
          },
          "metadata": {}
        },
        {
          "output_type": "display_data",
          "data": {
            "text/plain": [
              "Generating unsupervised examples...: 0 examples [00:00, ? examples/s]"
            ],
            "application/vnd.jupyter.widget-view+json": {
              "version_major": 2,
              "version_minor": 0,
              "model_id": "27ffcc512fdd485a8a5003e07ef4d798"
            }
          },
          "metadata": {}
        },
        {
          "output_type": "display_data",
          "data": {
            "text/plain": [
              "Shuffling /root/tensorflow_datasets/imdb_reviews/plain_text/incomplete.FRP27K_1.0.0/imdb_reviews-unsupervised.…"
            ],
            "application/vnd.jupyter.widget-view+json": {
              "version_major": 2,
              "version_minor": 0,
              "model_id": "e60ad1b324ed4f78b21171449050cc12"
            }
          },
          "metadata": {}
        },
        {
          "output_type": "stream",
          "name": "stdout",
          "text": [
            "Dataset imdb_reviews downloaded and prepared to /root/tensorflow_datasets/imdb_reviews/plain_text/1.0.0. Subsequent calls will reuse this data.\n"
          ]
        }
      ]
    },
    {
      "cell_type": "code",
      "source": [
        "embed_size = 128\n",
        "inputs = keras.layers.Input(shape=[None])\n",
        "mask = keras.layers.Lambda(lambda x: tf.not_equal(x, 0))(inputs)\n",
        "z = keras.layers.Embedding(vocab_size + num_oov_buckets, embed_size)(inputs)\n",
        "z = keras.layers.GRU(128, return_sequences=True)(z, mask=mask)\n",
        "z = keras.layers.GRU(128)(z, mask=mask)\n",
        "outputs = keras.layers.Dense(1, activation=\"sigmoid\")(z)\n",
        "model = keras.Model(inputs=[inputs], outputs=[outputs])\n",
        "\n",
        "# Kompilasi dan pelatihan\n",
        "model.compile(loss=\"binary_crossentropy\", optimizer=\"adam\", metrics=[\"accuracy\"])\n",
        "history = model.fit(train_set, epochs=5, validation_data=test_set)"
      ],
      "metadata": {
        "colab": {
          "base_uri": "https://localhost:8080/"
        },
        "id": "zuU1srNmpKy7",
        "outputId": "73ebcea4-485f-4a57-9dfe-5a9273e792e7"
      },
      "execution_count": 13,
      "outputs": [
        {
          "output_type": "stream",
          "name": "stdout",
          "text": [
            "Epoch 1/5\n"
          ]
        },
        {
          "output_type": "stream",
          "name": "stderr",
          "text": [
            "/usr/local/lib/python3.11/dist-packages/keras/src/models/functional.py:237: UserWarning: The structure of `inputs` doesn't match the expected structure.\n",
            "Expected: ['keras_tensor_28']\n",
            "Received: inputs=Tensor(shape=(None, None))\n",
            "  warnings.warn(msg)\n",
            "/usr/local/lib/python3.11/dist-packages/keras/src/models/functional.py:237: UserWarning: The structure of `inputs` doesn't match the expected structure.\n",
            "Expected: ['keras_tensor_28']\n",
            "Received: inputs=Tensor(shape=(None, None))\n",
            "  warnings.warn(msg)\n"
          ]
        },
        {
          "output_type": "stream",
          "name": "stdout",
          "text": [
            "\u001b[1m779/782\u001b[0m \u001b[32m━━━━━━━━━━━━━━━━━━━\u001b[0m\u001b[37m━\u001b[0m \u001b[1m0s\u001b[0m 13ms/step - accuracy: 0.6522 - loss: 0.6041"
          ]
        },
        {
          "output_type": "stream",
          "name": "stderr",
          "text": [
            "/usr/local/lib/python3.11/dist-packages/keras/src/models/functional.py:237: UserWarning: The structure of `inputs` doesn't match the expected structure.\n",
            "Expected: ['keras_tensor_28']\n",
            "Received: inputs=Tensor(shape=(None, None))\n",
            "  warnings.warn(msg)\n"
          ]
        },
        {
          "output_type": "stream",
          "name": "stdout",
          "text": [
            "\b\b\b\b\b\b\b\b\b\b\b\b\b\b\b\b\b\b\b\b\b\b\b\b\b\b\b\b\b\b\b\b\b\b\b\b\b\b\b\b\b\b\b\b\b\b\b\b\b\b\b\b\b\b\b\b\b\b\b\b\b\b\b\b\b\b\b\b\b\b\b\b\b\b\b\r\u001b[1m782/782\u001b[0m \u001b[32m━━━━━━━━━━━━━━━━━━━━\u001b[0m\u001b[37m\u001b[0m \u001b[1m19s\u001b[0m 21ms/step - accuracy: 0.6525 - loss: 0.6038 - val_accuracy: 0.7712 - val_loss: 0.4793\n",
            "Epoch 2/5\n",
            "\u001b[1m782/782\u001b[0m \u001b[32m━━━━━━━━━━━━━━━━━━━━\u001b[0m\u001b[37m\u001b[0m \u001b[1m16s\u001b[0m 20ms/step - accuracy: 0.8386 - loss: 0.3727 - val_accuracy: 0.7475 - val_loss: 0.5927\n",
            "Epoch 3/5\n",
            "\u001b[1m782/782\u001b[0m \u001b[32m━━━━━━━━━━━━━━━━━━━━\u001b[0m\u001b[37m\u001b[0m \u001b[1m20s\u001b[0m 20ms/step - accuracy: 0.9228 - loss: 0.2064 - val_accuracy: 0.7389 - val_loss: 0.6655\n",
            "Epoch 4/5\n",
            "\u001b[1m782/782\u001b[0m \u001b[32m━━━━━━━━━━━━━━━━━━━━\u001b[0m\u001b[37m\u001b[0m \u001b[1m20s\u001b[0m 19ms/step - accuracy: 0.9465 - loss: 0.1440 - val_accuracy: 0.7284 - val_loss: 0.8394\n",
            "Epoch 5/5\n",
            "\u001b[1m782/782\u001b[0m \u001b[32m━━━━━━━━━━━━━━━━━━━━\u001b[0m\u001b[37m\u001b[0m \u001b[1m26s\u001b[0m 26ms/step - accuracy: 0.9569 - loss: 0.1183 - val_accuracy: 0.7300 - val_loss: 1.0108\n"
          ]
        }
      ]
    },
    {
      "cell_type": "code",
      "source": [
        "# Nilai metrik akhir\n",
        "final_acc = history.history[\"accuracy\"][-1]\n",
        "final_val_acc = history.history[\"val_accuracy\"][-1]\n",
        "final_loss = history.history[\"loss\"][-1]\n",
        "final_val_loss = history.history[\"val_loss\"][-1]\n",
        "\n",
        "print(f\"Final Train Accuracy   : {final_acc:.4f}\")\n",
        "print(f\"Final Val Accuracy     : {final_val_acc:.4f}\")\n",
        "print(f\"Final Train Loss       : {final_loss:.4f}\")\n",
        "print(f\"Final Val Loss         : {final_val_loss:.4f}\")\n",
        "\n",
        "# Plot akurasi & loss\n",
        "plt.figure(figsize=(10,4))\n",
        "plt.subplot(1,2,1)\n",
        "plt.plot(history.history[\"accuracy\"], label=\"Train Acc\")\n",
        "plt.plot(history.history[\"val_accuracy\"], label=\"Val Acc\")\n",
        "plt.title(\"Accuracy\")\n",
        "plt.xlabel(\"Epoch\")\n",
        "plt.ylabel(\"Accuracy\")\n",
        "plt.grid(True)\n",
        "plt.legend()\n",
        "\n",
        "plt.subplot(1,2,2)\n",
        "plt.plot(history.history[\"loss\"], label=\"Train Loss\")\n",
        "plt.plot(history.history[\"val_loss\"], label=\"Val Loss\")\n",
        "plt.title(\"Loss\")\n",
        "plt.xlabel(\"Epoch\")\n",
        "plt.ylabel(\"Loss\")\n",
        "plt.grid(True)\n",
        "plt.legend()\n",
        "\n",
        "plt.tight_layout()\n",
        "plt.show()"
      ],
      "metadata": {
        "colab": {
          "base_uri": "https://localhost:8080/",
          "height": 476
        },
        "id": "_WDwEfQ2pNH4",
        "outputId": "c5820ee4-d462-4b8d-adb0-c9f6c3b96522"
      },
      "execution_count": 14,
      "outputs": [
        {
          "output_type": "stream",
          "name": "stdout",
          "text": [
            "Final Train Accuracy   : 0.9613\n",
            "Final Val Accuracy     : 0.7300\n",
            "Final Train Loss       : 0.1082\n",
            "Final Val Loss         : 1.0108\n"
          ]
        },
        {
          "output_type": "display_data",
          "data": {
            "text/plain": [
              "<Figure size 1000x400 with 2 Axes>"
            ],
            "image/png": "[encoded data removed]"
          },
          "metadata": {}
        }
      ]
    },
    {
      "cell_type": "markdown",
      "source": [
        "##Automatic Translation"
      ],
      "metadata": {
        "id": "6z5VlPiBpsEm"
      }
    },
    {
      "cell_type": "code",
      "source": [
        "import tensorflow as tf\n",
        "from tensorflow import keras\n",
        "import numpy as np\n",
        "import matplotlib.pyplot as plt\n",
        "\n",
        "# Seed dan parameter\n",
        "tf.random.set_seed(42)\n",
        "vocab_size = 100\n",
        "embed_size = 10\n",
        "\n",
        "# Input\n",
        "encoder_inputs = keras.Input(shape=[None], dtype=tf.int32, name=\"encoder_inputs\")\n",
        "decoder_inputs = keras.Input(shape=[None], dtype=tf.int32, name=\"decoder_inputs\")\n",
        "\n",
        "# Embedding layer (shared)\n",
        "embedding = keras.layers.Embedding(vocab_size, embed_size)\n",
        "encoder_emb = embedding(encoder_inputs)\n",
        "decoder_emb = embedding(decoder_inputs)\n",
        "\n",
        "# Encoder\n",
        "encoder_lstm = keras.layers.LSTM(512, return_state=True, return_sequences=False)\n",
        "_, state_h, state_c = encoder_lstm(encoder_emb)\n",
        "encoder_states = [state_h, state_c]\n",
        "\n",
        "# Decoder (pakai return_sequences=True untuk seluruh output)\n",
        "decoder_lstm = keras.layers.LSTM(512, return_sequences=True, return_state=False)\n",
        "decoder_outputs = decoder_lstm(decoder_emb, initial_state=encoder_states)\n",
        "\n",
        "# Output layer untuk prediksi token\n",
        "output_layer = keras.layers.TimeDistributed(keras.layers.Dense(vocab_size, activation=\"softmax\"))\n",
        "Y_proba = output_layer(decoder_outputs)\n",
        "\n",
        "# Build & compile model\n",
        "model = keras.Model(inputs=[encoder_inputs, decoder_inputs], outputs=[Y_proba])\n",
        "model.compile(loss=\"sparse_categorical_crossentropy\", optimizer=\"adam\", metrics=[\"accuracy\"])\n",
        "model.summary()\n"
      ],
      "metadata": {
        "colab": {
          "base_uri": "https://localhost:8080/",
          "height": 476
        },
        "id": "nDVPaBqTpsbv",
        "outputId": "94b0cbf4-0d08-44db-bcfd-f29785ba45d0"
      },
      "execution_count": 37,
      "outputs": [
        {
          "output_type": "display_data",
          "data": {
            "text/plain": [
              "\u001b[1mModel: \"functional_13\"\u001b[0m\n"
            ],
            "text/html": [
              "<pre style=\"white-space:pre;overflow-x:auto;line-height:normal;font-family:Menlo,'DejaVu Sans Mono',consolas,'Courier New',monospace\"><span style=\"font-weight: bold\">Model: \"functional_13\"</span>\n",
              "</pre>\n"
            ]
          },
          "metadata": {}
        },
        {
          "output_type": "display_data",
          "data": {
            "text/plain": [
              "┏━━━━━━━━━━━━━━━━━━━━━┳━━━━━━━━━━━━━━━━━━━┳━━━━━━━━━━━━┳━━━━━━━━━━━━━━━━━━━┓\n",
              "┃\u001b[1m \u001b[0m\u001b[1mLayer (type)       \u001b[0m\u001b[1m \u001b[0m┃\u001b[1m \u001b[0m\u001b[1mOutput Shape     \u001b[0m\u001b[1m \u001b[0m┃\u001b[1m \u001b[0m\u001b[1m   Param #\u001b[0m\u001b[1m \u001b[0m┃\u001b[1m \u001b[0m\u001b[1mConnected to     \u001b[0m\u001b[1m \u001b[0m┃\n",
              "┡━━━━━━━━━━━━━━━━━━━━━╇━━━━━━━━━━━━━━━━━━━╇━━━━━━━━━━━━╇━━━━━━━━━━━━━━━━━━━┩\n",
              "│ decoder_inputs      │ (\u001b[38;5;45mNone\u001b[0m, \u001b[38;5;45mNone\u001b[0m)      │          \u001b[38;5;34m0\u001b[0m │ -                 │\n",
              "│ (\u001b[38;5;33mInputLayer\u001b[0m)        │                   │            │                   │\n",
              "├─────────────────────┼───────────────────┼────────────┼───────────────────┤\n",
              "│ encoder_inputs      │ (\u001b[38;5;45mNone\u001b[0m, \u001b[38;5;45mNone\u001b[0m)      │          \u001b[38;5;34m0\u001b[0m │ -                 │\n",
              "│ (\u001b[38;5;33mInputLayer\u001b[0m)        │                   │            │                   │\n",
              "├─────────────────────┼───────────────────┼────────────┼───────────────────┤\n",
              "│ embedding_3         │ (\u001b[38;5;45mNone\u001b[0m, \u001b[38;5;45mNone\u001b[0m, \u001b[38;5;34m10\u001b[0m)  │      \u001b[38;5;34m1,000\u001b[0m │ encoder_inputs[\u001b[38;5;34m0\u001b[0m… │\n",
              "│ (\u001b[38;5;33mEmbedding\u001b[0m)         │                   │            │ decoder_inputs[\u001b[38;5;34m0\u001b[0m… │\n",
              "├─────────────────────┼───────────────────┼────────────┼───────────────────┤\n",
              "│ lstm_1 (\u001b[38;5;33mLSTM\u001b[0m)       │ [(\u001b[38;5;45mNone\u001b[0m, \u001b[38;5;34m512\u001b[0m),     │  \u001b[38;5;34m1,071,104\u001b[0m │ embedding_3[\u001b[38;5;34m0\u001b[0m][\u001b[38;5;34m0\u001b[0m] │\n",
              "│                     │ (\u001b[38;5;45mNone\u001b[0m, \u001b[38;5;34m512\u001b[0m),      │            │                   │\n",
              "│                     │ (\u001b[38;5;45mNone\u001b[0m, \u001b[38;5;34m512\u001b[0m)]      │            │                   │\n",
              "├─────────────────────┼───────────────────┼────────────┼───────────────────┤\n",
              "│ lstm_2 (\u001b[38;5;33mLSTM\u001b[0m)       │ (\u001b[38;5;45mNone\u001b[0m, \u001b[38;5;45mNone\u001b[0m, \u001b[38;5;34m512\u001b[0m) │  \u001b[38;5;34m1,071,104\u001b[0m │ embedding_3[\u001b[38;5;34m1\u001b[0m][\u001b[38;5;34m0\u001b[0m… │\n",
              "│                     │                   │            │ lstm_1[\u001b[38;5;34m0\u001b[0m][\u001b[38;5;34m1\u001b[0m],     │\n",
              "│                     │                   │            │ lstm_1[\u001b[38;5;34m0\u001b[0m][\u001b[38;5;34m2\u001b[0m]      │\n",
              "├─────────────────────┼───────────────────┼────────────┼───────────────────┤\n",
              "│ time_distributed_6  │ (\u001b[38;5;45mNone\u001b[0m, \u001b[38;5;45mNone\u001b[0m, \u001b[38;5;34m100\u001b[0m) │     \u001b[38;5;34m51,300\u001b[0m │ lstm_2[\u001b[38;5;34m0\u001b[0m][\u001b[38;5;34m0\u001b[0m]      │\n",
              "│ (\u001b[38;5;33mTimeDistributed\u001b[0m)   │                   │            │                   │\n",
              "└─────────────────────┴───────────────────┴────────────┴───────────────────┘\n"
            ],
            "text/html": [
              "<pre style=\"white-space:pre;overflow-x:auto;line-height:normal;font-family:Menlo,'DejaVu Sans Mono',consolas,'Courier New',monospace\">┏━━━━━━━━━━━━━━━━━━━━━┳━━━━━━━━━━━━━━━━━━━┳━━━━━━━━━━━━┳━━━━━━━━━━━━━━━━━━━┓\n",
              "┃<span style=\"font-weight: bold\"> Layer (type)        </span>┃<span style=\"font-weight: bold\"> Output Shape      </span>┃<span style=\"font-weight: bold\">    Param # </span>┃<span style=\"font-weight: bold\"> Connected to      </span>┃\n",
              "┡━━━━━━━━━━━━━━━━━━━━━╇━━━━━━━━━━━━━━━━━━━╇━━━━━━━━━━━━╇━━━━━━━━━━━━━━━━━━━┩\n",
              "│ decoder_inputs      │ (<span style=\"color: #00d7ff; text-decoration-color: #00d7ff\">None</span>, <span style=\"color: #00d7ff; text-decoration-color: #00d7ff\">None</span>)      │          <span style=\"color: #00af00; text-decoration-color: #00af00\">0</span> │ -                 │\n",
              "│ (<span style=\"color: #0087ff; text-decoration-color: #0087ff\">InputLayer</span>)        │                   │            │                   │\n",
              "├─────────────────────┼───────────────────┼────────────┼───────────────────┤\n",
              "│ encoder_inputs      │ (<span style=\"color: #00d7ff; text-decoration-color: #00d7ff\">None</span>, <span style=\"color: #00d7ff; text-decoration-color: #00d7ff\">None</span>)      │          <span style=\"color: #00af00; text-decoration-color: #00af00\">0</span> │ -                 │\n",
              "│ (<span style=\"color: #0087ff; text-decoration-color: #0087ff\">InputLayer</span>)        │                   │            │                   │\n",
              "├─────────────────────┼───────────────────┼────────────┼───────────────────┤\n",
              "│ embedding_3         │ (<span style=\"color: #00d7ff; text-decoration-color: #00d7ff\">None</span>, <span style=\"color: #00d7ff; text-decoration-color: #00d7ff\">None</span>, <span style=\"color: #00af00; text-decoration-color: #00af00\">10</span>)  │      <span style=\"color: #00af00; text-decoration-color: #00af00\">1,000</span> │ encoder_inputs[<span style=\"color: #00af00; text-decoration-color: #00af00\">0</span>… │\n",
              "│ (<span style=\"color: #0087ff; text-decoration-color: #0087ff\">Embedding</span>)         │                   │            │ decoder_inputs[<span style=\"color: #00af00; text-decoration-color: #00af00\">0</span>… │\n",
              "├─────────────────────┼───────────────────┼────────────┼───────────────────┤\n",
              "│ lstm_1 (<span style=\"color: #0087ff; text-decoration-color: #0087ff\">LSTM</span>)       │ [(<span style=\"color: #00d7ff; text-decoration-color: #00d7ff\">None</span>, <span style=\"color: #00af00; text-decoration-color: #00af00\">512</span>),     │  <span style=\"color: #00af00; text-decoration-color: #00af00\">1,071,104</span> │ embedding_3[<span style=\"color: #00af00; text-decoration-color: #00af00\">0</span>][<span style=\"color: #00af00; text-decoration-color: #00af00\">0</span>] │\n",
              "│                     │ (<span style=\"color: #00d7ff; text-decoration-color: #00d7ff\">None</span>, <span style=\"color: #00af00; text-decoration-color: #00af00\">512</span>),      │            │                   │\n",
              "│                     │ (<span style=\"color: #00d7ff; text-decoration-color: #00d7ff\">None</span>, <span style=\"color: #00af00; text-decoration-color: #00af00\">512</span>)]      │            │                   │\n",
              "├─────────────────────┼───────────────────┼────────────┼───────────────────┤\n",
              "│ lstm_2 (<span style=\"color: #0087ff; text-decoration-color: #0087ff\">LSTM</span>)       │ (<span style=\"color: #00d7ff; text-decoration-color: #00d7ff\">None</span>, <span style=\"color: #00d7ff; text-decoration-color: #00d7ff\">None</span>, <span style=\"color: #00af00; text-decoration-color: #00af00\">512</span>) │  <span style=\"color: #00af00; text-decoration-color: #00af00\">1,071,104</span> │ embedding_3[<span style=\"color: #00af00; text-decoration-color: #00af00\">1</span>][<span style=\"color: #00af00; text-decoration-color: #00af00\">0</span>… │\n",
              "│                     │                   │            │ lstm_1[<span style=\"color: #00af00; text-decoration-color: #00af00\">0</span>][<span style=\"color: #00af00; text-decoration-color: #00af00\">1</span>],     │\n",
              "│                     │                   │            │ lstm_1[<span style=\"color: #00af00; text-decoration-color: #00af00\">0</span>][<span style=\"color: #00af00; text-decoration-color: #00af00\">2</span>]      │\n",
              "├─────────────────────┼───────────────────┼────────────┼───────────────────┤\n",
              "│ time_distributed_6  │ (<span style=\"color: #00d7ff; text-decoration-color: #00d7ff\">None</span>, <span style=\"color: #00d7ff; text-decoration-color: #00d7ff\">None</span>, <span style=\"color: #00af00; text-decoration-color: #00af00\">100</span>) │     <span style=\"color: #00af00; text-decoration-color: #00af00\">51,300</span> │ lstm_2[<span style=\"color: #00af00; text-decoration-color: #00af00\">0</span>][<span style=\"color: #00af00; text-decoration-color: #00af00\">0</span>]      │\n",
              "│ (<span style=\"color: #0087ff; text-decoration-color: #0087ff\">TimeDistributed</span>)   │                   │            │                   │\n",
              "└─────────────────────┴───────────────────┴────────────┴───────────────────┘\n",
              "</pre>\n"
            ]
          },
          "metadata": {}
        },
        {
          "output_type": "display_data",
          "data": {
            "text/plain": [
              "\u001b[1m Total params: \u001b[0m\u001b[38;5;34m2,194,508\u001b[0m (8.37 MB)\n"
            ],
            "text/html": [
              "<pre style=\"white-space:pre;overflow-x:auto;line-height:normal;font-family:Menlo,'DejaVu Sans Mono',consolas,'Courier New',monospace\"><span style=\"font-weight: bold\"> Total params: </span><span style=\"color: #00af00; text-decoration-color: #00af00\">2,194,508</span> (8.37 MB)\n",
              "</pre>\n"
            ]
          },
          "metadata": {}
        },
        {
          "output_type": "display_data",
          "data": {
            "text/plain": [
              "\u001b[1m Trainable params: \u001b[0m\u001b[38;5;34m2,194,508\u001b[0m (8.37 MB)\n"
            ],
            "text/html": [
              "<pre style=\"white-space:pre;overflow-x:auto;line-height:normal;font-family:Menlo,'DejaVu Sans Mono',consolas,'Courier New',monospace\"><span style=\"font-weight: bold\"> Trainable params: </span><span style=\"color: #00af00; text-decoration-color: #00af00\">2,194,508</span> (8.37 MB)\n",
              "</pre>\n"
            ]
          },
          "metadata": {}
        },
        {
          "output_type": "display_data",
          "data": {
            "text/plain": [
              "\u001b[1m Non-trainable params: \u001b[0m\u001b[38;5;34m0\u001b[0m (0.00 B)\n"
            ],
            "text/html": [
              "<pre style=\"white-space:pre;overflow-x:auto;line-height:normal;font-family:Menlo,'DejaVu Sans Mono',consolas,'Courier New',monospace\"><span style=\"font-weight: bold\"> Non-trainable params: </span><span style=\"color: #00af00; text-decoration-color: #00af00\">0</span> (0.00 B)\n",
              "</pre>\n"
            ]
          },
          "metadata": {}
        }
      ]
    },
    {
      "cell_type": "code",
      "source": [
        "import tensorflow as tf\n",
        "from tensorflow import keras\n",
        "import numpy as np\n",
        "\n",
        "# Parameter\n",
        "vocab_size = 100\n",
        "embed_size = 10\n",
        "tf.random.set_seed(42)\n",
        "\n",
        "# Input\n",
        "encoder_inputs = keras.Input(shape=[None], dtype=tf.int32, name=\"encoder_inputs\")\n",
        "decoder_inputs = keras.Input(shape=[None], dtype=tf.int32, name=\"decoder_inputs\")\n",
        "\n",
        "# Shared embedding\n",
        "embedding = keras.layers.Embedding(vocab_size, embed_size)\n",
        "encoder_emb = embedding(encoder_inputs)\n",
        "decoder_emb = embedding(decoder_inputs)\n",
        "\n",
        "# Encoder\n",
        "encoder_lstm = keras.layers.LSTM(512, return_state=True)\n",
        "_, state_h, state_c = encoder_lstm(encoder_emb)\n",
        "encoder_states = [state_h, state_c]\n",
        "\n",
        "# Decoder\n",
        "decoder_lstm = keras.layers.LSTM(512, return_sequences=True)\n",
        "decoder_outputs = decoder_lstm(decoder_emb, initial_state=encoder_states)\n",
        "output_layer = keras.layers.TimeDistributed(keras.layers.Dense(vocab_size, activation=\"softmax\"))\n",
        "Y_proba = output_layer(decoder_outputs)\n",
        "\n",
        "# Model\n",
        "model = keras.Model(inputs=[encoder_inputs, decoder_inputs], outputs=[Y_proba])\n",
        "\n",
        "# Dummy data\n",
        "X = np.random.randint(0, vocab_size, size=(1000, 10))\n",
        "Y = np.random.randint(0, vocab_size, size=(1000, 15))\n",
        "X_decoder = np.c_[np.zeros((1000, 1), dtype=int), Y[:, :-1]]\n",
        "Y = Y[..., np.newaxis]  # (1000, 15, 1)\n",
        "\n",
        "print(\"X:\", X.shape)\n",
        "print(\"X_decoder:\", X_decoder.shape)\n",
        "print(\"Y:\", Y.shape)\n",
        "\n",
        "# Build dengan dummy input\n",
        "_ = model([X[:1], X_decoder[:1]])\n",
        "\n",
        "# Compile ulang setelah built\n",
        "model.compile(loss=\"sparse_categorical_crossentropy\", optimizer=\"adam\", metrics=[\"accuracy\"])\n",
        "\n",
        "# Training\n",
        "history = model.fit([X, X_decoder], Y, epochs=5, validation_split=0.2)\n"
      ],
      "metadata": {
        "colab": {
          "base_uri": "https://localhost:8080/"
        },
        "id": "4J09AHfRpyGm",
        "outputId": "28061168-10e3-47f2-ef63-ac41bf3c2381"
      },
      "execution_count": 45,
      "outputs": [
        {
          "output_type": "stream",
          "name": "stdout",
          "text": [
            "X: (1000, 10)\n",
            "X_decoder: (1000, 15)\n",
            "Y: (1000, 15, 1)\n",
            "Epoch 1/5\n",
            "\u001b[1m25/25\u001b[0m \u001b[32m━━━━━━━━━━━━━━━━━━━━\u001b[0m\u001b[37m\u001b[0m \u001b[1m6s\u001b[0m 46ms/step - accuracy: 0.0089 - loss: 4.6054 - val_accuracy: 0.0087 - val_loss: 4.6047\n",
            "Epoch 2/5\n",
            "\u001b[1m25/25\u001b[0m \u001b[32m━━━━━━━━━━━━━━━━━━━━\u001b[0m\u001b[37m\u001b[0m \u001b[1m0s\u001b[0m 15ms/step - accuracy: 0.0132 - loss: 4.6028 - val_accuracy: 0.0087 - val_loss: 4.6046\n",
            "Epoch 3/5\n",
            "\u001b[1m25/25\u001b[0m \u001b[32m━━━━━━━━━━━━━━━━━━━━\u001b[0m\u001b[37m\u001b[0m \u001b[1m1s\u001b[0m 15ms/step - accuracy: 0.0132 - loss: 4.5999 - val_accuracy: 0.0150 - val_loss: 4.6050\n",
            "Epoch 4/5\n",
            "\u001b[1m25/25\u001b[0m \u001b[32m━━━━━━━━━━━━━━━━━━━━\u001b[0m\u001b[37m\u001b[0m \u001b[1m0s\u001b[0m 13ms/step - accuracy: 0.0125 - loss: 4.5972 - val_accuracy: 0.0093 - val_loss: 4.6083\n",
            "Epoch 5/5\n",
            "\u001b[1m25/25\u001b[0m \u001b[32m━━━━━━━━━━━━━━━━━━━━\u001b[0m\u001b[37m\u001b[0m \u001b[1m0s\u001b[0m 15ms/step - accuracy: 0.0168 - loss: 4.5908 - val_accuracy: 0.0117 - val_loss: 4.6093\n"
          ]
        }
      ]
    },
    {
      "cell_type": "code",
      "source": [
        "# Ambil metrik akhir\n",
        "acc = history.history[\"accuracy\"][-1]\n",
        "val_acc = history.history[\"val_accuracy\"][-1]\n",
        "loss = history.history[\"loss\"][-1]\n",
        "val_loss = history.history[\"val_loss\"][-1]\n",
        "\n",
        "print(f\"\\nFinal Train Accuracy   : {acc:.4f}\")\n",
        "print(f\"Final Val Accuracy     : {val_acc:.4f}\")\n",
        "print(f\"Final Train Loss       : {loss:.4f}\")\n",
        "print(f\"Final Val Loss         : {val_loss:.4f}\")\n",
        "\n",
        "# Plot akurasi dan loss\n",
        "plt.figure(figsize=(10, 4))\n",
        "plt.subplot(1, 2, 1)\n",
        "plt.plot(history.history[\"accuracy\"], label=\"Train Acc\")\n",
        "plt.plot(history.history[\"val_accuracy\"], label=\"Val Acc\")\n",
        "plt.title(\"Accuracy\")\n",
        "plt.xlabel(\"Epoch\"); plt.ylabel(\"Accuracy\"); plt.grid(); plt.legend()\n",
        "\n",
        "plt.subplot(1, 2, 2)\n",
        "plt.plot(history.history[\"loss\"], label=\"Train Loss\")\n",
        "plt.plot(history.history[\"val_loss\"], label=\"Val Loss\")\n",
        "plt.title(\"Loss\")\n",
        "plt.xlabel(\"Epoch\"); plt.ylabel(\"Loss\"); plt.grid(); plt.legend()\n",
        "\n",
        "plt.tight_layout()\n",
        "plt.show()\n"
      ],
      "metadata": {
        "colab": {
          "base_uri": "https://localhost:8080/",
          "height": 494
        },
        "id": "fje0cyIXp01K",
        "outputId": "17cae2e2-bec9-4968-a702-5aaa7d92e71b"
      },
      "execution_count": 46,
      "outputs": [
        {
          "output_type": "stream",
          "name": "stdout",
          "text": [
            "\n",
            "Final Train Accuracy   : 0.0156\n",
            "Final Val Accuracy     : 0.0117\n",
            "Final Train Loss       : 4.5926\n",
            "Final Val Loss         : 4.6093\n"
          ]
        },
        {
          "output_type": "display_data",
          "data": {
            "text/plain": [
              "<Figure size 1000x400 with 2 Axes>"
            ],
            "image/png": "[encoded data removed]"
          },
          "metadata": {}
        }
      ]
    },
    {
      "cell_type": "code",
      "source": [
        "# Model GRU tambahan\n",
        "gru_model = keras.Sequential([\n",
        "    keras.layers.GRU(10, return_sequences=True, input_shape=[None, 10]),\n",
        "    keras.layers.Bidirectional(keras.layers.GRU(10, return_sequences=True))\n",
        "])\n",
        "gru_model.summary()\n"
      ],
      "metadata": {
        "colab": {
          "base_uri": "https://localhost:8080/",
          "height": 259
        },
        "id": "4xyneRU5rKOk",
        "outputId": "83da7e99-0851-48dd-b098-aca8326f9d9b"
      },
      "execution_count": 47,
      "outputs": [
        {
          "output_type": "stream",
          "name": "stderr",
          "text": [
            "/usr/local/lib/python3.11/dist-packages/keras/src/layers/rnn/rnn.py:200: UserWarning: Do not pass an `input_shape`/`input_dim` argument to a layer. When using Sequential models, prefer using an `Input(shape)` object as the first layer in the model instead.\n",
            "  super().__init__(**kwargs)\n"
          ]
        },
        {
          "output_type": "display_data",
          "data": {
            "text/plain": [
              "\u001b[1mModel: \"sequential_12\"\u001b[0m\n"
            ],
            "text/html": [
              "<pre style=\"white-space:pre;overflow-x:auto;line-height:normal;font-family:Menlo,'DejaVu Sans Mono',consolas,'Courier New',monospace\"><span style=\"font-weight: bold\">Model: \"sequential_12\"</span>\n",
              "</pre>\n"
            ]
          },
          "metadata": {}
        },
        {
          "output_type": "display_data",
          "data": {
            "text/plain": [
              "┏━━━━━━━━━━━━━━━━━━━━━━━━━━━━━━━━━┳━━━━━━━━━━━━━━━━━━━━━━━━┳━━━━━━━━━━━━━━━┓\n",
              "┃\u001b[1m \u001b[0m\u001b[1mLayer (type)                   \u001b[0m\u001b[1m \u001b[0m┃\u001b[1m \u001b[0m\u001b[1mOutput Shape          \u001b[0m\u001b[1m \u001b[0m┃\u001b[1m \u001b[0m\u001b[1m      Param #\u001b[0m\u001b[1m \u001b[0m┃\n",
              "┡━━━━━━━━━━━━━━━━━━━━━━━━━━━━━━━━━╇━━━━━━━━━━━━━━━━━━━━━━━━╇━━━━━━━━━━━━━━━┩\n",
              "│ gru_15 (\u001b[38;5;33mGRU\u001b[0m)                    │ (\u001b[38;5;45mNone\u001b[0m, \u001b[38;5;45mNone\u001b[0m, \u001b[38;5;34m10\u001b[0m)       │           \u001b[38;5;34m660\u001b[0m │\n",
              "├─────────────────────────────────┼────────────────────────┼───────────────┤\n",
              "│ bidirectional (\u001b[38;5;33mBidirectional\u001b[0m)   │ (\u001b[38;5;45mNone\u001b[0m, \u001b[38;5;45mNone\u001b[0m, \u001b[38;5;34m20\u001b[0m)       │         \u001b[38;5;34m1,320\u001b[0m │\n",
              "└─────────────────────────────────┴────────────────────────┴───────────────┘\n"
            ],
            "text/html": [
              "<pre style=\"white-space:pre;overflow-x:auto;line-height:normal;font-family:Menlo,'DejaVu Sans Mono',consolas,'Courier New',monospace\">┏━━━━━━━━━━━━━━━━━━━━━━━━━━━━━━━━━┳━━━━━━━━━━━━━━━━━━━━━━━━┳━━━━━━━━━━━━━━━┓\n",
              "┃<span style=\"font-weight: bold\"> Layer (type)                    </span>┃<span style=\"font-weight: bold\"> Output Shape           </span>┃<span style=\"font-weight: bold\">       Param # </span>┃\n",
              "┡━━━━━━━━━━━━━━━━━━━━━━━━━━━━━━━━━╇━━━━━━━━━━━━━━━━━━━━━━━━╇━━━━━━━━━━━━━━━┩\n",
              "│ gru_15 (<span style=\"color: #0087ff; text-decoration-color: #0087ff\">GRU</span>)                    │ (<span style=\"color: #00d7ff; text-decoration-color: #00d7ff\">None</span>, <span style=\"color: #00d7ff; text-decoration-color: #00d7ff\">None</span>, <span style=\"color: #00af00; text-decoration-color: #00af00\">10</span>)       │           <span style=\"color: #00af00; text-decoration-color: #00af00\">660</span> │\n",
              "├─────────────────────────────────┼────────────────────────┼───────────────┤\n",
              "│ bidirectional (<span style=\"color: #0087ff; text-decoration-color: #0087ff\">Bidirectional</span>)   │ (<span style=\"color: #00d7ff; text-decoration-color: #00d7ff\">None</span>, <span style=\"color: #00d7ff; text-decoration-color: #00d7ff\">None</span>, <span style=\"color: #00af00; text-decoration-color: #00af00\">20</span>)       │         <span style=\"color: #00af00; text-decoration-color: #00af00\">1,320</span> │\n",
              "└─────────────────────────────────┴────────────────────────┴───────────────┘\n",
              "</pre>\n"
            ]
          },
          "metadata": {}
        },
        {
          "output_type": "display_data",
          "data": {
            "text/plain": [
              "\u001b[1m Total params: \u001b[0m\u001b[38;5;34m1,980\u001b[0m (7.73 KB)\n"
            ],
            "text/html": [
              "<pre style=\"white-space:pre;overflow-x:auto;line-height:normal;font-family:Menlo,'DejaVu Sans Mono',consolas,'Courier New',monospace\"><span style=\"font-weight: bold\"> Total params: </span><span style=\"color: #00af00; text-decoration-color: #00af00\">1,980</span> (7.73 KB)\n",
              "</pre>\n"
            ]
          },
          "metadata": {}
        },
        {
          "output_type": "display_data",
          "data": {
            "text/plain": [
              "\u001b[1m Trainable params: \u001b[0m\u001b[38;5;34m1,980\u001b[0m (7.73 KB)\n"
            ],
            "text/html": [
              "<pre style=\"white-space:pre;overflow-x:auto;line-height:normal;font-family:Menlo,'DejaVu Sans Mono',consolas,'Courier New',monospace\"><span style=\"font-weight: bold\"> Trainable params: </span><span style=\"color: #00af00; text-decoration-color: #00af00\">1,980</span> (7.73 KB)\n",
              "</pre>\n"
            ]
          },
          "metadata": {}
        },
        {
          "output_type": "display_data",
          "data": {
            "text/plain": [
              "\u001b[1m Non-trainable params: \u001b[0m\u001b[38;5;34m0\u001b[0m (0.00 B)\n"
            ],
            "text/html": [
              "<pre style=\"white-space:pre;overflow-x:auto;line-height:normal;font-family:Menlo,'DejaVu Sans Mono',consolas,'Courier New',monospace\"><span style=\"font-weight: bold\"> Non-trainable params: </span><span style=\"color: #00af00; text-decoration-color: #00af00\">0</span> (0.00 B)\n",
              "</pre>\n"
            ]
          },
          "metadata": {}
        }
      ]
    },
    {
      "cell_type": "markdown",
      "source": [
        "#  Natural Language Processing with RNNs (Encoder-Decoder tanpa Attention)\n",
        "\n",
        "## 🔹 Proses Ringkas\n",
        "\n",
        "- **1. Input Preparation**\n",
        "  - Data dummy dibuat sebagai token angka untuk kalimat sumber (X) dan target (Y).\n",
        "  - Decoder input disiapkan dengan _teacher forcing_, yaitu dengan menggeser Y satu langkah ke kanan dan menambahkan token awal (0).\n",
        "\n",
        "- **2. Embedding Layer**\n",
        "  - Layer embedding digunakan untuk mengubah token integer menjadi representasi vektor berdimensi kecil (word embedding).\n",
        "  - Satu layer embedding digunakan bersama oleh encoder dan decoder.\n",
        "\n",
        "- **3. Encoder**\n",
        "  - Menggunakan LSTM (Long Short-Term Memory) untuk memproses input X.\n",
        "  - Encoder menghasilkan dua state terakhir (`state_h`, `state_c`) yang digunakan sebagai inisialisasi untuk decoder.\n",
        "\n",
        "- **4. Decoder**\n",
        "  - LSTM decoder menerima input dari hasil embedding decoder dan inisialisasi state dari encoder.\n",
        "  - Decoder memproses input urutan target dan menghasilkan vektor keluaran untuk setiap langkah waktu.\n",
        "\n",
        "- **5. Output Layer**\n",
        "  - Output dari decoder diteruskan ke layer `Dense` berlapis `TimeDistributed` untuk menghasilkan prediksi distribusi probabilitas token di setiap langkah waktu.\n",
        "\n",
        "- **6. Training**\n",
        "  - Model dilatih menggunakan `sparse_categorical_crossentropy`.\n",
        "  - Target (`Y`) disiapkan dalam bentuk `(batch, timesteps, 1)`.\n",
        "  - Hasil training divalidasi menggunakan metrik `accuracy` dan `loss`.\n",
        "\n",
        "- **7. Visualisasi**\n",
        "  - Grafik akurasi dan loss untuk data training dan validasi ditampilkan.\n",
        "  - Grafik menunjukkan kestabilan atau tren perbaikan performa model seiring waktu.\n",
        "\n",
        "---\n",
        "\n",
        "##  Kesimpulan\n",
        "\n",
        "- Model encoder-decoder berbasis LSTM berhasil dibangun dan dijalankan **tanpa menggunakan TensorFlow Addons**, sehingga kompatibel dengan TensorFlow versi terbaru.\n",
        "- Proses pelatihan berjalan lancar, dan hasil visualisasi menunjukkan model mampu menyesuaikan terhadap data walau bersifat acak.\n",
        "- Arsitektur ini sudah siap untuk digunakan pada tugas NLP nyata seperti penerjemahan, dialog, atau summarization, namun masih perlu ditambahkan komponen **attention** untuk performa lebih baik.\n"
      ],
      "metadata": {
        "id": "UQC-T4JZpxxs"
      }
    }
  ]
}
