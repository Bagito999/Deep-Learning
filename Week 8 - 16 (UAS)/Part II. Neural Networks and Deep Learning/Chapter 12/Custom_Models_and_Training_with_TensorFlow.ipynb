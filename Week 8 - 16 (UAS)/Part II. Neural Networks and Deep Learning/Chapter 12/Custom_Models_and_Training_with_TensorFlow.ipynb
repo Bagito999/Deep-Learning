{
  "nbformat": 4,
  "nbformat_minor": 0,
  "metadata": {
    "colab": {
      "provenance": [],
      "gpuType": "T4",
      "authorship_tag": "ABX9TyOzqI2sYAaLrB+PlTgQ311x",
      "include_colab_link": true
    },
    "kernelspec": {
      "name": "python3",
      "display_name": "Python 3"
    },
    "language_info": {
      "name": "python"
    },
    "accelerator": "GPU",
    "widgets": {
    }
  },
  "cells": [
    {
      "cell_type": "markdown",
      "metadata": {
        "id": "view-in-github",
        "colab_type": "text"
      },
      "source": [
        "<a href=\"https://colab.research.google.com/github/Bagito999/Deep-Learning/blob/main/Custom_Models_and_Training_with_TensorFlow.ipynb\" target=\"_parent\"><img src=\"https://colab.research.google.com/assets/colab-badge.svg\" alt=\"Open In Colab\"/></a>"
      ]
    },
    {
      "cell_type": "markdown",
      "source": [
        "#Persiapan"
      ],
      "metadata": {
        "id": "z-ps9lSUR1fY"
      }
    },
    {
      "cell_type": "code",
      "execution_count": 2,
      "metadata": {
        "id": "2IfXyHtrRQzn"
      },
      "outputs": [],
      "source": [
        "# Cek versi Python dan Scikit-Learn\n",
        "import sys, sklearn\n",
        "assert sys.version_info >= (3, 5)\n",
        "assert sklearn.__version__ >= \"0.20\"\n",
        "\n",
        "# Import TensorFlow dan pastikan versinya\n",
        "import tensorflow as tf\n",
        "from tensorflow import keras\n",
        "from packaging import version\n",
        "assert version.parse(tf.__version__) >= version.parse(\"2.4\")\n",
        "\n",
        "# Import umum\n",
        "import numpy as np, os\n",
        "np.random.seed(42)\n",
        "tf.random.set_seed(42)\n",
        "\n",
        "# Visualisasi\n",
        "%matplotlib inline\n",
        "import matplotlib.pyplot as plt\n",
        "import matplotlib as mpl\n",
        "mpl.rc('axes', labelsize=14)\n",
        "mpl.rc('xtick', labelsize=12)\n",
        "mpl.rc('ytick', labelsize=12)\n",
        "\n",
        "# Setup penyimpanan gambar\n",
        "IMAGES_PATH = os.path.join(\".\", \"images\", \"deep\")\n",
        "os.makedirs(IMAGES_PATH, exist_ok=True)\n",
        "\n",
        "def save_fig(fig_id, tight_layout=True, fig_extension=\"png\", resolution=300):\n",
        "    path = os.path.join(IMAGES_PATH, f\"{fig_id}.{fig_extension}\")\n",
        "    print(\"Saving figure\", fig_id)\n",
        "    if tight_layout: plt.tight_layout()\n",
        "    plt.savefig(path, format=fig_extension, dpi=resolution)\n"
      ]
    },
    {
      "cell_type": "markdown",
      "source": [
        "#Custom Layers"
      ],
      "metadata": {
        "id": "LdnAtlqER3PV"
      }
    },
    {
      "cell_type": "code",
      "source": [
        "import tensorflow as tf\n",
        "from tensorflow import keras\n",
        "import numpy as np\n",
        "import matplotlib.pyplot as plt\n",
        "from packaging import version\n",
        "\n",
        "assert version.parse(tf.__version__) >= version.parse(\"2.4\")\n",
        "np.random.seed(42)\n",
        "tf.random.set_seed(42)\n",
        "\n",
        "# Dataset dan preprocessing (gunakan dataset dummy regresi jika belum ada)\n",
        "from sklearn.datasets import make_regression\n",
        "from sklearn.model_selection import train_test_split\n",
        "from sklearn.preprocessing import StandardScaler\n",
        "\n",
        "X, y = make_regression(n_samples=1000, n_features=4, noise=0.1)\n",
        "X_train, X_temp, y_train, y_temp = train_test_split(X, y, test_size=0.3, random_state=42)\n",
        "X_valid, X_test, y_valid, y_test = train_test_split(X_temp, y_temp, test_size=0.5)\n",
        "\n",
        "scaler = StandardScaler()\n",
        "X_train_scaled = scaler.fit_transform(X_train)\n",
        "X_valid_scaled = scaler.transform(X_valid)\n",
        "X_test_scaled = scaler.transform(X_test)\n",
        "\n",
        "input_shape = [X.shape[1]]\n",
        "\n",
        "# Custom Layer: Add Gaussian Noise\n",
        "class AddGaussianNoise(keras.layers.Layer):\n",
        "    def __init__(self, stddev, **kwargs):\n",
        "        super().__init__(**kwargs)\n",
        "        self.stddev = stddev\n",
        "\n",
        "    def call(self, X, training=None):\n",
        "        if training:\n",
        "            noise = tf.random.normal(tf.shape(X), stddev=self.stddev)\n",
        "            return X + noise\n",
        "        return X\n",
        "\n",
        "    def compute_output_shape(self, batch_input_shape):\n",
        "        return batch_input_shape\n",
        "\n",
        "# Bangun model dengan custom layer\n",
        "keras.backend.clear_session()\n",
        "\n",
        "model = keras.models.Sequential([\n",
        "    keras.layers.InputLayer(input_shape=input_shape),\n",
        "    AddGaussianNoise(1.0),\n",
        "    keras.layers.Dense(30, activation=\"selu\"),\n",
        "    keras.layers.Dense(1)\n",
        "])\n",
        "\n",
        "model.compile(loss=\"mse\", optimizer=\"nadam\")\n",
        "\n",
        "# Training\n",
        "history = model.fit(X_train_scaled, y_train, epochs=20,\n",
        "                    validation_data=(X_valid_scaled, y_valid))\n",
        "\n",
        "# Evaluasi\n",
        "test_loss = model.evaluate(X_test_scaled, y_test)\n",
        "\n",
        "# Ringkasan Hasil\n",
        "final_train_loss = history.history[\"loss\"][-1]\n",
        "final_val_loss = history.history[\"val_loss\"][-1]\n",
        "\n",
        "print(f\"\\nFinal Training Loss: {final_train_loss:.4f}\")\n",
        "print(f\"Final Validation Loss: {final_val_loss:.4f}\")\n",
        "print(f\"Test Loss: {test_loss:.4f}\")\n"
      ],
      "metadata": {
        "colab": {
          "base_uri": "https://localhost:8080/"
        },
        "id": "Rg7KRivHTwdJ",
        "outputId": "f7763c53-aefd-43bf-cf04-4126f4bcd5fc"
      },
      "execution_count": 3,
      "outputs": [
        {
          "output_type": "stream",
          "name": "stderr",
          "text": [
            "/usr/local/lib/python3.11/dist-packages/keras/src/layers/core/input_layer.py:27: UserWarning: Argument `input_shape` is deprecated. Use `shape` instead.\n",
            "  warnings.warn(\n"
          ]
        },
        {
          "output_type": "stream",
          "name": "stdout",
          "text": [
            "Epoch 1/20\n",
            "\u001b[1m22/22\u001b[0m \u001b[32m━━━━━━━━━━━━━━━━━━━━\u001b[0m\u001b[37m\u001b[0m \u001b[1m5s\u001b[0m 59ms/step - loss: 14229.7314 - val_loss: 13867.7930\n",
            "Epoch 2/20\n",
            "\u001b[1m22/22\u001b[0m \u001b[32m━━━━━━━━━━━━━━━━━━━━\u001b[0m\u001b[37m\u001b[0m \u001b[1m0s\u001b[0m 6ms/step - loss: 14164.6475 - val_loss: 13798.7217\n",
            "Epoch 3/20\n",
            "\u001b[1m22/22\u001b[0m \u001b[32m━━━━━━━━━━━━━━━━━━━━\u001b[0m\u001b[37m\u001b[0m \u001b[1m0s\u001b[0m 5ms/step - loss: 14109.9531 - val_loss: 13725.6943\n",
            "Epoch 4/20\n",
            "\u001b[1m22/22\u001b[0m \u001b[32m━━━━━━━━━━━━━━━━━━━━\u001b[0m\u001b[37m\u001b[0m \u001b[1m0s\u001b[0m 4ms/step - loss: 14023.7861 - val_loss: 13644.4014\n",
            "Epoch 5/20\n",
            "\u001b[1m22/22\u001b[0m \u001b[32m━━━━━━━━━━━━━━━━━━━━\u001b[0m\u001b[37m\u001b[0m \u001b[1m0s\u001b[0m 5ms/step - loss: 13961.0713 - val_loss: 13558.4229\n",
            "Epoch 6/20\n",
            "\u001b[1m22/22\u001b[0m \u001b[32m━━━━━━━━━━━━━━━━━━━━\u001b[0m\u001b[37m\u001b[0m \u001b[1m0s\u001b[0m 6ms/step - loss: 13884.6006 - val_loss: 13462.7812\n",
            "Epoch 7/20\n",
            "\u001b[1m22/22\u001b[0m \u001b[32m━━━━━━━━━━━━━━━━━━━━\u001b[0m\u001b[37m\u001b[0m \u001b[1m0s\u001b[0m 7ms/step - loss: 13781.9521 - val_loss: 13357.8408\n",
            "Epoch 8/20\n",
            "\u001b[1m22/22\u001b[0m \u001b[32m━━━━━━━━━━━━━━━━━━━━\u001b[0m\u001b[37m\u001b[0m \u001b[1m0s\u001b[0m 6ms/step - loss: 13667.8945 - val_loss: 13241.6807\n",
            "Epoch 9/20\n",
            "\u001b[1m22/22\u001b[0m \u001b[32m━━━━━━━━━━━━━━━━━━━━\u001b[0m\u001b[37m\u001b[0m \u001b[1m0s\u001b[0m 5ms/step - loss: 13515.1836 - val_loss: 13108.7979\n",
            "Epoch 10/20\n",
            "\u001b[1m22/22\u001b[0m \u001b[32m━━━━━━━━━━━━━━━━━━━━\u001b[0m\u001b[37m\u001b[0m \u001b[1m0s\u001b[0m 4ms/step - loss: 13420.5762 - val_loss: 12965.4141\n",
            "Epoch 11/20\n",
            "\u001b[1m22/22\u001b[0m \u001b[32m━━━━━━━━━━━━━━━━━━━━\u001b[0m\u001b[37m\u001b[0m \u001b[1m0s\u001b[0m 5ms/step - loss: 13285.0879 - val_loss: 12807.1387\n",
            "Epoch 12/20\n",
            "\u001b[1m22/22\u001b[0m \u001b[32m━━━━━━━━━━━━━━━━━━━━\u001b[0m\u001b[37m\u001b[0m \u001b[1m0s\u001b[0m 5ms/step - loss: 13159.6260 - val_loss: 12639.1816\n",
            "Epoch 13/20\n",
            "\u001b[1m22/22\u001b[0m \u001b[32m━━━━━━━━━━━━━━━━━━━━\u001b[0m\u001b[37m\u001b[0m \u001b[1m0s\u001b[0m 5ms/step - loss: 12920.3643 - val_loss: 12457.9717\n",
            "Epoch 14/20\n",
            "\u001b[1m22/22\u001b[0m \u001b[32m━━━━━━━━━━━━━━━━━━━━\u001b[0m\u001b[37m\u001b[0m \u001b[1m0s\u001b[0m 7ms/step - loss: 12757.1572 - val_loss: 12258.5020\n",
            "Epoch 15/20\n",
            "\u001b[1m22/22\u001b[0m \u001b[32m━━━━━━━━━━━━━━━━━━━━\u001b[0m\u001b[37m\u001b[0m \u001b[1m0s\u001b[0m 7ms/step - loss: 12538.6260 - val_loss: 12042.7871\n",
            "Epoch 16/20\n",
            "\u001b[1m22/22\u001b[0m \u001b[32m━━━━━━━━━━━━━━━━━━━━\u001b[0m\u001b[37m\u001b[0m \u001b[1m0s\u001b[0m 6ms/step - loss: 12387.9619 - val_loss: 11816.7842\n",
            "Epoch 17/20\n",
            "\u001b[1m22/22\u001b[0m \u001b[32m━━━━━━━━━━━━━━━━━━━━\u001b[0m\u001b[37m\u001b[0m \u001b[1m0s\u001b[0m 5ms/step - loss: 12192.6709 - val_loss: 11589.6807\n",
            "Epoch 18/20\n",
            "\u001b[1m22/22\u001b[0m \u001b[32m━━━━━━━━━━━━━━━━━━━━\u001b[0m\u001b[37m\u001b[0m \u001b[1m0s\u001b[0m 5ms/step - loss: 12186.4287 - val_loss: 11367.0762\n",
            "Epoch 19/20\n",
            "\u001b[1m22/22\u001b[0m \u001b[32m━━━━━━━━━━━━━━━━━━━━\u001b[0m\u001b[37m\u001b[0m \u001b[1m0s\u001b[0m 5ms/step - loss: 11882.4258 - val_loss: 11132.0137\n",
            "Epoch 20/20\n",
            "\u001b[1m22/22\u001b[0m \u001b[32m━━━━━━━━━━━━━━━━━━━━\u001b[0m\u001b[37m\u001b[0m \u001b[1m0s\u001b[0m 7ms/step - loss: 11755.6553 - val_loss: 10896.3555\n",
            "\u001b[1m5/5\u001b[0m \u001b[32m━━━━━━━━━━━━━━━━━━━━\u001b[0m\u001b[37m\u001b[0m \u001b[1m0s\u001b[0m 6ms/step - loss: 9336.8750  \n",
            "\n",
            "Final Training Loss: 12429.7803\n",
            "Final Validation Loss: 10896.3555\n",
            "Test Loss: 8887.5029\n"
          ]
        }
      ]
    },
    {
      "cell_type": "code",
      "source": [
        "plt.plot(history.history[\"loss\"], label=\"Training Loss\")\n",
        "plt.plot(history.history[\"val_loss\"], label=\"Validation Loss\")\n",
        "plt.xlabel(\"Epochs\")\n",
        "plt.ylabel(\"MSE Loss\")\n",
        "plt.title(\"Training vs Validation Loss\")\n",
        "plt.legend()\n",
        "plt.grid(True)\n",
        "plt.show()"
      ],
      "metadata": {
        "colab": {
          "base_uri": "https://localhost:8080/",
          "height": 481
        },
        "id": "KqndpD8DUbpR",
        "outputId": "63d7753d-9fc9-4d67-8362-91a64ce4c28b"
      },
      "execution_count": 4,
      "outputs": [
        {
          "output_type": "display_data",
          "data": {
            "text/plain": [
              "<Figure size 640x480 with 1 Axes>"
            ],
            "image/png": "[encoded data removed]"
          },
          "metadata": {}
        }
      ]
    },
    {
      "cell_type": "markdown",
      "source": [
        "#Custom Models"
      ],
      "metadata": {
        "id": "s9rHf9bMVHUg"
      }
    },
    {
      "cell_type": "code",
      "source": [
        "import tensorflow as tf\n",
        "from tensorflow import keras\n",
        "import numpy as np\n",
        "import matplotlib.pyplot as plt\n",
        "from packaging import version\n",
        "from sklearn.datasets import make_regression\n",
        "from sklearn.model_selection import train_test_split\n",
        "from sklearn.preprocessing import StandardScaler\n",
        "\n",
        "assert version.parse(tf.__version__) >= version.parse(\"2.4\")\n",
        "\n",
        "# Dataset dummy\n",
        "X, y = make_regression(n_samples=1000, n_features=4, noise=0.1)\n",
        "X_train, X_temp, y_train, y_temp = train_test_split(X, y, test_size=0.3, random_state=42)\n",
        "X_valid, X_test, y_valid, y_test = train_test_split(X_temp, y_temp, test_size=0.5)\n",
        "\n",
        "scaler = StandardScaler()\n",
        "X_train_scaled = scaler.fit_transform(X_train)\n",
        "X_valid_scaled = scaler.transform(X_valid)\n",
        "X_test_scaled = scaler.transform(X_test)\n",
        "X_new_scaled = X_test_scaled\n",
        "\n",
        "# Custom Residual Block\n",
        "class ResidualBlock(keras.layers.Layer):\n",
        "    def __init__(self, n_layers, n_neurons, **kwargs):\n",
        "        super().__init__(**kwargs)\n",
        "        self.hidden = [keras.layers.Dense(n_neurons, activation=\"elu\",\n",
        "                                          kernel_initializer=\"he_normal\")\n",
        "                       for _ in range(n_layers)]\n",
        "\n",
        "    def call(self, inputs):\n",
        "        Z = inputs\n",
        "        for layer in self.hidden:\n",
        "            Z = layer(Z)\n",
        "        return inputs + Z\n",
        "\n",
        "# Model Residual Regressor\n",
        "keras.backend.clear_session()\n",
        "np.random.seed(42)\n",
        "tf.random.set_seed(42)\n",
        "\n",
        "model = keras.models.Sequential([\n",
        "    keras.layers.Input(shape=[X.shape[1]]),\n",
        "    keras.layers.Dense(30, activation=\"elu\", kernel_initializer=\"he_normal\"),\n",
        "    ResidualBlock(2, 30),\n",
        "    ResidualBlock(2, 30),\n",
        "    ResidualBlock(2, 30),\n",
        "    ResidualBlock(2, 30),\n",
        "    ResidualBlock(2, 30),\n",
        "    keras.layers.Dense(1)\n",
        "])\n",
        "\n",
        "model.compile(loss=\"mse\", optimizer=\"nadam\")\n",
        "\n",
        "# Training dengan validation\n",
        "history = model.fit(X_train_scaled, y_train, epochs=20,\n",
        "                    validation_data=(X_valid_scaled, y_valid))\n",
        "\n",
        "# Evaluasi\n",
        "test_loss = model.evaluate(X_test_scaled, y_test)\n",
        "\n",
        "# Prediksi\n",
        "y_pred = model.predict(X_new_scaled)\n",
        "\n",
        "# Ringkasan hasil\n",
        "final_train_loss = history.history[\"loss\"][-1]\n",
        "final_val_loss = history.history[\"val_loss\"][-1]\n",
        "\n",
        "print(f\"\\nFinal Training Loss: {final_train_loss:.4f}\")\n",
        "print(f\"Final Validation Loss: {final_val_loss:.4f}\")\n",
        "print(f\"Test Loss: {test_loss:.4f}\")\n"
      ],
      "metadata": {
        "colab": {
          "base_uri": "https://localhost:8080/"
        },
        "id": "SnRi81nyVDxo",
        "outputId": "cd90187c-8c91-4287-9711-04ccaafd3585"
      },
      "execution_count": 5,
      "outputs": [
        {
          "output_type": "stream",
          "name": "stdout",
          "text": [
            "Epoch 1/20\n",
            "\u001b[1m22/22\u001b[0m \u001b[32m━━━━━━━━━━━━━━━━━━━━\u001b[0m\u001b[37m\u001b[0m \u001b[1m11s\u001b[0m 102ms/step - loss: 17908.4062 - val_loss: 8699.6211\n",
            "Epoch 2/20\n",
            "\u001b[1m22/22\u001b[0m \u001b[32m━━━━━━━━━━━━━━━━━━━━\u001b[0m\u001b[37m\u001b[0m \u001b[1m0s\u001b[0m 7ms/step - loss: 9009.8115 - val_loss: 1238.6829\n",
            "Epoch 3/20\n",
            "\u001b[1m22/22\u001b[0m \u001b[32m━━━━━━━━━━━━━━━━━━━━\u001b[0m\u001b[37m\u001b[0m \u001b[1m0s\u001b[0m 12ms/step - loss: 1094.7375 - val_loss: 438.5422\n",
            "Epoch 4/20\n",
            "\u001b[1m22/22\u001b[0m \u001b[32m━━━━━━━━━━━━━━━━━━━━\u001b[0m\u001b[37m\u001b[0m \u001b[1m0s\u001b[0m 14ms/step - loss: 467.5002 - val_loss: 230.2131\n",
            "Epoch 5/20\n",
            "\u001b[1m22/22\u001b[0m \u001b[32m━━━━━━━━━━━━━━━━━━━━\u001b[0m\u001b[37m\u001b[0m \u001b[1m0s\u001b[0m 9ms/step - loss: 263.9364 - val_loss: 137.1259\n",
            "Epoch 6/20\n",
            "\u001b[1m22/22\u001b[0m \u001b[32m━━━━━━━━━━━━━━━━━━━━\u001b[0m\u001b[37m\u001b[0m \u001b[1m0s\u001b[0m 11ms/step - loss: 172.9352 - val_loss: 99.9629\n",
            "Epoch 7/20\n",
            "\u001b[1m22/22\u001b[0m \u001b[32m━━━━━━━━━━━━━━━━━━━━\u001b[0m\u001b[37m\u001b[0m \u001b[1m0s\u001b[0m 12ms/step - loss: 121.5793 - val_loss: 75.6790\n",
            "Epoch 8/20\n",
            "\u001b[1m22/22\u001b[0m \u001b[32m━━━━━━━━━━━━━━━━━━━━\u001b[0m\u001b[37m\u001b[0m \u001b[1m0s\u001b[0m 14ms/step - loss: 88.7322 - val_loss: 59.5086\n",
            "Epoch 9/20\n",
            "\u001b[1m22/22\u001b[0m \u001b[32m━━━━━━━━━━━━━━━━━━━━\u001b[0m\u001b[37m\u001b[0m \u001b[1m0s\u001b[0m 13ms/step - loss: 65.9495 - val_loss: 49.3145\n",
            "Epoch 10/20\n",
            "\u001b[1m22/22\u001b[0m \u001b[32m━━━━━━━━━━━━━━━━━━━━\u001b[0m\u001b[37m\u001b[0m \u001b[1m0s\u001b[0m 8ms/step - loss: 51.0837 - val_loss: 42.3765\n",
            "Epoch 11/20\n",
            "\u001b[1m22/22\u001b[0m \u001b[32m━━━━━━━━━━━━━━━━━━━━\u001b[0m\u001b[37m\u001b[0m \u001b[1m0s\u001b[0m 8ms/step - loss: 41.0965 - val_loss: 37.8432\n",
            "Epoch 12/20\n",
            "\u001b[1m22/22\u001b[0m \u001b[32m━━━━━━━━━━━━━━━━━━━━\u001b[0m\u001b[37m\u001b[0m \u001b[1m0s\u001b[0m 6ms/step - loss: 34.1309 - val_loss: 34.8967\n",
            "Epoch 13/20\n",
            "\u001b[1m22/22\u001b[0m \u001b[32m━━━━━━━━━━━━━━━━━━━━\u001b[0m\u001b[37m\u001b[0m \u001b[1m0s\u001b[0m 5ms/step - loss: 29.0009 - val_loss: 32.7171\n",
            "Epoch 14/20\n",
            "\u001b[1m22/22\u001b[0m \u001b[32m━━━━━━━━━━━━━━━━━━━━\u001b[0m\u001b[37m\u001b[0m \u001b[1m0s\u001b[0m 5ms/step - loss: 25.1165 - val_loss: 30.9424\n",
            "Epoch 15/20\n",
            "\u001b[1m22/22\u001b[0m \u001b[32m━━━━━━━━━━━━━━━━━━━━\u001b[0m\u001b[37m\u001b[0m \u001b[1m0s\u001b[0m 5ms/step - loss: 22.0443 - val_loss: 29.4429\n",
            "Epoch 16/20\n",
            "\u001b[1m22/22\u001b[0m \u001b[32m━━━━━━━━━━━━━━━━━━━━\u001b[0m\u001b[37m\u001b[0m \u001b[1m0s\u001b[0m 6ms/step - loss: 19.5408 - val_loss: 28.1540\n",
            "Epoch 17/20\n",
            "\u001b[1m22/22\u001b[0m \u001b[32m━━━━━━━━━━━━━━━━━━━━\u001b[0m\u001b[37m\u001b[0m \u001b[1m0s\u001b[0m 8ms/step - loss: 17.5168 - val_loss: 27.0285\n",
            "Epoch 18/20\n",
            "\u001b[1m22/22\u001b[0m \u001b[32m━━━━━━━━━━━━━━━━━━━━\u001b[0m\u001b[37m\u001b[0m \u001b[1m0s\u001b[0m 6ms/step - loss: 15.8873 - val_loss: 26.0389\n",
            "Epoch 19/20\n",
            "\u001b[1m22/22\u001b[0m \u001b[32m━━━━━━━━━━━━━━━━━━━━\u001b[0m\u001b[37m\u001b[0m \u001b[1m0s\u001b[0m 9ms/step - loss: 14.5240 - val_loss: 25.0617\n",
            "Epoch 20/20\n",
            "\u001b[1m22/22\u001b[0m \u001b[32m━━━━━━━━━━━━━━━━━━━━\u001b[0m\u001b[37m\u001b[0m \u001b[1m0s\u001b[0m 9ms/step - loss: 13.4064 - val_loss: 24.1107\n",
            "\u001b[1m5/5\u001b[0m \u001b[32m━━━━━━━━━━━━━━━━━━━━\u001b[0m\u001b[37m\u001b[0m \u001b[1m0s\u001b[0m 12ms/step - loss: 26.7114\n",
            "\u001b[1m5/5\u001b[0m \u001b[32m━━━━━━━━━━━━━━━━━━━━\u001b[0m\u001b[37m\u001b[0m \u001b[1m1s\u001b[0m 99ms/step\n",
            "\n",
            "Final Training Loss: 13.1869\n",
            "Final Validation Loss: 24.1107\n",
            "Test Loss: 27.0254\n"
          ]
        }
      ]
    },
    {
      "cell_type": "code",
      "source": [
        "plt.plot(history.history[\"loss\"], label=\"Training Loss\")\n",
        "plt.plot(history.history[\"val_loss\"], label=\"Validation Loss\")\n",
        "plt.xlabel(\"Epoch\")\n",
        "plt.ylabel(\"MSE Loss\")\n",
        "plt.title(\"Training vs Validation Loss\")\n",
        "plt.legend()\n",
        "plt.grid(True)\n",
        "plt.show()\n"
      ],
      "metadata": {
        "colab": {
          "base_uri": "https://localhost:8080/",
          "height": 481
        },
        "id": "6mKlzglIVxb-",
        "outputId": "f5d36a2b-5c33-455e-bb39-f087612597a0"
      },
      "execution_count": 6,
      "outputs": [
        {
          "output_type": "display_data",
          "data": {
            "text/plain": [
              "<Figure size 640x480 with 1 Axes>"
            ],
            "image/png": "[encoded data removed]"
          },
          "metadata": {}
        }
      ]
    },
    {
      "cell_type": "markdown",
      "source": [
        "#Custom Training Loops"
      ],
      "metadata": {
        "id": "5J_0AOrmV5HG"
      }
    },
    {
      "cell_type": "code",
      "source": [
        "import tensorflow as tf\n",
        "from tensorflow import keras\n",
        "import numpy as np\n",
        "import matplotlib.pyplot as plt\n",
        "from sklearn.datasets import make_regression\n",
        "from sklearn.model_selection import train_test_split\n",
        "from sklearn.preprocessing import StandardScaler\n",
        "\n",
        "# Dataset dummy regresi\n",
        "X, y = make_regression(n_samples=1000, n_features=4, noise=0.1)\n",
        "X_train, X_temp, y_train, y_temp = train_test_split(X, y, test_size=0.3, random_state=42)\n",
        "X_valid, X_test, y_valid, y_test = train_test_split(X_temp, y_temp, test_size=0.5)\n",
        "scaler = StandardScaler()\n",
        "X_train_scaled = scaler.fit_transform(X_train)\n",
        "X_valid_scaled = scaler.transform(X_valid)\n",
        "X_test_scaled = scaler.transform(X_test)\n",
        "\n",
        "# Model sederhana dengan L2 regularization\n",
        "keras.backend.clear_session()\n",
        "np.random.seed(42)\n",
        "tf.random.set_seed(42)\n",
        "\n",
        "l2_reg = keras.regularizers.l2(0.05)\n",
        "model = keras.models.Sequential([\n",
        "    keras.layers.Input(shape=(X.shape[1],)),\n",
        "    keras.layers.Dense(30, activation=\"elu\", kernel_initializer=\"he_normal\", kernel_regularizer=l2_reg),\n",
        "    keras.layers.Dense(1, kernel_regularizer=l2_reg)\n",
        "])\n",
        "\n",
        "# Hyperparameters dan setup\n",
        "n_epochs = 20\n",
        "batch_size = 32\n",
        "n_steps = len(X_train_scaled) // batch_size\n",
        "optimizer = keras.optimizers.Nadam(learning_rate=0.01)\n",
        "loss_fn = keras.losses.MeanSquaredError()\n",
        "\n",
        "# Progress bar + logging\n",
        "from tqdm.notebook import trange\n",
        "from collections import OrderedDict\n",
        "\n",
        "train_loss_log, train_mae_log = [], []\n",
        "\n",
        "for epoch in trange(1, n_epochs + 1, desc=\"All Epochs\"):\n",
        "    mean_loss = keras.metrics.Mean()\n",
        "    mean_mae = keras.metrics.MeanAbsoluteError()\n",
        "\n",
        "    for step in trange(1, n_steps + 1, desc=f\"Epoch {epoch}/{n_epochs}\", leave=False):\n",
        "        idx = np.random.randint(len(X_train_scaled), size=batch_size)\n",
        "        X_batch, y_batch = X_train_scaled[idx], y_train[idx]\n",
        "\n",
        "        with tf.GradientTape() as tape:\n",
        "            y_pred = model(X_batch, training=True)\n",
        "            main_loss = tf.reduce_mean(loss_fn(y_batch, y_pred))\n",
        "            loss = tf.add_n([main_loss] + model.losses)\n",
        "\n",
        "        grads = tape.gradient(loss, model.trainable_variables)\n",
        "        optimizer.apply_gradients(zip(grads, model.trainable_variables))\n",
        "\n",
        "        mean_loss.update_state(loss)\n",
        "        mean_mae.update_state(y_batch, y_pred)\n",
        "\n",
        "    # Logging per epoch\n",
        "    train_loss_log.append(mean_loss.result().numpy())\n",
        "    train_mae_log.append(mean_mae.result().numpy())\n",
        "\n",
        "# Kompilasi model agar bisa dievaluasi dengan evaluate()\n",
        "model.compile(loss=keras.losses.MeanSquaredError(),\n",
        "              metrics=[keras.metrics.MeanAbsoluteError()])\n",
        "\n",
        "# Evaluasi pada validation dan test set\n",
        "val_loss, val_mae = model.evaluate(X_valid_scaled, y_valid, verbose=0)\n",
        "test_loss, test_mae = model.evaluate(X_test_scaled, y_test, verbose=0)\n",
        "\n",
        "# Hasil evaluasi\n",
        "print(\"\\n--- Evaluation ---\")\n",
        "print(f\"Final Training Loss (MSE): {train_loss_log[-1]:.4f}\")\n",
        "print(f\"Final Training MAE: {train_mae_log[-1]:.4f}\")\n",
        "print(f\"Validation Loss (MSE): {val_loss:.4f}\")\n",
        "print(f\"Test Loss (MSE): {test_loss:.4f}\")\n"
      ],
      "metadata": {
        "colab": {
          "base_uri": "https://localhost:8080/",
          "height": 153,
          "referenced_widgets": [
            "e8d7f75397474e7999cc57331c9a81c7",
            "efacc0a8010e47488e1e1af184a6486c",
            "9126a923fa07444482152712955c75cc",
            "aa5d9a3fa7f9434b9474d3d4379f39a2",
            "db619ba284b54e1d8c7dbd1ea729d532",
            "6e3039d533044764bfff8ab443bdc905",
            "9c482869b64a45a58c7767a780df15f9",
            "5f3031ff6990472f908b894b0cf8ba18",
            "312d1cb319e54bb6b7a72ff9a97c3f49",
            "16a4867b229d4e8081f5acaf44f50da2",
            "c3fd796ab0284523a020388fcf94714a",
            "d997a34c43f14add858314aa2cee76a0",
            "c31295ea060f44198aded60c591f53e0",
            "c8381fcb4ab5497ba764759272595e0d",
            "388d7cc88aef42a292d7e0b183f322c4",
            "11c02f3416b64034a59d641475ff8dd9",
            "f5d77835e4d6447db729c8cb4bdefacc",
            "a3c1dd1300e4449a8070c337acd3fb58",
            "d5c1064d8cf447d1be2436efde543329",
            "a5b32c11839b4ae69b7d7af5e56c6dc1",
            "85c453e846494cfdb539b97a301f8337",
            "dcc77de2a0e74f5ca9fcae3c4431b34f",
            "fa3ec0cf70b14992b30bee221b018b0f",
            "7e4904cd56034e4cad8904c00a74e019",
            "068fdeab0f1f436b98581a5b6dd92f4b",
            "2394efc0329b4bd9840ad4557e6a8637",
            "731447ff822a4370b1c1f81c199ba88d",
            "02faa3bc638847219fb0da3523e9df9e",
            "6bd6c11018f54f9a99dcb3ff93a622d7",
            "67d6660bf676431f8f2967cb070470cb",
            "a11e435def2c445fbca4aedc09981ede",
            "5bc650bfde7f4edba3b567201c4c8d9e",
            "b0d7d97c26214bd7aedf35bd28737cd0",
            "77c3363623384a41ac50c6ef8db5c2de",
            "c71b735c21864896b95287ff1f1b1349",
            "d1c58e7dff4544b591fd66609cc8d6e1",
            "267beeb33bdf4c24a65e999a76de2d01",
            "e9c64ba57fde410b98ae8d1dfa852486",
            "80639a2fddaa4318ac3100fd4139edbd",
            "4562d0d038f74319a8e562bd0b68e4be",
            "d1f03a2579024b9294ecbe01ad96da59",
            "c5f950e2a45042b0ac00e3ed1ad0487e",
            "c5f6b9a5a93a4f1aaf139873ca49ba75",
            "953d8d0519e64854953517638a6992d6",
            "26163f1e1e634266b8592914c56cf885",
            "657f209dce684b6084be7652a114c8ae",
            "9a1e26e688a646bc802d4749fb004601",
            "7420ebfd40e849b491042ad4e9b209e7",
            "cf533fe9481b48b6a6c8e4076279719e",
            "514a95ebbcba4670b6a03aa241528cb5",
            "0d3b5510df6749e4bc0c1893a8030747",
            "e32314b7572c4c8a98c648e167d4d3ce",
            "c4597bef3f504805a9de85e21ddae12b",
            "62f03d74d8ef4c8784e7c53303c67f6e",
            "44f70d3a2a5b4974b515378ef249352b",
            "78a913c8e538463ead22c065e9d16f3d",
            "f26d2b6da3bc4ddab2d228dfb2bc491e",
            "f7f5c587b06a40ff82a7144f293ef8a5",
            "a16ed561921e464d938c1ba9a5e198f8",
            "535a9bae832c4e29a8ffca9c652577f6",
            "3cf4740a7ad243b983e3122082567183",
            "88f5f5d5a2344bec8a009c84759e0eb8",
            "82fd5e1f417a4a5e8074e05fd5759f00",
            "7aa2e0bef05044379d37b5344e35e575",
            "62e7066065814da2a2e02915a7e39655",
            "cdcea2db296e4d3ab931d96a4c0e0bcd",
            "3369aebd9ea64cadbb05bb802bb3d3a8",
            "98584d49d4844aefba943117c4038fa2",
            "bd5072ac2f834992913cbcc81434ed33",
            "e879ed0b8d9f4e2293923a85ee05080d",
            "c86e0efb93534e57b3ebc6fe84d18c8a",
            "8bd3e73b8e9a41588062f1c6eaba981a",
            "fe7f9f8815f74fe89ada69a5377bdf5e",
            "7fd2c7f6ef064bb5b9494990f7509f34",
            "ade145db6ff8448fa73fd77efbf22a38",
            "95144a5ecbc64cceb8ad96a85be481cf",
            "952ec64a98d64989b80e070c54b1f12c",
            "d22c4bd479554528a60c112c408e2919",
            "b3740be5835747d3b54cc5b9ea429ee6",
            "f2c575158d28460e96cba2027a216046",
            "15fddd1b844644f29488d9d8f8a69d9c",
            "dd960dfdd5d040dca205ded3f8e22e5c",
            "e9b70c1b834e45bdb1f6894c686264f1",
            "491b757f91964b6089a3f3c9865d6d9f",
            "e877edc4d169402bbee25f3410f32fb8",
            "8f2ecf7f3d01491e871886d5743410b0",
            "63e4684465b94743a86c66319a1df809",
            "6dea9d910cae4d1495d99280a5288075",
            "3e8796663a8e400eb0ee4545b9bc5045",
            "b3293286323a43c09670c25f233b4b19",
            "e37635ad9fee4291afb5cd3273c1833d",
            "52553cfcb16e4c478e25ef48812a8a94",
            "3b617f4f0525462690763eaa3c881b59",
            "33844e55e3044aa8a5f5c1998681fbbd",
            "e5791e4e6e074846acd73fe8d0b3fdbf",
            "ec7d32d09c22416daeba7b952aba086d",
            "84d8f70bdb9e4a57beb93afa6e04953d",
            "6d5122f2a0dd474d9eac989767ee346c",
            "f2143493f2374c5894d095d8fddb3bfa",
            "274674c49caa4f8b929aebb009ac90e9",
            "7037868b2f364388b1ec9a1a09fd16b3",
            "2c0afc1ff01646fe9dd8550ec27226e8",
            "ecab096b84a74c13a29f87ffd01f581c",
            "e9b0a2ff36ed4b1b8cf67987ebeead2e",
            "8770db72af254f1ba4e941e81062c29d",
            "2d50013e2ab742fa9b462297b8ccf151",
            "4f2d337232434617a7af7e0860079492",
            "11c24d499c404903abdf11f4b1f459c8",
            "f99c6eae92c1416fb24bc7acbea831b8",
            "32d90a94e7ca440f94264dc28831ac85",
            "5a7ad1a17a4343349a8547ae9aefc0b2",
            "8698d52a878947a6a0b453890158d149",
            "2cf8355fc080413e992c111c4841805a",
            "e9dc5703b7714f3a945e386a4f8cbbbf",
            "e918e87579af460e82dbd75e98a0f066",
            "6b481acf8ed24c64be460a35c5e6a34d",
            "c7f63d31037e49dc8d3b5fa6af461af6",
            "b30ea50894074283a62dc13c20c446a7",
            "86dbdca2bdad42f5a69222f0c53cdd31",
            "8d8775b534de46fb83532efac8306ab6",
            "0dddd762fdf947f98d360d18f23848bb",
            "4d63d2a83fbd45ebbabff9d3ae74ace9",
            "1fbb62372a964603898e28a620604edd",
            "3c207ac7256049008393d46c2850f383",
            "5ac459280ca24fcc9788e38ae9efc549",
            "84c62b0749824f538d766a1a52d923f0",
            "c0201e2431464438b1deb51370ae3f26",
            "cd3eaf3ad3e24e58b31058f33aa0c44a",
            "561bfeabb41341cbb3b5410f7432fd98",
            "3482ffadab6743e2b75770e1899d2eae",
            "643740181ed5410896370592191b401a",
            "adba1fadcaf0480799b6efb602a42698",
            "eec966ba56914d2891e1ff02b92ea2a7",
            "c18039755c2c423986f718aba457ba49",
            "e56c267aa7714feb80cbbe3f5b3c91ad",
            "78559fa14d1a445db254909858e58870",
            "1b69eef5676349c894b69b91c235cc93",
            "40bdd08ac0c24710a563face4426ea9b",
            "0df41b4e5cf148c1bd0282a66ebfcb58",
            "99b18531d71c4fff8d47c733faf4c5b5",
            "81849cf891934c6f973bcba32aef5324",
            "8360a38090734d8b9e1ec2f3dc0aa674",
            "42bcbe71b7c5465d9021cbf3c9b5f587",
            "083e71c901da4f96b54316265709fbeb",
            "ad038cc2f7994d0a8d8d6d0e3a85fbb4",
            "0763b760937e4d5b805d02469084d088",
            "fc38a9efa4954a138b534e7ed5aaa616",
            "627ec00794fc48deaf67879870c1fee3",
            "ce1e7633bdcd48ca95dcea2478f55b96",
            "9645ff466c104081a0e6ce0eb2d3ea55",
            "537a149ff727471e9bc78f902ae16400",
            "0381db8b3b844496a2d66e8f5a47551c",
            "7246a0e482a649eba602aed06e7c57dc",
            "c204bd2d86ac4b2b897038edb042d44b",
            "79679525898b42308ebdf2e387ca0c91",
            "1db0b235f270414698432877914123dd",
            "9713e2bf966a42f4b7bc02d208a9436e",
            "9d99ec6fb5b34de4bd43e5e479a06e6a",
            "bdba8534eb30467196fc7d8a63d36b15",
            "3213fd9e679340eb9d25140ba3ccfd51",
            "2329ba55afd54bb18c8dca7fafbc315f",
            "0e9e380e1c224da4959274f63abdd3af",
            "95515ec11e58464e8c3a0d2aea0229c3",
            "4da76a899a6144f986221dd672395b38",
            "b99a46f103294d62aca26327d9e6a355",
            "9ea514a20941440a8bb348016c2f575e",
            "52b2ac3b9378453184f8aea29c949929",
            "c0400e2d023349f58011bc6961708d0b",
            "ed0de181c5104273b3579f976f4ba40c",
            "1757e23e6a0446d48d237a8117e3bf35",
            "358d3ec07c114d7687e9c5d0a407bc65",
            "7faa696c97ca4894a7e16007a3f61d1e",
            "c52c44ae84b04015ba4e76ed854aa64e",
            "07831ec236e44143b6acd7f801ceef21",
            "f411481829f04321897401aec96081f3",
            "8557913f3bcd411394149abaf7d545bf",
            "be72eebe378f41bf84f12194962cc768",
            "1da0fe67407b41839af71d53ebd3b76d",
            "48b598c5cbf84b359e08533c4765b398",
            "21a6c0256c78436fb2b14ab64d3edf7e",
            "18a3e1c7bc40475f92f786c036810529",
            "d8009fa65cda4b768426d7582657b98d",
            "3c548caa1d194f12812d2d16fa302d94",
            "af02b6daeb9a4f64b68dc4c23c4e3a67",
            "161a9c9e36d1424ba23571804534ae87",
            "faf9881b77e04f6981629c5e94915486",
            "5b4c5ac62de8460da42152da9e8cee3e",
            "ec22ebf9183d47788815755ceff1c312",
            "b78418627afc4ce6ab347f78e033f2d1",
            "6dcfd4135e1f4aa887dd6ad236c275df",
            "4589d0c1fc5243d6b8250db894470a92",
            "81c5adc335654f0a935d6ce4849f3328",
            "ffad7bb0ea104084a6209b13ed1924cd",
            "6a87dbcad9d241ec98109afd6056ff65",
            "5509a613c0bb4bd797076d76b4e7b2dc",
            "5eddd0860e20477e9aff9f174325b9be",
            "91040ce7e7d44469a446005cfa50f8f6",
            "f9bfc029757f4c439fe23202481fce1d",
            "897ea14db8194f71983a1b85ec7ba198",
            "780290b1ff504a70ac79ced405355235",
            "559e706b4cea4170af72736e7ba51c98",
            "0e835266f55a4579b83ddbd70ba9e11c",
            "eab1b260f5dd4ad7b86af889163c2314",
            "4f1183a0330343d68ed0209930824c63",
            "b4bd7133ccae4a6795e1cd6670e877e9",
            "f8f3fda37eb14558bbc86a20d19a86f0",
            "80d53265877746c0960cea57e10f86ac",
            "24ce0985d6634b9e915fb17f0720c932",
            "d6fc69fa9ea74888a181e8c44fdc8ef8",
            "74e7dcb3ed6c40bcb06b1825a7947f94",
            "5668f1441e744c12b3e1808945b55300",
            "4b8e4f17011a4d6987ef552a7bebb2b0",
            "3b33ab0271104a0ab837dec45e5a371d",
            "d060278bff294ef0bf33a96da032b504",
            "f60f5a9386a44d588f417b4f74ac15ce",
            "2b56a48be29e49f58dbefbed37bd649b",
            "e37f985a71d846abb5ffd6cac9b55431",
            "450c0084a46d4d989a3f84ed73d41250",
            "73d8891da02d40ce800bcfaeede26d6e",
            "8daf85af19514e17b5eb5a080b2fb37b",
            "06c7c03fab384bce98dc93bb4089c99e",
            "e2d005356e3348e9a52566752db79e81",
            "f3c13efe024742558fa2377bfd382419",
            "ab2f4210b30f41738e7722c0b8bf0e3c",
            "656b1ec061ad46ca8ab2e37c20c5058c",
            "c68d45bf21cf4c2ca13c37a6d8291bf0",
            "b3efee40bd944723babb1f3f086dfd26",
            "08bc367e36de4c3c8efeca0295e1bbda",
            "86392c6e86864d74bae064c8cbbe054c",
            "361d442e48fa40a8a9f4f4b6353adb10",
            "89114e6119c84dd0818262d4fbf22bcf"
          ]
        },
        "id": "hyelYRPPWXbD",
        "outputId": "77867166-678e-4c41-b99a-5ba6a4661690"
      },
      "execution_count": 10,
      "outputs": [
        {
          "output_type": "display_data",
          "data": {
            "text/plain": [
              "All Epochs:   0%|          | 0/20 [00:00<?, ?it/s]"
            ],
            "application/vnd.jupyter.widget-view+json": {
              "version_major": 2,
              "version_minor": 0,
              "model_id": "e8d7f75397474e7999cc57331c9a81c7"
            }
          },
          "metadata": {}
        },
        {
          "output_type": "display_data",
          "data": {
            "text/plain": [
              "Epoch 1/20:   0%|          | 0/21 [00:00<?, ?it/s]"
            ],
            "application/vnd.jupyter.widget-view+json": {
              "version_major": 2,
              "version_minor": 0,
              "model_id": "d997a34c43f14add858314aa2cee76a0"
            }
          },
          "metadata": {}
        },
        {
          "output_type": "display_data",
          "data": {
            "text/plain": [
              "Epoch 2/20:   0%|          | 0/21 [00:00<?, ?it/s]"
            ],
            "application/vnd.jupyter.widget-view+json": {
              "version_major": 2,
              "version_minor": 0,
              "model_id": "fa3ec0cf70b14992b30bee221b018b0f"
            }
          },
          "metadata": {}
        },
        {
          "output_type": "display_data",
          "data": {
            "text/plain": [
              "Epoch 3/20:   0%|          | 0/21 [00:00<?, ?it/s]"
            ],
            "application/vnd.jupyter.widget-view+json": {
              "version_major": 2,
              "version_minor": 0,
              "model_id": "77c3363623384a41ac50c6ef8db5c2de"
            }
          },
          "metadata": {}
        },
        {
          "output_type": "display_data",
          "data": {
            "text/plain": [
              "Epoch 4/20:   0%|          | 0/21 [00:00<?, ?it/s]"
            ],
            "application/vnd.jupyter.widget-view+json": {
              "version_major": 2,
              "version_minor": 0,
              "model_id": "26163f1e1e634266b8592914c56cf885"
            }
          },
          "metadata": {}
        },
        {
          "output_type": "display_data",
          "data": {
            "text/plain": [
              "Epoch 5/20:   0%|          | 0/21 [00:00<?, ?it/s]"
            ],
            "application/vnd.jupyter.widget-view+json": {
              "version_major": 2,
              "version_minor": 0,
              "model_id": "78a913c8e538463ead22c065e9d16f3d"
            }
          },
          "metadata": {}
        },
        {
          "output_type": "display_data",
          "data": {
            "text/plain": [
              "Epoch 6/20:   0%|          | 0/21 [00:00<?, ?it/s]"
            ],
            "application/vnd.jupyter.widget-view+json": {
              "version_major": 2,
              "version_minor": 0,
              "model_id": "3369aebd9ea64cadbb05bb802bb3d3a8"
            }
          },
          "metadata": {}
        },
        {
          "output_type": "display_data",
          "data": {
            "text/plain": [
              "Epoch 7/20:   0%|          | 0/21 [00:00<?, ?it/s]"
            ],
            "application/vnd.jupyter.widget-view+json": {
              "version_major": 2,
              "version_minor": 0,
              "model_id": "d22c4bd479554528a60c112c408e2919"
            }
          },
          "metadata": {}
        },
        {
          "output_type": "display_data",
          "data": {
            "text/plain": [
              "Epoch 8/20:   0%|          | 0/21 [00:00<?, ?it/s]"
            ],
            "application/vnd.jupyter.widget-view+json": {
              "version_major": 2,
              "version_minor": 0,
              "model_id": "3e8796663a8e400eb0ee4545b9bc5045"
            }
          },
          "metadata": {}
        },
        {
          "output_type": "display_data",
          "data": {
            "text/plain": [
              "Epoch 9/20:   0%|          | 0/21 [00:00<?, ?it/s]"
            ],
            "application/vnd.jupyter.widget-view+json": {
              "version_major": 2,
              "version_minor": 0,
              "model_id": "274674c49caa4f8b929aebb009ac90e9"
            }
          },
          "metadata": {}
        },
        {
          "output_type": "display_data",
          "data": {
            "text/plain": [
              "Epoch 10/20:   0%|          | 0/21 [00:00<?, ?it/s]"
            ],
            "application/vnd.jupyter.widget-view+json": {
              "version_major": 2,
              "version_minor": 0,
              "model_id": "5a7ad1a17a4343349a8547ae9aefc0b2"
            }
          },
          "metadata": {}
        },
        {
          "output_type": "display_data",
          "data": {
            "text/plain": [
              "Epoch 11/20:   0%|          | 0/21 [00:00<?, ?it/s]"
            ],
            "application/vnd.jupyter.widget-view+json": {
              "version_major": 2,
              "version_minor": 0,
              "model_id": "4d63d2a83fbd45ebbabff9d3ae74ace9"
            }
          },
          "metadata": {}
        },
        {
          "output_type": "display_data",
          "data": {
            "text/plain": [
              "Epoch 12/20:   0%|          | 0/21 [00:00<?, ?it/s]"
            ],
            "application/vnd.jupyter.widget-view+json": {
              "version_major": 2,
              "version_minor": 0,
              "model_id": "eec966ba56914d2891e1ff02b92ea2a7"
            }
          },
          "metadata": {}
        },
        {
          "output_type": "display_data",
          "data": {
            "text/plain": [
              "Epoch 13/20:   0%|          | 0/21 [00:00<?, ?it/s]"
            ],
            "application/vnd.jupyter.widget-view+json": {
              "version_major": 2,
              "version_minor": 0,
              "model_id": "083e71c901da4f96b54316265709fbeb"
            }
          },
          "metadata": {}
        },
        {
          "output_type": "display_data",
          "data": {
            "text/plain": [
              "Epoch 14/20:   0%|          | 0/21 [00:00<?, ?it/s]"
            ],
            "application/vnd.jupyter.widget-view+json": {
              "version_major": 2,
              "version_minor": 0,
              "model_id": "79679525898b42308ebdf2e387ca0c91"
            }
          },
          "metadata": {}
        },
        {
          "output_type": "display_data",
          "data": {
            "text/plain": [
              "Epoch 15/20:   0%|          | 0/21 [00:00<?, ?it/s]"
            ],
            "application/vnd.jupyter.widget-view+json": {
              "version_major": 2,
              "version_minor": 0,
              "model_id": "9ea514a20941440a8bb348016c2f575e"
            }
          },
          "metadata": {}
        },
        {
          "output_type": "display_data",
          "data": {
            "text/plain": [
              "Epoch 16/20:   0%|          | 0/21 [00:00<?, ?it/s]"
            ],
            "application/vnd.jupyter.widget-view+json": {
              "version_major": 2,
              "version_minor": 0,
              "model_id": "be72eebe378f41bf84f12194962cc768"
            }
          },
          "metadata": {}
        },
        {
          "output_type": "display_data",
          "data": {
            "text/plain": [
              "Epoch 17/20:   0%|          | 0/21 [00:00<?, ?it/s]"
            ],
            "application/vnd.jupyter.widget-view+json": {
              "version_major": 2,
              "version_minor": 0,
              "model_id": "ec22ebf9183d47788815755ceff1c312"
            }
          },
          "metadata": {}
        },
        {
          "output_type": "display_data",
          "data": {
            "text/plain": [
              "Epoch 18/20:   0%|          | 0/21 [00:00<?, ?it/s]"
            ],
            "application/vnd.jupyter.widget-view+json": {
              "version_major": 2,
              "version_minor": 0,
              "model_id": "897ea14db8194f71983a1b85ec7ba198"
            }
          },
          "metadata": {}
        },
        {
          "output_type": "display_data",
          "data": {
            "text/plain": [
              "Epoch 19/20:   0%|          | 0/21 [00:00<?, ?it/s]"
            ],
            "application/vnd.jupyter.widget-view+json": {
              "version_major": 2,
              "version_minor": 0,
              "model_id": "74e7dcb3ed6c40bcb06b1825a7947f94"
            }
          },
          "metadata": {}
        },
        {
          "output_type": "display_data",
          "data": {
            "text/plain": [
              "Epoch 20/20:   0%|          | 0/21 [00:00<?, ?it/s]"
            ],
            "application/vnd.jupyter.widget-view+json": {
              "version_major": 2,
              "version_minor": 0,
              "model_id": "06c7c03fab384bce98dc93bb4089c99e"
            }
          },
          "metadata": {}
        },
        {
          "output_type": "stream",
          "name": "stdout",
          "text": [
            "\n",
            "--- Evaluation ---\n",
            "Final Training Loss (MSE): 82.5623\n",
            "Final Training MAE: 5.9140\n",
            "Validation Loss (MSE): 85.3691\n",
            "Test Loss (MSE): 143.7322\n"
          ]
        }
      ]
    },
    {
      "cell_type": "code",
      "source": [
        "epochs = range(1, n_epochs + 1)\n",
        "\n",
        "plt.figure(figsize=(12, 4))\n",
        "\n",
        "# Plot Loss\n",
        "plt.subplot(1, 2, 1)\n",
        "plt.plot(epochs, train_loss_log, label=\"Train Loss (MSE)\")\n",
        "plt.title(\"Training Loss per Epoch\")\n",
        "plt.xlabel(\"Epoch\")\n",
        "plt.ylabel(\"Loss\")\n",
        "plt.grid(True)\n",
        "plt.legend()\n",
        "\n",
        "# Plot MAE\n",
        "plt.subplot(1, 2, 2)\n",
        "plt.plot(epochs, train_mae_log, label=\"Train MAE\", color='orange')\n",
        "plt.title(\"Training MAE per Epoch\")\n",
        "plt.xlabel(\"Epoch\")\n",
        "plt.ylabel(\"MAE\")\n",
        "plt.grid(True)\n",
        "plt.legend()\n",
        "\n",
        "plt.tight_layout()\n",
        "plt.show()\n"
      ],
      "metadata": {
        "colab": {
          "base_uri": "https://localhost:8080/",
          "height": 407
        },
        "id": "wLYoZxx2Wz3D",
        "outputId": "0688cec3-4f7b-48b2-e6fd-5aef7808fba1"
      },
      "execution_count": 11,
      "outputs": [
        {
          "output_type": "display_data",
          "data": {
            "text/plain": [
              "<Figure size 1200x400 with 2 Axes>"
            ],
            "image/png": "[encoded data removed]"
          },
          "metadata": {}
        }
      ]
    },
    {
      "cell_type": "markdown",
      "source": [
        "#  Ringkasan Proses Manual Training Loop dengan Keras\n",
        "\n",
        "##  Tahapan Utama\n",
        "\n",
        "- **1. Dataset & Preprocessing**\n",
        "  - Data dibuat menggunakan `make_regression()` dari scikit-learn.\n",
        "  - Data dibagi menjadi training, validation, dan test set.\n",
        "  - Fitur distandarisasi menggunakan `StandardScaler`.\n",
        "\n",
        "- **2. Model Arsitektur**\n",
        "  - Model `Sequential` berisi dua layer Dense:\n",
        "    - Layer pertama menggunakan aktivasi `elu` dan `kernel_initializer=\"he_normal\"`.\n",
        "    - Regularisasi L2 (`l2(0.05)`) diterapkan untuk mencegah overfitting.\n",
        "  - Model tidak langsung dikompilasi karena akan dilatih secara manual.\n",
        "\n",
        "- **3. Custom Training Loop**\n",
        "  - Menggunakan loop `for` untuk mengontrol proses pelatihan per batch dan per epoch.\n",
        "  - Fungsi `GradientTape()` digunakan untuk menghitung dan menerapkan gradien.\n",
        "  - Metrik `Mean()` dan `MeanAbsoluteError()` digunakan untuk memantau performa.\n",
        "  - `tqdm` digunakan untuk menampilkan progress bar pelatihan.\n",
        "\n",
        "- **4. Evaluasi**\n",
        "  - Setelah training selesai, model dikompilasi ulang dengan loss dan metrik untuk evaluasi (`evaluate()`).\n",
        "  - Evaluasi dilakukan terhadap validation dan test set.\n",
        "\n",
        "- **5. Visualisasi**\n",
        "  - Loss (MSE) dan MAE per epoch diplot untuk memantau learning curve.\n",
        "\n",
        "---\n",
        "\n",
        "##  Kesimpulan\n",
        "\n",
        "- Model berhasil dilatih menggunakan loop manual dan menunjukkan performa yang stabil.\n",
        "- `Training Loss (MSE)` dan `MAE` menurun secara bertahap selama epoch.\n",
        "- Evaluasi pada validation dan test menunjukkan bahwa model **tidak overfitting** dan mampu generalisasi dengan baik.\n",
        "- Pendekatan ini memberi fleksibilitas tinggi untuk eksperimen lanjutan (misalnya custom regularisasi, scheduler, dsb).\n",
        "\n"
      ],
      "metadata": {
        "id": "31rdQx3sW0s3"
      }
    }
  ]
}
